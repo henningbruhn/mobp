{
 "cells": [
  {
   "cell_type": "markdown",
   "metadata": {},
   "source": [
    "# Projektplanung als Ganzzahlprogramm\n",
    "\n",
    "Ein Projektplanungsproblem als Ganzzahlprogramm modelliert, siehe Abschnitt 3.7)"
   ]
  },
  {
   "cell_type": "code",
   "execution_count": null,
   "metadata": {},
   "outputs": [],
   "source": [
    "# Zum Installieren in google colab, entfernen Sie die Raute in der nächsten Zeile\n",
    "#!pip install mip"
   ]
  },
  {
   "cell_type": "code",
   "execution_count": 1,
   "metadata": {},
   "outputs": [],
   "source": [
    "import random\n",
    "import mip"
   ]
  },
  {
   "cell_type": "markdown",
   "metadata": {},
   "source": [
    "Wir definieren eine Methode, um Zufallsinstanzen zu erzeugen. Neben der Anzahl der Projekte und der Anzahl der Berater wird noch eine Wahrscheinlichkeit übergeben. Bei jedem Berater:in wird zufällig bestimmt, ob er oder sie die nötige Kompetenz für das jeweilige Projekt hat. "
   ]
  },
  {
   "cell_type": "code",
   "execution_count": 2,
   "metadata": {},
   "outputs": [
    {
     "data": {
      "text/plain": [
       "([41000, 37000, 36000, 18000], [[1, 0, 0, 1], [1, 1, 0, 1], [0, 0, 1, 0]])"
      ]
     },
     "execution_count": 2,
     "metadata": {},
     "output_type": "execute_result"
    }
   ],
   "source": [
    "def random_instance(num_consultants,num_projects,probability):\n",
    "    profits=[random.randint(10,50)*1000 for _ in range(num_projects)]\n",
    "    competences=[[0 for _ in range(num_projects)] for _ in range(num_consultants)]\n",
    "    for a in range(num_consultants):\n",
    "        for b in range(num_projects):\n",
    "            if random.random()<=probability:\n",
    "                competences[a][b]=1\n",
    "    return profits,competences\n",
    "\n",
    "random_instance(3,4,0.5)"
   ]
  },
  {
   "cell_type": "markdown",
   "metadata": {},
   "source": [
    "Die Instanz besteht also einem Profitvektor und einer Matrix. Der Profitvektor gibt an, welcher Gewinn erzielt wird, wenn das jeweilige Projekt angenommen wird. Die Matrix gibt an, ob die Berater:innen für das Projekt geeignet sind."
   ]
  },
  {
   "cell_type": "code",
   "execution_count": 3,
   "metadata": {},
   "outputs": [],
   "source": [
    "num_consultants=13\n",
    "num_projects=6\n",
    "\n",
    "p,c=random_instance(num_consultants,num_projects,0.5)"
   ]
  },
  {
   "cell_type": "markdown",
   "metadata": {},
   "source": [
    "Wir definieren als erstes das Modell und fügen die Variablen $y_b\\in\\{0,1\\}$ und $x_{ab}\\in\\{0,1\\}$ hinzu:"
   ]
  },
  {
   "cell_type": "code",
   "execution_count": 4,
   "metadata": {},
   "outputs": [],
   "source": [
    "m=mip.Model()\n",
    "y=[m.add_var(var_type=mip.BINARY) for _ in range(num_projects)]\n",
    "x=[[m.add_var(var_type=mip.BINARY) for _ in range(num_projects)] for _ in range(num_consultants)]"
   ]
  },
  {
   "cell_type": "markdown",
   "metadata": {},
   "source": [
    "Das Ziel ist die Maximierung des Profits:\n",
    "\n",
    "$\\max \\sum_{b\\in B} y_bp_b$"
   ]
  },
  {
   "cell_type": "code",
   "execution_count": 5,
   "metadata": {},
   "outputs": [],
   "source": [
    "m.objective=mip.maximize(mip.xsum(y[b]*p[b] for b in range(num_projects)))"
   ]
  },
  {
   "cell_type": "markdown",
   "metadata": {},
   "source": [
    "Berater:innen dürfen nur in einem Projekt eingesetzt werden, für das sie die nötigen Kompetenzen mitbringen:\n",
    "\n",
    "$x_{ab}\\leq c_{ab}\\quad\\text{für alle }a\\in A,b\\in B$"
   ]
  },
  {
   "cell_type": "code",
   "execution_count": 6,
   "metadata": {},
   "outputs": [],
   "source": [
    "for a in range(num_consultants):\n",
    "    for b in range(num_projects):\n",
    "        m+=x[a][b]<=c[a][b]"
   ]
  },
  {
   "cell_type": "markdown",
   "metadata": {},
   "source": [
    "Berater:innen können nur in einem Projekt mitarbeiten:\n",
    "\n",
    "$\\sum_{b\\in B}x_{ab}\\leq 1\\quad\\text{für alle }a\\in A$"
   ]
  },
  {
   "cell_type": "code",
   "execution_count": 7,
   "metadata": {},
   "outputs": [],
   "source": [
    "for a in range(num_consultants):\n",
    "    m+=mip.xsum(x[a][b] for b in range(num_projects))<=1"
   ]
  },
  {
   "cell_type": "markdown",
   "metadata": {},
   "source": [
    "Jedes angenommene Projekt benötigt (mindestens) drei Berater:innen:\n",
    "\n",
    "$\\sum_{a\\in A}x_{ab}\\geq 3y_b\\quad\\text{für alle }b\\in B$"
   ]
  },
  {
   "cell_type": "code",
   "execution_count": 8,
   "metadata": {},
   "outputs": [],
   "source": [
    "for b in range(num_projects):\n",
    "    m+=mip.xsum(x[a][b] for a in range(num_consultants))>=3*y[b]"
   ]
  },
  {
   "cell_type": "markdown",
   "metadata": {},
   "source": [
    "Wir starten die Optimierung:"
   ]
  },
  {
   "cell_type": "code",
   "execution_count": 9,
   "metadata": {},
   "outputs": [
    {
     "data": {
      "text/plain": [
       "<OptimizationStatus.OPTIMAL: 0>"
      ]
     },
     "execution_count": 9,
     "metadata": {},
     "output_type": "execute_result"
    }
   ],
   "source": [
    "m.optimize()"
   ]
  },
  {
   "cell_type": "markdown",
   "metadata": {},
   "source": [
    "...und geben das Ergebnis aus:"
   ]
  },
  {
   "cell_type": "code",
   "execution_count": 10,
   "metadata": {},
   "outputs": [
    {
     "name": "stdout",
     "output_type": "stream",
     "text": [
      "Angenommene Projekte:\n",
      "Projekt 1\n",
      "  Berater: [0, 9, 10]\n",
      "  Profit : 36000\n",
      "Projekt 2\n",
      "  Berater: [6, 7, 11]\n",
      "  Profit : 24000\n",
      "Projekt 4\n",
      "  Berater: [1, 4, 8]\n",
      "  Profit : 30000\n",
      "Projekt 5\n",
      "  Berater: [2, 3, 12]\n",
      "  Profit : 34000\n",
      "Abgelehnte Projekte:\n",
      "  Projekt 0 mit Profit 17000\n",
      "  Projekt 3 mit Profit 12000\n",
      "------\n",
      "Gesamtprofit: 124000.0\n"
     ]
    }
   ],
   "source": [
    "realised=[b for b in range(num_projects) if y[b].x==1]\n",
    "print(\"Angenommene Projekte:\")\n",
    "for b in realised:\n",
    "    print(\"Projekt {}\".format(b))\n",
    "    consultants=[a for a in range(num_consultants) if x[a][b].x==1]\n",
    "    print(\"  Berater: {}\".format(consultants))\n",
    "    print(\"  Profit : {}\".format(p[b]))\n",
    "not_realised=[b for b in range(num_projects) if y[b].x==0]\n",
    "print(\"Abgelehnte Projekte:\")\n",
    "for b in not_realised:\n",
    "    print(\"  Projekt {} mit Profit {}\".format(b,p[b]))\n",
    "print(\"------\")\n",
    "print(\"Gesamtprofit: {}\".format(m.objective_value))"
   ]
  }
 ],
 "metadata": {
  "kernelspec": {
   "display_name": "Python 3",
   "language": "python",
   "name": "python3"
  },
  "language_info": {
   "codemirror_mode": {
    "name": "ipython",
    "version": 3
   },
   "file_extension": ".py",
   "mimetype": "text/x-python",
   "name": "python",
   "nbconvert_exporter": "python",
   "pygments_lexer": "ipython3",
   "version": "3.8.8"
  }
 },
 "nbformat": 4,
 "nbformat_minor": 4
}
