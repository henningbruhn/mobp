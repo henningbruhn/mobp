{
 "cells": [
  {
   "cell_type": "markdown",
   "metadata": {},
   "source": [
    "# Naiver Algorithmus für min makespan\n",
    "\n",
    "In diesem Notebook wird der naive Aufzählungsalgorithmus für *min makespan* illustriert. \n",
    "\n",
    "Dieses Notebook ist sehr viel ausführlicher als sonst, da ich nebenbei versuche ein wenig Python zu erklären. Deutlich mehr erfahren Sie unter https://python.org\n",
    "\n",
    "Wie funktioniert der naive Algorithmus? Wir listen einfach alle möglichen Zuteilungen der Aufträge an die beiden Maschinen auf. Da wir nur zwei Maschinen haben, ist das das gleiche wie die Auflistung aller 0,1-Vektoren der Länge $n$, wobei $n$ gleich der Anzahl der Aufträge ist. \n",
    "\n",
    "Das Hochzählen erfolgt mit einer for-Schleife, zusammen mit dem <code>range</code>-Operator. Der erzeugt einfach eine Liste von Zahlen. Probieren wir ihn aus. Vergessen Sie nicht die Zelle auszuführen, indem Sie etwa das *play*-Symbol anklicken. "
   ]
  },
  {
   "cell_type": "code",
   "execution_count": 1,
   "metadata": {},
   "outputs": [
    {
     "data": {
      "text/plain": [
       "[0, 1, 2, 3, 4, 5]"
      ]
     },
     "execution_count": 1,
     "metadata": {},
     "output_type": "execute_result"
    }
   ],
   "source": [
    "# intern wird aus range(6) erst eine Liste, wenn dies nötig ist -- dies ist aus Performance-Gründen so\n",
    "# wenn wir die Liste explizit sehen wollen, müssen wir dies mit \"list\"-Befehl ansagen\n",
    "list(range(6))"
   ]
  },
  {
   "cell_type": "markdown",
   "metadata": {},
   "source": [
    "Listen in Python sind durch eckige Klammern definiert. Die einzelnen Listen-Elemente können wie in vielen anderen Programmiersprachen ebenfalls mit eckigen Klammern addressiert werden. In Python-Listen kann man alles mögliche hinein tun:"
   ]
  },
  {
   "cell_type": "code",
   "execution_count": 2,
   "metadata": {},
   "outputs": [
    {
     "data": {
      "text/plain": [
       "'blubb'"
      ]
     },
     "execution_count": 2,
     "metadata": {},
     "output_type": "execute_result"
    }
   ],
   "source": [
    "meine_Liste=[42,'blubb',2.3455,'blubb blubb']\n",
    "meine_Liste[1]"
   ]
  },
  {
   "cell_type": "code",
   "execution_count": 3,
   "metadata": {},
   "outputs": [
    {
     "data": {
      "text/plain": [
       "[42, 'blubb', 2.3455, 1234567]"
      ]
     },
     "execution_count": 3,
     "metadata": {},
     "output_type": "execute_result"
    }
   ],
   "source": [
    "meine_Liste[3]=1234567\n",
    "meine_Liste"
   ]
  },
  {
   "cell_type": "markdown",
   "metadata": {},
   "source": [
    "Im Gegensatz zu java muss eine Variable nicht vorher deklariert werden, sondern kann sofort verwandt werden. Die Variablen haben auch keinen Typ -- in jede Variable können beliebige Objekte geschrieben werden.\n",
    "\n",
    "Listen können einfach mit dem for-Operator befüllt werden. Zwei Sterne wie in <code>7**3</code> übersetzen sich in $7^3$, also $7\\times 7\\times 7$."
   ]
  },
  {
   "cell_type": "code",
   "execution_count": 4,
   "metadata": {},
   "outputs": [
    {
     "data": {
      "text/plain": [
       "[0, 1, 4, 9, 16]"
      ]
     },
     "execution_count": 4,
     "metadata": {},
     "output_type": "execute_result"
    }
   ],
   "source": [
    "noch_eine_Liste=[a**2 for a in range(5)]\n",
    "noch_eine_Liste"
   ]
  },
  {
   "cell_type": "markdown",
   "metadata": {},
   "source": [
    "Nun erzeugen wir alle 0,1-Vektoren und stellen die als Liste dar. Python benutzt Einrückungen zum Strukturieren. Dh alle Zeilen unter <code>for</code>, die eingerückt sind, gehören zur <code>for</code>-Schleife. \n",
    "\n",
    "Zudem nutzen wir ein wenig Bitoperatoren. Insbesondere den Operator <code>&</code>, der ein bitweises *und* gibt. D.h. <code>5 & 12</code> ergibt <code>4</code>, da sowohl in 5 als auch in 12 das 4-Bit in der Binärschreibweise gesetzt ist (aber die beiden Zahlen sonst keine gemeinsamen Bits haben). "
   ]
  },
  {
   "cell_type": "code",
   "execution_count": 5,
   "metadata": {},
   "outputs": [
    {
     "name": "stdout",
     "output_type": "stream",
     "text": [
      "[0, 0, 0, 0]\n",
      "[1, 0, 0, 0]\n",
      "[0, 1, 0, 0]\n",
      "[1, 1, 0, 0]\n",
      "[0, 0, 1, 0]\n",
      "[1, 0, 1, 0]\n",
      "[0, 1, 1, 0]\n",
      "[1, 1, 1, 0]\n",
      "[0, 0, 0, 1]\n",
      "[1, 0, 0, 1]\n",
      "[0, 1, 0, 1]\n",
      "[1, 1, 0, 1]\n",
      "[0, 0, 1, 1]\n",
      "[1, 0, 1, 1]\n",
      "[0, 1, 1, 1]\n",
      "[1, 1, 1, 1]\n"
     ]
    }
   ],
   "source": [
    "number_of_jobs=4\n",
    "for b in range(2**number_of_jobs):   \n",
    "    # das folgende sind Bit-Operationen, die nicht wirklich wichtig sind\n",
    "    # falls Sie dennoch wissen möchten, was passiert:\n",
    "    # & ist der bitweise Und-Operator, dh es wird überprüft, ob das i. Bit gesetzt ist\n",
    "    # die Ausgabe von 7 & 2^2 ist allerdings 4 -- damit eine 1 draus wird, teile ich durch 4\n",
    "    # normalerweise teilt man in python so: 4/4\n",
    "    # das Ergebnis ist jedoch eine Gleitkommazahl 4/4=1.0\n",
    "    # um den störenden Punkt zu entfernen, mache ich stattdessen Ganzzahlteilen, mit einem doppelten backslash\n",
    "    a=[(b & 2**i)//2**i for i in range(number_of_jobs)]  \n",
    "    print(a)"
   ]
  },
  {
   "cell_type": "markdown",
   "metadata": {},
   "source": [
    "## Zufallsinstanzen \n",
    "\n",
    "Als nächstes wollen wir Zufallsinstanzen erzeugen. Jede Zufallsinstanz soll dabei einfach eine Liste <code>[5, 10, 5, 1, 6, 7, 8, 7, 3, 9]</code> von Job-Dauern sein. (Wir gehen davon aus, dass jeder Auftrag die gleiche Bearbeitungsdauer auf den beiden Maschinen hat, die Maschinen also identisch sind. \n",
    "\n",
    "Um Zufallszahlen zu erzeugen, brauchen wir das <code>random</code>-Paket von Python. Dass wir <code>random</code> benutzen wollen, sagen wir Python so: <code>import random</code>. Da wir später noch das Paket <code>math</code> brauchen, importieren wir das gleich auch:"
   ]
  },
  {
   "cell_type": "code",
   "execution_count": 6,
   "metadata": {},
   "outputs": [],
   "source": [
    "import random\n",
    "import math"
   ]
  },
  {
   "cell_type": "markdown",
   "metadata": {},
   "source": [
    "Das Paket <code>random</code> hat eine Methode <code>randint(a,b)</code>, die eine zufällige ganze Zahl zwischen <code>a</code> und <code>b</code> erzeugt. Da die Methode in dem Paket <code>random</code> enthalten ist, müssen wir das Paket ebenfalls benennen und einen Punkt zwischen Paket und Methode setzen:"
   ]
  },
  {
   "cell_type": "code",
   "execution_count": 7,
   "metadata": {},
   "outputs": [
    {
     "data": {
      "text/plain": [
       "4"
      ]
     },
     "execution_count": 7,
     "metadata": {},
     "output_type": "execute_result"
    }
   ],
   "source": [
    "random.randint(2,7)"
   ]
  },
  {
   "cell_type": "markdown",
   "metadata": {},
   "source": [
    "Zur späteren Verwendung definieren wir eine Methode (in anderen Programmiersprachen Funktion genannt). Dies geschieht mit dem Schlüsselwort <code>def</code>. In der Klammer können wir die Parameter der Methode angeben. Hier: wie viele zufällige Auftragdauern wir haben wollen."
   ]
  },
  {
   "cell_type": "code",
   "execution_count": 8,
   "metadata": {},
   "outputs": [
    {
     "data": {
      "text/plain": [
       "[9, 10, 3, 8, 5, 1, 1, 8, 5, 2]"
      ]
     },
     "execution_count": 8,
     "metadata": {},
     "output_type": "execute_result"
    }
   ],
   "source": [
    "def random_makespan_instance(number_of_jobs):\n",
    "    job_lengths=[random.randint(1,10) for i in range(number_of_jobs)]\n",
    "    return job_lengths  # return gibt den Rückgabewert der Methode an\n",
    "\n",
    "# beachten Sie: die folgenden Zeilen sind nicht eingerückt und gehören daher nicht zur Methode\n",
    "# wir testen die Methode gleich\n",
    "job_lengths=random_makespan_instance(10)\n",
    "job_lengths"
   ]
  },
  {
   "cell_type": "markdown",
   "metadata": {},
   "source": [
    "Wunderbar, nun können wir Zufallsinstanzen erzeugen. \n",
    "\n",
    "## Beste Job-Zuteilung\n",
    "\n",
    "Listen wir also nun alle Zuteilungen auf und wählen eine mit kleinstem makespan aus. Dazu müssen wir die Last auf beiden Maschinen berechnen. Die Last auf der ersten Machine speichern wir in die Variable <code>T1</code> und die der zweiten in <code>T2</code>. Um die Last zu berechnen, nutzen wir eine weitere Eigenschaft von Python: Bei der Erzeugung von Listen kann man filtern."
   ]
  },
  {
   "cell_type": "code",
   "execution_count": 9,
   "metadata": {},
   "outputs": [
    {
     "data": {
      "text/plain": [
       "[0, 1, 2, 3, 4, 5, 6, 7, 8, 9]"
      ]
     },
     "execution_count": 9,
     "metadata": {},
     "output_type": "execute_result"
    }
   ],
   "source": [
    "Liste_ohne_Filter=[i for i in range(10)]\n",
    "Liste_ohne_Filter"
   ]
  },
  {
   "cell_type": "code",
   "execution_count": 10,
   "metadata": {},
   "outputs": [
    {
     "data": {
      "text/plain": [
       "[0, 2, 4, 6, 8]"
      ]
     },
     "execution_count": 10,
     "metadata": {},
     "output_type": "execute_result"
    }
   ],
   "source": [
    "# Der %-Operator gibt den Rest an, dh i%2 ergibt 0, wenn i gerade ist und sonst 1\n",
    "# wir filter nun mit \"if\" nur die geraden Zahlen heraus\n",
    "Liste_mit_Filter=[i for i in range(10) if i%2==0]\n",
    "Liste_mit_Filter"
   ]
  },
  {
   "cell_type": "markdown",
   "metadata": {},
   "source": [
    "Den besten makespan, den wir bisher gefunden haben, speichern wir in der Variable <code>T_best</code>, die beste Zuteilung in <code>a_best</code>."
   ]
  },
  {
   "cell_type": "code",
   "execution_count": 11,
   "metadata": {},
   "outputs": [
    {
     "name": "stdout",
     "output_type": "stream",
     "text": [
      "beste Zuteilung [0, 1, 1, 1, 1, 0, 0, 0, 0, 0] mit makespan 26\n"
     ]
    }
   ],
   "source": [
    "def find_best(job_lengths):\n",
    "    T_best=math.inf  # wir setzen anfangs den besten makespan auf unendlich\n",
    "    a_best=None      # None ist ein Python-Konstrukt, das als Marker dient, dass die Variable nicht belegt ist -- könnte hier weggelassen werden\n",
    "    number_of_jobs=len(job_lengths)\n",
    "    for b in range(2**number_of_jobs):\n",
    "        # wie oben erzeugen wir aus b eine Liste a mit 0,1-Werten\n",
    "        a=[(b & 2**i)//2**i for i in range(number_of_jobs)]\n",
    "        # nun berechnen wir die Last auf den beiden Maschinen\n",
    "        # Maschine 1 bekommt all die Aufträge, bei denen die Liste a einen 0-Eintrag hat\n",
    "        T1=sum([job_lengths[i] for i in range(number_of_jobs) if a[i]==1])\n",
    "        T2=sum([job_lengths[i] for i in range(number_of_jobs) if a[i]==0])\n",
    "        # der makespan der Zuteilung ist nun gleich dem Maximum von T1 und T2\n",
    "        # wir überprüfen, ob die momentane Zuteilung besser ist, als die bisher beste\n",
    "        if T_best>max(T1,T2):\n",
    "                T_best=max(T1,T2)\n",
    "                a_best=a\n",
    "    return a_best,T_best\n",
    "\n",
    "a_best,T_best=find_best(job_lengths)\n",
    "# format ermöglicht einfache Ausgaben\n",
    "# die Werte a_best und T_best werden an den Stellen, die mit {} markiert sind, eingefüllt\n",
    "print(\"beste Zuteilung {} mit makespan {}\".format(a_best,T_best))"
   ]
  },
  {
   "cell_type": "markdown",
   "metadata": {},
   "source": [
    "## Zeitmessungen\n",
    "\n",
    "Wir gucken nun noch, wie lange der Algorithmus für verschiedene Anzahlen an Aufträgen braucht. Dazu importieren wir ebenfalls das Paket <code>matplotlib.pyplot</code>, das das Plotten von Graphen ermöglicht. Weil <code>matplotlib.pyplot</code> recht lang ist, sagen wir Python, dass das Paket zu <code>plt</code> abgekürzt werden soll.\n",
    "\n",
    "Wenn Sie dieses Notebook in Colab ausführen, dann ist <code>matplotlib</code> bereits installiert. Wenn Sie den Code auf Ihrem eigenen Rechner ausführen, dann mag es sein, dass Sie das Paket erst installieren müssen. Mit Anaconda funktioniert dies so: <code>conda install matplotlib</code> (in einem Terminalfenster, bzw. Eingabeaufforderung (??) in Windows). Mit einer herkömmlichen Python-Distribution nutzen Sie <code>pip</code> wie folgt: <code>pip install matplotlib</code> (wieder in einem Terminalfenster)."
   ]
  },
  {
   "cell_type": "code",
   "execution_count": 12,
   "metadata": {},
   "outputs": [],
   "source": [
    "import matplotlib.pyplot as plt # fürs plotten\n",
    "import time # für die Zeitmessungen"
   ]
  },
  {
   "cell_type": "markdown",
   "metadata": {},
   "source": [
    "Im folgenden nutzen wir noch einen weiteren nützlichen Befehl, nämlich <code>append</code>. Mit <code>append</code> kann man ein Element am Ende einer Liste hinzufügen:"
   ]
  },
  {
   "cell_type": "code",
   "execution_count": 13,
   "metadata": {},
   "outputs": [
    {
     "data": {
      "text/plain": [
       "['etwas', 42, 'noch etwas', 'etwas ganz am Ende']"
      ]
     },
     "execution_count": 13,
     "metadata": {},
     "output_type": "execute_result"
    }
   ],
   "source": [
    "Liste=[\"etwas\",42,\"noch etwas\"]\n",
    "Liste.append(\"etwas ganz am Ende\")\n",
    "Liste"
   ]
  },
  {
   "cell_type": "code",
   "execution_count": 14,
   "metadata": {},
   "outputs": [],
   "source": [
    "repeats=3   # wir wiederholen jede Messung, um ein wenig statistische Sicherheit zu erlangen\n",
    "times=[]    # hier speichern wir die Laufzeiten rein\n",
    "list_of_number_of_jobs=range(14,20,1)\n",
    "for number_of_jobs in list_of_number_of_jobs:\n",
    "    timesum=0\n",
    "    for r in range(repeats):\n",
    "        job_lengths=random_makespan_instance(number_of_jobs)\n",
    "        start=time.time()    # ...und die Zeit läuft\n",
    "        find_best(job_lengths)\n",
    "        end=time.time()      # Stoppuhr wieder angehalten\n",
    "        timesum+=end-start\n",
    "    # der Befehl \"append\" hängt einfach einen Eintrag ans Ende einer Liste. \n",
    "    times.append(timesum/repeats)  "
   ]
  },
  {
   "cell_type": "code",
   "execution_count": 15,
   "metadata": {},
   "outputs": [
    {
     "data": {
      "text/plain": [
       "[0.20178397496541342,\n",
       " 0.3773485819498698,\n",
       " 0.7365543842315674,\n",
       " 1.527830680211385,\n",
       " 3.242058833440145,\n",
       " 6.9090181191762285]"
      ]
     },
     "execution_count": 15,
     "metadata": {},
     "output_type": "execute_result"
    }
   ],
   "source": [
    "times"
   ]
  },
  {
   "cell_type": "markdown",
   "metadata": {},
   "source": [
    "Plotten wir das einmal, damit's anschaulicher wird. Der plot-Befehl braucht x- und y-Werte:"
   ]
  },
  {
   "cell_type": "code",
   "execution_count": 16,
   "metadata": {},
   "outputs": [
    {
     "data": {
      "text/plain": [
       "[<matplotlib.lines.Line2D at 0x7f3083aace20>]"
      ]
     },
     "execution_count": 16,
     "metadata": {},
     "output_type": "execute_result"
    },
    {
     "data": {
      "image/png": "[encoded data removed]",
      "text/plain": [
       "<Figure size 432x288 with 1 Axes>"
      ]
     },
     "metadata": {
      "needs_background": "light"
     },
     "output_type": "display_data"
    }
   ],
   "source": [
    "plt.plot(list_of_number_of_jobs,times,\"bo-\")"
   ]
  },
  {
   "cell_type": "markdown",
   "metadata": {},
   "source": [
    "Ein wunderbarer exponentieller Anstieg."
   ]
  }
 ],
 "metadata": {
  "kernelspec": {
   "display_name": "Python 3",
   "language": "python",
   "name": "python3"
  },
  "language_info": {
   "codemirror_mode": {
    "name": "ipython",
    "version": 3
   },
   "file_extension": ".py",
   "mimetype": "text/x-python",
   "name": "python",
   "nbconvert_exporter": "python",
   "pygments_lexer": "ipython3",
   "version": "3.8.8"
  }
 },
 "nbformat": 4,
 "nbformat_minor": 4
}
