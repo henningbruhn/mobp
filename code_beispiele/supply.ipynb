{
 "cells": [
  {
   "cell_type": "markdown",
   "metadata": {},
   "source": [
    "# Einfaches Transportproblem\n",
    "\n",
    "Wir implementieren hier das Transportproblem aus Abschnitt 4.9.\n",
    "\n",
    "\n",
    "\\begin{align}\n",
    "\\min \\sum_{i\\in\\mathcal B}\\sum_{j\\in\\mathcal C}b_ix_{ij}+c_{ij}x_{ij} \\\\\n",
    "\\sum_{j\\in\\mathcal C}x_{ij}\\leq a_i\\quad\\text{für alle }i\\in\\mathcal B \\\\\n",
    "\\sum_{i\\in\\mathcal B}x_{ij}=d_j\\quad\\text{für alle }j\\in\\mathcal C\n",
    "\\end{align}\n"
   ]
  },
  {
   "cell_type": "code",
   "execution_count": 1,
   "metadata": {},
   "outputs": [],
   "source": [
    "# Zum Installieren in google colab, entfernen Sie die Raute in der nächsten Zeile\n",
    "#!pip install mip\n",
    "\n",
    "import mip\n",
    "import random  ## Standard-Bibliothek zur Erzeugung von Zufallszahlen\n",
    "import math\n",
    "\n",
    "### Wir werden die Daten plotten und müssen dafür matplotlib einbinden\n",
    "import matplotlib.pyplot as plt\n",
    "### Wir benutzen das fivethirtyeight style, damit die plots ein bisschen hübscher aussehen\n",
    "plt.style.use('fivethirtyeight')"
   ]
  },
  {
   "cell_type": "markdown",
   "metadata": {},
   "source": [
    "Wie immer brauchen wir eine Beispielsinstanz, die wir zufällig erzeugen. Wir platzieren Produktionsstätten und Kunden zufällig in der Ebene. Als Transportkosten nehmen wir dann den gewöhnlichen Abstand in der Ebene. Den Code müssen Sie nicht unbedingt verstehen. Wichtig ist nur die Form der Instanz, die wir uns unten angucken. "
   ]
  },
  {
   "cell_type": "code",
   "execution_count": 2,
   "metadata": {},
   "outputs": [],
   "source": [
    "def rnd_instance(num_factories=3,num_customers=10):\n",
    "    factories=[(random.random(),random.random()) for _ in range(num_factories)]\n",
    "    customers=[(random.random(),random.random()) for _ in range(num_customers)]\n",
    "    demands=[0.5+random.random() for _ in range(num_customers)]  \n",
    "    total_demand=sum(demands)\n",
    "    supply_factor=total_demand/num_factories\n",
    "    ### wir stellen sicher, dass die Nachfrage abgedeckt werden kann\n",
    "    insufficient_supply=True\n",
    "    while insufficient_supply:\n",
    "        supplies=[0.3*supply_factor+random.random()*1.1*supply_factor for _ in range(num_factories)]\n",
    "        if sum(supplies)>=total_demand:\n",
    "            insufficient_supply=False\n",
    "    return factories,customers,supplies,demands\n",
    "\n",
    "def distance(factory,customer):\n",
    "    px,py=factory\n",
    "    qx,qy=customer\n",
    "    return math.sqrt((px-qx)**2+(py-qy)**2)"
   ]
  },
  {
   "cell_type": "code",
   "execution_count": 4,
   "metadata": {},
   "outputs": [],
   "source": [
    "num_factories=3\n",
    "num_customers=10\n",
    "B,C,a,d=rnd_instance(num_factories=num_factories,num_customers=num_customers)"
   ]
  },
  {
   "cell_type": "markdown",
   "metadata": {},
   "source": [
    "Die Instanz besteht aus einer Liste <code>B</code>, der Menge der Produktionsstätten (jeweils durch Koordination in der Ebene gegeben),\n",
    "einer Liste <code>C</code>, der Menge der Kunden (wieder durch Koordinaten in der Ebene gegeben), einer Liste <code>a</code>, den Produktionskapazitäten, und einer Liste <code>d</code>, den Nachfragen der Kunden.\n",
    "\n",
    "Stellen wir das LP auf. Als Variablen benötigen wir nur die Transportvariablen $x_{ij}$. Dabei bezeichnet der Index $i$ die Produktionsstätte und der Index $j$ die/den Kund/in. "
   ]
  },
  {
   "cell_type": "code",
   "execution_count": 4,
   "metadata": {},
   "outputs": [],
   "source": [
    "m=mip.Model()\n",
    "x=[[m.add_var() for _ in range(num_customers)] for _ in range(num_factories)]"
   ]
  },
  {
   "cell_type": "markdown",
   "metadata": {},
   "source": [
    "Wir stellen sicher, dass keine Produktionsstätte mehr produziert, als sie kann:"
   ]
  },
  {
   "cell_type": "code",
   "execution_count": 5,
   "metadata": {},
   "outputs": [],
   "source": [
    "for i in range(num_factories):\n",
    "    m+=mip.xsum(x[i][j] for j in range(num_customers))<=a[i]"
   ]
  },
  {
   "cell_type": "markdown",
   "metadata": {},
   "source": [
    "...und wir erzwingen, dass der Bedarf jedes Kunden gedeckt wird:"
   ]
  },
  {
   "cell_type": "code",
   "execution_count": 6,
   "metadata": {},
   "outputs": [],
   "source": [
    "for j in range(num_customers):\n",
    "    m+=mip.xsum(x[i][j] for i in range(num_factories))==d[j]"
   ]
  },
  {
   "cell_type": "markdown",
   "metadata": {},
   "source": [
    "Die Zielfunktion besteht einfach aus den Transportkosten. Der Einfachheit halber lassen wir die Produktionskosten weg, bzw. nehmen an, dass die \n",
    "Produktionskosten in allen Produktionsstätten gleich sind."
   ]
  },
  {
   "cell_type": "code",
   "execution_count": 7,
   "metadata": {},
   "outputs": [],
   "source": [
    "m.objective=mip.minimize(mip.xsum(x[i][j]*distance(B[i],C[j]) for i in range(num_factories) for j in range(num_customers)))\n",
    "m.optimize()"
   ]
  },
  {
   "cell_type": "markdown",
   "metadata": {},
   "source": [
    "Wir plotten das Ergebnis."
   ]
  },
  {
   "cell_type": "code",
   "execution_count": 9,
   "metadata": {},
   "outputs": [
    {
     "data": {
      "image/png": "[encoded data removed]",
      "text/plain": [
       "<Figure size 360x360 with 1 Axes>"
      ]
     },
     "metadata": {},
     "output_type": "display_data"
    }
   ],
   "source": [
    "import numpy as np\n",
    "plt.figure(figsize=(5,5))\n",
    "BB=np.array(B)\n",
    "CC=np.array(C)\n",
    "plt.scatter(BB[:,0],BB[:,1],s=np.array(a)*100,marker='s')\n",
    "plt.scatter(CC[:,0],CC[:,1],s=np.array(d)*100,marker='^')\n",
    "for i in range(num_factories):\n",
    "    for j in range(num_customers):\n",
    "        if x[i][j].x>0.0001:\n",
    "            plt.plot([BB[i,0],CC[j,0]],[BB[i,1],CC[j,1]],'k',zorder=-1,alpha=0.5,linewidth=x[i][j].x*5)\n",
    "plt.xlim(-0.1,1.1)\n",
    "plt.ylim(-0.1,1.1)\n",
    "plt.xticks([])\n",
    "plt.yticks([])\n",
    "plt.show()"
   ]
  },
  {
   "cell_type": "markdown",
   "metadata": {},
   "source": [
    "Im Plot sind die Produktionsstätten als Quadrate, die Kunden als Dreiecke widergegeben. Die Größen (Durchmesser) spiegeln den Bedarf/die Nachfrage wider. Ebenso ist die Linienstärke der Verbindungen proportional zum Transport."
   ]
  }
 ],
 "metadata": {
  "kernelspec": {
   "display_name": "Python 3",
   "language": "python",
   "name": "python3"
  },
  "language_info": {
   "codemirror_mode": {
    "name": "ipython",
    "version": 3
   },
   "file_extension": ".py",
   "mimetype": "text/x-python",
   "name": "python",
   "nbconvert_exporter": "python",
   "pygments_lexer": "ipython3",
   "version": "3.8.8"
  }
 },
 "nbformat": 4,
 "nbformat_minor": 4
}
