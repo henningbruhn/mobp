{
 "cells": [
  {
   "cell_type": "markdown",
   "metadata": {},
   "source": [
    "# Greedy für max weighted matching\n",
    "\n",
    "Wir illustrieren hier wie ein greedy-Algorithmus im Problem der Paarungen maximalen Gewichts formuliert werden kann. \n",
    "\n",
    "Zunächst brauchen wir ein paar *imports*. Wenn Sie unter Colab arbeiten, sind diese Pakete bereits installiert. Wenn Sie lokal auf Ihrem eigenen Rechner arbeiten, müssen Sie gegebenenfalls einige der Pakete installieren, und zwar per <code>pip install numpy</code> oder <code>conda install numpy</code>."
   ]
  },
  {
   "cell_type": "code",
   "execution_count": 1,
   "metadata": {},
   "outputs": [],
   "source": [
    "import numpy as np  ## https://numpy.org Python-Bibliothek für wissenschaftliches Rechnen \n",
    "import random # Zufallszahlen\n",
    "\n",
    "import matplotlib.pyplot as plt # Visualisierung\n",
    "from IPython.display import clear_output # Interaktion mit jupyter\n",
    "import ipywidgets as widgets # Interaktion mit jupyter"
   ]
  },
  {
   "cell_type": "markdown",
   "metadata": {},
   "source": [
    "Als erstes erzeugen wir Zufallsinstanzen. Die Instanz selbst ist als Matrizen kodiert. "
   ]
  },
  {
   "cell_type": "code",
   "execution_count": 2,
   "metadata": {},
   "outputs": [
    {
     "data": {
      "text/plain": [
       "array([[ 0.,  0., 98.,  0.,  0.],\n",
       "       [ 0.,  3., 58., 27., 55.],\n",
       "       [ 8.,  4., 55.,  0.,  0.],\n",
       "       [ 0.,  0.,  0., 33.,  0.]])"
      ]
     },
     "execution_count": 2,
     "metadata": {},
     "output_type": "execute_result"
    }
   ],
   "source": [
    "def random_instance(left_size,right_size,edge_proba):\n",
    "    \"\"\"\n",
    "    generates random instances with profits from 1 to 100 (or 0 if row/column combination is not feasible).\n",
    "    left_size, right_size: number of rows and columns in profit matrix\n",
    "    edge_proba: probability that some row/column combination has positive profit.\n",
    "    \"\"\"\n",
    "    profits=np.zeros((left_size,right_size))  # initialise profits to 0\n",
    "    for l in range(left_size):\n",
    "        for r in range(right_size):\n",
    "            if random.random()<=edge_proba:   # do random experiment to see whether row/column feasible\n",
    "                profits[l,r]=random.randint(1,100)  # if yes, draw random profit\n",
    "    return profits\n",
    "\n",
    "profits=random_instance(4,5,0.5)\n",
    "profits"
   ]
  },
  {
   "cell_type": "markdown",
   "metadata": {},
   "source": [
    "Der greedy-Algorithmus ist denkbar einfach: in jeder Runde wählen wir unter den Zeile/Spalten-Kombinationen, die noch möglich sind, diejenige mit höchstem Profit aus. Um nicht in jeder Runde neu nach der Kombination mit höchstem Profit suchen zu müssen, werden die Zeile/Spalten-Paare einmal am Anfang nach Profit sortiert. Schließlich muss nur noch gewährleistet werden, dass wir uns die Zeilen und Spalten merken, die bereits benutzt wurden.\n",
    "\n",
    "Die Ausgabe besteht aus der Zuordnung <code>assignment</code>, eine Liste von Zeile/Spalte-Paaren <code>(i,j)</code>. Dies sind gerade die ausgewählten Einträge der Profitmatrix."
   ]
  },
  {
   "cell_type": "code",
   "execution_count": 3,
   "metadata": {},
   "outputs": [],
   "source": [
    "def greedy_max_matching(profits,return_history=False):\n",
    "    \"\"\"\n",
    "    expects profit matrix (numpy array) as input, all entries should be non-negative\n",
    "    outputs: total profit, assignment\n",
    "    where assignment is a list of pairs (i,j) meaning that row i is matched with column j\n",
    "    \"\"\"\n",
    "    total_profit=0\n",
    "    assignment=[]\n",
    "    history=[([],[],[])]\n",
    "    L,R=profits.shape  # L-> number of rows, R-> number of columns\n",
    "    used_left,used_right=[],[]  # keep track of which rows/columns are already matched\n",
    "    potential_profits=[(profits[l,r],l,r) for l in range(L) for r in range(R) if profits[l,r]>0]\n",
    "    potential_profits.sort(reverse=True)  # sort row/column pairs by profit, highest first\n",
    "    for profit,l,r in potential_profits:\n",
    "        if not l in used_left and not r in used_right:  # if row/column still feasible, take it\n",
    "            used_left.append(l)     # row becomes infeasible\n",
    "            used_right.append(r)    # column becomes infeasible\n",
    "            assignment.append((l,r)) # keep track of assignment\n",
    "            total_profit+=profit    # keep track of profit\n",
    "            if return_history:\n",
    "                history.append((assignment.copy(),used_left.copy(),used_right.copy()))\n",
    "    if return_history:\n",
    "        return total_profit,assignment,history \n",
    "    return total_profit,assignment"
   ]
  },
  {
   "cell_type": "code",
   "execution_count": 5,
   "metadata": {},
   "outputs": [
    {
     "name": "stdout",
     "output_type": "stream",
     "text": [
      "Profit: 194.0\n",
      "Paarung: \n",
      "[(0, 2), (1, 4), (3, 3), (2, 0)]\n"
     ]
    }
   ],
   "source": [
    "profit,assignment=greedy_max_matching(profits)\n",
    "print(\"Profit: {}\".format(profit))\n",
    "print(\"Paarung: \")\n",
    "print(assignment)"
   ]
  },
  {
   "cell_type": "markdown",
   "metadata": {},
   "source": [
    "## Visualisierung\n",
    "\n",
    "Hier soll der Verlauf des greedy-Algorithmus noch visualisiert werden. Der Code ist ein wenig komplex, muss aber nicht verstanden werden. "
   ]
  },
  {
   "cell_type": "code",
   "execution_count": 6,
   "metadata": {},
   "outputs": [],
   "source": [
    "def compute_profits(profits,assignment):\n",
    "    return sum([profits[i,j] for i,j in assignment])\n",
    "\n",
    "def show_matrix(profits,assignment,used_left=[],used_right=[]):\n",
    "    fig,ax=plt.subplots(figsize=(5,5))\n",
    "\n",
    "    ax.axis(\"off\")\n",
    "    ax.set_xlim(0,10)\n",
    "    ax.set_ylim(0,10)\n",
    "    ax.set_title(\"Profit: {}\".format(compute_profits(profits,assignment)))\n",
    "    m,n=profits.shape\n",
    "\n",
    "    scalex=9.5/n\n",
    "    scaley=9.5/m\n",
    "    offsetx=0+0.25*scalex\n",
    "    offsety=0+0.25*scaley\n",
    "\n",
    "    for i in range(m-1,-1,-1):\n",
    "        for j in range(n):\n",
    "            color='black'\n",
    "            fontweight='normal'\n",
    "            if (i,j) in assignment:\n",
    "                color='tab:blue'\n",
    "                fontweight=\"bold\"\n",
    "            elif (i in used_left) or (j in used_right):\n",
    "                color='gray'\n",
    "            ax.text(x=j*scalex+offsetx,y=i*scaley+offsety,s=round(profits[i,j]),  \n",
    "                ha='center', va='center', color=color,size=12,fontweight=fontweight)\n",
    "\n",
    "            \n",
    "def show_movie(profits, history,sleep_after=2):\n",
    "  for assignment,used_left,used_right in history:\n",
    "    clear_output(wait=True)\n",
    "    show_matrix(profits,assignment,used_left=used_left,used_right=used_right)\n",
    "    plt.pause(sleep_after)\n",
    "\n",
    "#### Code für Widgets / Startbutton usw\n",
    "go_button=widgets.Button(\n",
    "    description='Start',\n",
    "    disabled=False,\n",
    "    button_style='', # 'success', 'info', 'warning', 'danger' or ''\n",
    "    icon=\"play\",\n",
    "    tooltip='Startet Visualisierung')\n",
    "\n",
    "output = widgets.Output()\n",
    "animation_widget=widgets.VBox([go_button,output])\n",
    "\n",
    "def go(event):\n",
    "    total_profit,assignment,history = greedy_max_matching(profits,return_history=True)\n",
    "    with output:\n",
    "        show_movie(profits,history)\n",
    "        \n",
    "go_button.on_click(go)"
   ]
  },
  {
   "cell_type": "code",
   "execution_count": 7,
   "metadata": {},
   "outputs": [
    {
     "data": {
      "application/vnd.jupyter.widget-view+json": {
       "model_id": "0dbb3a4d51124e81b1192f4db7641048",
       "version_major": 2,
       "version_minor": 0
      },
      "text/plain": [
       "VBox(children=(Button(description='Start', icon='play', style=ButtonStyle(), tooltip='Startet Visualisierung')…"
      ]
     },
     "metadata": {},
     "output_type": "display_data"
    }
   ],
   "source": [
    "profits=random_instance(7,9,0.5)\n",
    "\n",
    "\n",
    "animation_widget"
   ]
  }
 ],
 "metadata": {
  "kernelspec": {
   "display_name": "Python 3",
   "language": "python",
   "name": "python3"
  },
  "language_info": {
   "codemirror_mode": {
    "name": "ipython",
    "version": 3
   },
   "file_extension": ".py",
   "mimetype": "text/x-python",
   "name": "python",
   "nbconvert_exporter": "python",
   "pygments_lexer": "ipython3",
   "version": "3.8.8"
  }
 },
 "nbformat": 4,
 "nbformat_minor": 4
}
