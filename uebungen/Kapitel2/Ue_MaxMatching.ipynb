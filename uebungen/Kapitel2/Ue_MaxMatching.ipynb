{
 "cells": [
  {
   "cell_type": "markdown",
   "metadata": {
    "id": "0I4cEyKMF4zJ"
   },
   "source": [
    "# Übung: Maximum Weighted Matching\n",
    "\n",
    "Die Beratungsfirma *UConsult* will Projektleiter auf Projekte verteilen, sodass der Gewinn maximal ist. Dabei kann jeder Projektleiter nur einem Projekt zugeordnet werden und jedes Projekt benötigt einen Projektleiter. Der Gewinn eines Projekts hängt davon ab, welcher Projektleiter ihm zugeordnet wird. Projekte, die keinen Projektleiter haben, generieren keinen Gewinn.\n",
    "\n",
    "Zunächst werden benötigte Softwarepakete importiert."
   ]
  },
  {
   "cell_type": "code",
   "execution_count": null,
   "metadata": {
    "id": "WePq7g8EFxXZ"
   },
   "outputs": [],
   "source": [
    "import numpy as np  ## https://numpy.org Python-Bibliothek für wissenschaftliches Rechnen \n",
    "import random\n",
    "import time"
   ]
  },
  {
   "cell_type": "markdown",
   "metadata": {
    "id": "f4MWEKjrHNy_"
   },
   "source": [
    "## Die Instanz\n",
    "\n",
    "Die Eingabe ist eine Matrix $W$, in der es für jeden Mitarbeiter $a$ eine Zeile gibt und für jedes Projekt $b$ eine Spalte. Der Eintrag $W_{a,b}$ enthält den Gewinn, den man erzielen würde, wenn man Mitarbeiter $a$ dem Projekt $b$ zuordnet. Mit der Methode <code>random_instance</code> wird eine solche Profitmatrix erzeugt. "
   ]
  },
  {
   "cell_type": "code",
   "execution_count": null,
   "metadata": {
    "colab": {
     "base_uri": "https://localhost:8080/"
    },
    "id": "Y9LLqkXPHK6V",
    "outputId": "5fe608c2-4650-4c93-ffad-e30d0c6a68a4"
   },
   "outputs": [],
   "source": [
    "def random_instance(left_size,right_size,edge_proba,seed=-1):\n",
    "    \"\"\"\n",
    "    generates random instances with profits from 1 to 100 (or 0 if row/column combination is not feasible).\n",
    "    left_size, right_size: number of rows and columns in profit matrix\n",
    "    edge_proba: probability that some row/column combination has positive profit.\n",
    "    \"\"\"\n",
    "    if seed>0:\n",
    "        random.seed(seed)\n",
    "    profits=np.zeros((left_size,right_size))  # initialise profits to 0\n",
    "    for l in range(left_size):\n",
    "        for r in range(right_size):\n",
    "            if random.random()<=edge_proba:   # do random experiment to see whether row/column feasible\n",
    "                profits[l,r]=random.randint(1,100)  # if yes, draw random profit\n",
    "    return profits\n",
    "\n",
    "profits=random_instance(4,5,0.5,seed=27)\n",
    "profits"
   ]
  },
  {
   "cell_type": "markdown",
   "metadata": {},
   "source": [
    "Wie sieht nun eine Zuteilung von Berater:innen auf Projekte aus? Wir kodieren das als Liste von Paaren <code>(berater,projekt)</code>. Dh die Liste <code>[(0,4),(1,3),(2,2)]</code> bedeutet, dass Beraterin 0 auf Projekt 4 eingesetzt wird, Beraterin 1 auf Projekt 3 und Beraterin 2 auf Projekt 2. Wir stellen auch eine Funktion bereit, um den Gesamtprofit zu berechnen."
   ]
  },
  {
   "cell_type": "code",
   "execution_count": null,
   "metadata": {},
   "outputs": [],
   "source": [
    "def compute_profit(assignment,profits):\n",
    "    return sum([profits[c,p] for c,p in assignment])\n",
    "\n",
    "assignment=[(0,4),(1,3),(2,2)]\n",
    "compute_profit(assignment,profits)"
   ]
  },
  {
   "cell_type": "markdown",
   "metadata": {
    "id": "c5cifesQJaJV"
   },
   "source": [
    "## Greedy-Algorithmus\n",
    "\n",
    "Der greedy-Algorithmus ist denkbar einfach: in jeder Runde wählen wir unter den Zeile/Spalten-Kombinationen, die noch möglich sind, diejenige mit höchstem Profit aus. Um nicht in jeder Runde neu nach der Kombination mit höchstem Profit suchen zu müssen, werden die Zeile/Spalten-Paare einmal am Anfang nach Profit sortiert. Schließlich muss nur noch gewährleistet werden, dass wir uns die Zeilen und Spalten merken, die bereits benutzt wurden."
   ]
  },
  {
   "cell_type": "code",
   "execution_count": null,
   "metadata": {
    "id": "IjhAn75yJJCF"
   },
   "outputs": [],
   "source": [
    "def greedy_max_matching(profits):\n",
    "    \"\"\"\n",
    "    expects profit matrix (numpy array) as input, all entries should be non-negative\n",
    "    outputs: total profit, assignment\n",
    "    where assignment is a list of pairs (i,j) meaning that row i is matched with column j\n",
    "    \"\"\"\n",
    "    total_profit=0\n",
    "    assignment=[]\n",
    "    L,R=profits.shape  # L-> number of rows, R-> number of columns\n",
    "    used_left,used_right=[],[]  # keep track of which rows/columns are already matched\n",
    "    potential_profits=[(profits[l,r],l,r) for l in range(L) for r in range(R) if profits[l,r]>0]\n",
    "    potential_profits.sort(reverse=True)  # sort row/column pairs by profit, highest first\n",
    "    for profit,l,r in potential_profits:\n",
    "        if not l in used_left and not r in used_right:  # if row/column still feasible, take it\n",
    "            used_left.append(l)     # row becomes infeasible\n",
    "            used_right.append(r)    # column becomes infeasible\n",
    "            assignment.append((l,r)) # keep track of assignment\n",
    "            total_profit+=profit    # keep track of profit\n",
    "    return total_profit,assignment\n",
    "\n",
    "profits=random_instance(10,12,0.3,seed=42)\n",
    "profit,assignment=greedy_max_matching(profits)\n",
    "print(\"Profit: {}k€\".format(profit))"
   ]
  },
  {
   "cell_type": "markdown",
   "metadata": {
    "id": "A3uYwd0nPChI"
   },
   "source": [
    "## Zufallssuche\n",
    "\n",
    "Als nächstes wollen wir eine Zufallssuche implementieren. Als Hilfsfunktion ist hier eine Methode, die eine zufällige Verteilung der Berater:innen auf die Projekte realisiert. "
   ]
  },
  {
   "cell_type": "code",
   "execution_count": null,
   "metadata": {},
   "outputs": [],
   "source": [
    "def create_random_assignment(profits):\n",
    "    num_consultants,num_projects=profits.shape\n",
    "    projects=list(range(num_projects))\n",
    "    consultants=list(range(num_consultants))\n",
    "    random.shuffle(projects)\n",
    "    random.shuffle(consultants)\n",
    "    return [(c,p) for c,p in zip(consultants,projects)]\n",
    "\n",
    "create_random_assignment(profits)"
   ]
  },
  {
   "cell_type": "markdown",
   "metadata": {},
   "source": [
    "### Aufgabe: Zufallssuche\n",
    "Implementieren Sie die Methode <code>random_search(profits,time_budget)</code>! Erzeugen Sie dafür mit Hilfe von <code>create_random_assignment</code> zufällige Zuteilungen und geben Sie die beste aus, die innerhalb der gegebenen Zeit <code>time_budget</code> (in Sekunden) gefunden wird."
   ]
  },
  {
   "cell_type": "code",
   "execution_count": null,
   "metadata": {
    "id": "UTN2QxmrQRq4"
   },
   "outputs": [],
   "source": [
    "def random_search(profits,time_budget):\n",
    "    ### Ihr Code hier ###\n",
    "\n",
    "    ### Ende Ihres Codes ###\n",
    "    return best_profit,best_assignment\n",
    "    \n",
    "profits=random_instance(10,12,0.3,seed=42)\n",
    "profit,assignment=random_search(profits,2)\n",
    "print(\"Realisierter Profit: {}k€\".format(profit))"
   ]
  },
  {
   "cell_type": "markdown",
   "metadata": {
    "id": "0nUO_Kl1M5xR"
   },
   "source": [
    "## Hill climbing\n",
    "\n",
    "Wir wollen die Lösungen noch ein wenig mit *hill climbing* verbessern. Es stellt sich dabei heraus, dass wir die Zuteilung besser ein bisschen anders darstellen: Und zwar werden wir direkt die Zuteilung von Berater:innen auf Projekte benötigen -- und auch umgekehrt von Projekten auf Berater:innen. Dh, wenn <code>[(0,4),(3,1),(2,2)]</code> die Zuteilung ist, dann wollen wir eine Liste <code>consultants_mapping</code> der Form <code>[4,None,2,1]</code>. An der Liste können wir direkt ablesen, dass Beraterin 0 auf Projekt 4 eingesetzt wird, Beraterin 1 keinem Projekt zugeordnet ist usw. Gleichzeitig wird sich die Liste <code>projects_mapping</code> als nützlich erweisen, in diesem Fall wäre das <code>[None,3,2,None,0]</code>. Dh, wir sehen, dass keine Beraterin Projekt 0 zugeordnet ist, Projekt 1 von Beraterin 3 betreut wird usw. Die Methode <code>get_mappings</code> berechnet diese Listen."
   ]
  },
  {
   "cell_type": "code",
   "execution_count": null,
   "metadata": {},
   "outputs": [],
   "source": [
    "def get_mappings(assignment,profits):\n",
    "    num_consultants=profits.shape[0]\n",
    "    num_projects=profits.shape[1]\n",
    "    consultants_mapping=[None]*num_consultants\n",
    "    projects_mapping=[None]*num_projects\n",
    "    for consultant,project in assignment:\n",
    "        consultants_mapping[consultant]=project\n",
    "        projects_mapping[project]=consultant\n",
    "    return consultants_mapping,projects_mapping\n",
    "\n",
    "profits=random_instance(4,5,0.3,seed=42)\n",
    "assignment=[(0,4),(3,1),(2,2)]\n",
    "consultants_mapping,projects_mapping=get_mappings(assignment,profits)\n",
    "consultants_mapping,projects_mapping"
   ]
  },
  {
   "cell_type": "markdown",
   "metadata": {},
   "source": [
    "Wir haben fehlende Zuteilungen mit <code>None</code> kodiert. Wie überprüft man auf <code>None</code>? So:"
   ]
  },
  {
   "cell_type": "code",
   "execution_count": null,
   "metadata": {},
   "outputs": [],
   "source": [
    "if consultants_mapping[2] is not None:\n",
    "    print(\"Beraterin zugeteilt!\")"
   ]
  },
  {
   "cell_type": "markdown",
   "metadata": {},
   "source": [
    "### Aufgabe: Hill climbing\n",
    "\n",
    "Implementieren Sie die Methode <code>tweak</code> um den hill climbing-Algorithmus zu vervollständigen. <code>tweak</code> soll\n",
    "* eine zufällige Beraterin (B1) auswählen -- hier ist die Methode [random.randrange](https://docs.python.org/3/library/random.html#functions-for-integers) nützlich\n",
    "* ein zufälliges Projekt (P2) auswählen\n",
    "  \n",
    "Weiterhin sei P1 das aktuelle Projekt von B1 (sofern vorhanden) und B2 die aktuelle Beraterin von Projekt P2 (sofern vorhanden). Nun sollen B1 und B2 die Projekte tauschen. Wenn B2 nicht existiert, so wechselt B1 einfach das Projekt (P1 zu P2). Wenn P1 nicht existiert, so wechselt P2 einfach die Beraterin (von B2 zu B1). Achten Sie darauf sowohl <code>consultants_mapping</code> als auch <code>projects_mapping</code> zu aktualisieren."
   ]
  },
  {
   "cell_type": "code",
   "execution_count": null,
   "metadata": {},
   "outputs": [],
   "source": [
    "def tweak(consultants_mapping,projects_mapping):\n",
    "    ### Ihr Code hier ###\n",
    "\n",
    "    ### Ende Ihres Codes ###\n",
    "\n",
    "def get_assignment(consultants_mapping):\n",
    "    return [(c,p) for c,p in enumerate(consultants_mapping) if p is not None]\n",
    "\n",
    "def __compute_profit(consultants_mapping,profits):\n",
    "    return sum([profits[c,p] for c,p in enumerate(consultants_mapping) if p is not None])\n",
    "\n",
    "def hill_climbing(assignment,profits,time_budget):\n",
    "    start_time=time.time()\n",
    "    consultants_mapping,projects_mapping=get_mappings(assignment,profits)\n",
    "    current_profit=__compute_profit(consultants_mapping,profits)\n",
    "    while time.time()-start_time<time_budget:\n",
    "        new_consultants_mapping=consultants_mapping.copy() # wir machen eine Kopie, damit wir die Änderung später nicht rückgängig machen müssen\n",
    "        new_projects_mapping=projects_mapping.copy() # wir machen eine Kopie, damit wir die Änderung später nicht rückgängig machen müssen\n",
    "        tweak(new_consultants_mapping,new_projects_mapping)   \n",
    "        new_profit=__compute_profit(new_consultants_mapping,profits)  \n",
    "        if new_profit>current_profit:    # we found an improvement, so we take the step \n",
    "            consultants_mapping=new_consultants_mapping\n",
    "            projects_mapping=new_projects_mapping\n",
    "            current_profit=new_profit\n",
    "    assignment=get_assignment(consultants_mapping)\n",
    "    return current_profit,assignment \n",
    "\n",
    "profits=random_instance(10,12,0.3,seed=42)\n",
    "\n",
    "profit,assignment=random_search(profits,1)\n",
    "profit,assignment=hill_climbing(assignment,profits,1)\n",
    "print(\"Realisierter Profit: {}k€\".format(profit))"
   ]
  },
  {
   "cell_type": "markdown",
   "metadata": {
    "id": "jwGFiab5TzzD"
   },
   "source": [
    "## Vergleich\n",
    "\n",
    "Wir wollen wieder die verschiedenen Algorithmen halbwegs systematisch vergleichen. Erzeugen Sie mit der Methode <code>random_instance(50,60,0.5)</code> 50 Zufallsinstanzen mit jeweils 50 Mitarbeitern, 60 Projekten und einer edge_proba von 0.5. Vergleichen Sie für die 50 Zufallsinstanzen die drei Algorithmen *greedy*, *hill climbing* und *Zufallssuche*. Merken Sie sich jedes Mal, wie viel Profit erzielt wurde, und welcher Algorithmus am besten ist. Als Zeitbudget sollen *hill climbing* und *Zufallssuche* jeweils 1s erhalten (das ist wenig, führt aber schon zu einer Laufzeit von fast zwei Minuten). Starten Sie *hill climbing* mit der *greedy*-Lösung."
   ]
  },
  {
   "cell_type": "code",
   "execution_count": null,
   "metadata": {
    "id": "BngCagQmVGfL"
   },
   "outputs": [],
   "source": [
    "greedy_profits = []\n",
    "hill_profits = []\n",
    "random_profits = []\n",
    "wins = [0]*3\n",
    "time_budget=1\n",
    "repeats = 50\n",
    "\n",
    "### Ihr Code hier ###\n",
    "\n",
    "### Ende Ihres Codes ###\n",
    "\n",
    "print(\"Bestes Ergebnis in {} Versuchen:\".format(repeats))\n",
    "print(\"Greedy            : {:2.1f}%\".format(wins[0]/repeats*100))\n",
    "print(\"Hill climbing     : {:2.1f}%\".format(wins[1]/repeats*100))\n",
    "print(\"Zufallssuche      : {:2.1f}%\".format(wins[2]/repeats*100))\n",
    "print('---------------------------------')\n",
    "print(\"Durchschnittlicher Profit\")\n",
    "print(\"Greedy            : {:.1f}k€\".format(sum(greedy_profits)/repeats))\n",
    "print(\"hill climbing     : {:.1f}k€\".format(sum(hill_profits)/repeats))\n",
    "print(\"Zufallssuche      : {:.1f}k€\".format(sum(random_profits)/repeats))"
   ]
  }
 ],
 "metadata": {
  "colab": {
   "collapsed_sections": [],
   "name": "MaximumWeightedMatching.ipynb",
   "provenance": []
  },
  "kernelspec": {
   "display_name": "Python 3 (ipykernel)",
   "language": "python",
   "name": "python3"
  },
  "language_info": {
   "codemirror_mode": {
    "name": "ipython",
    "version": 3
   },
   "file_extension": ".py",
   "mimetype": "text/x-python",
   "name": "python",
   "nbconvert_exporter": "python",
   "pygments_lexer": "ipython3",
   "version": "3.10.10"
  }
 },
 "nbformat": 4,
 "nbformat_minor": 4
}
