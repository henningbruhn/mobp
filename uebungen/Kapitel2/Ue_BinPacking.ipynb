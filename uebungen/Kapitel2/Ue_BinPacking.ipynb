{
 "cells": [
  {
   "cell_type": "markdown",
   "metadata": {
    "id": "j3LLQGzkAW1F"
   },
   "source": [
    "# Übung: Bin packing\n",
    "\n",
    "Paketlieferdienst *Superfix* will die Lieferungen, die für einen Tag anstehen, auf Lieferwagen verteilen. *Superfix* benutzt hierfür identische Lieferwagen, die einen Lagervolumen von $3 m^3$ haben. Der Einfachheit halber nehmen wir an, dass alle Pakete lückenlos in einen Lieferwagen eingeräumt werden können. Das Volumen der Pakete ist also die einzige Restriktion.\n",
    "\n",
    "Ziel des Lieferdienstes ist nun alle Pakete eines Tages so auf Lieferwagen aufzuteilen, sodass so wenig Lieferwagen wie möglich benötigt werden."
   ]
  },
  {
   "cell_type": "markdown",
   "metadata": {
    "id": "txl_ovn9pIe_"
   },
   "source": [
    "# Methoden zur Veranschaulichung\n",
    "\n",
    "Hier ist ein wenig Visualisierungscode: Mit der Methode <code>show_vehicles(packages,assignment)</code> können Sie sich die Verteilung der Pakete auf die Lieferwagen anzeigen lassen. Dabei beschreibt der Parameter <code>packages</code> die Instanz, während <code>assignment</code> die Verteilung darstellt.\n",
    "\n",
    "Führen Sie die Zelle einfach aus. Wir werden den Code nicht weiter diskutieren."
   ]
  },
  {
   "cell_type": "code",
   "execution_count": null,
   "metadata": {
    "id": "e9Uh5yub7Xp_"
   },
   "outputs": [],
   "source": [
    "import numpy as np\n",
    "import matplotlib.pyplot as plt\n",
    "from matplotlib.patches import Ellipse\n",
    "import random\n",
    "\n",
    "def show_vehicles(packages,assignment):\n",
    "    num_trucks = len(assignment)\n",
    "    if num_trucks <= 0:\n",
    "        return\n",
    "    \n",
    "    # Declaring a figure \"ax\" \n",
    "    figure,ax = plt.subplots(figsize=(10,1.5*num_trucks)) \n",
    "    \n",
    "    # Setting axis limits \n",
    "    ax.set_xlim(-0.3,  VOLUME*1.05) \n",
    "    ax.set_ylim(-1,3*num_trucks)\n",
    "    # Setting labels for x-axis and y-axis \n",
    "    ax.set_xlabel('Füllmenge') \n",
    "\n",
    "    # Setting ticks on y-axis \n",
    "    ax.set_yticks(range(1,3*num_trucks+1,3)) \n",
    "    # Labelling tickes of y-axis \n",
    "    ax.set_yticklabels(range(1,num_trucks+1)) \n",
    "    for i in range(num_trucks):\n",
    "        current = 0\n",
    "        ax.add_artist(Ellipse(xy=(-0.1,3*i),width=0.7*1.5/10,height=0.7,color='black'))\n",
    "        ax.add_artist(Ellipse(xy=(VOLUME*0.8,3*i),width=0.7*1.5/10,height=0.7,color='black')) \n",
    "        ax.broken_barh([(-0.3, 0.28)], (3*i, 1.2),color='black',edgecolor='black')\n",
    "        ax.broken_barh([(-0.2, 0.18)], (3*i, 2),color='black',edgecolor='black')\n",
    "        ax.broken_barh([(-0.2, 0.2+VOLUME)], (3*i, 0.01),color='black',edgecolor='black')\n",
    "        ax.broken_barh([(-0.18, 0.14)], (3*i+1.3, 0.4),color='white',edgecolor='white') \n",
    "        for package_id in assignment[i]:\n",
    "            t=packages[package_id][1]\n",
    "            # Declaring a bar \n",
    "            ax.broken_barh([(current, t)], (3*i, 2),edgecolor='black') \n",
    "            ax.text(x=current+t/2 , \n",
    "                        y=3*i+1,\n",
    "                        s=package_id, \n",
    "                        ha='center', \n",
    "                        va='center',\n",
    "                        color='white',\n",
    "                       )\n",
    "            current += t\n",
    "    ax.set_title('Lieferwagen')\n",
    "    plt.show()"
   ]
  },
  {
   "cell_type": "markdown",
   "metadata": {
    "id": "vEFMGc01o2CY"
   },
   "source": [
    "## Das Problem\n",
    "\n",
    "Das Problem ist durch eine Liste von Pakete charakterisiert. Diese Liste, <code>packages</code>, besteht aus Paaren <code>(27,1.328)</code>, wobei im ersten Eintrag die Paketnummer und im zweiten Eintrag das Paketvolumen steht. Weiterhin gibt's eine globale Variable <code>VOLUME</code>, in der das Fassungsvermögen der Lieferwagen festgehalten ist. Die Methode <code>create_instance</code> erzeugt eine Instanz."
   ]
  },
  {
   "cell_type": "code",
   "execution_count": null,
   "metadata": {
    "id": "UITD6dMdoedj"
   },
   "outputs": [],
   "source": [
    "VOLUME = 3 # Volumen eines Lieferwagens\n",
    "\n",
    "def create_instance(number=30,seed=-1):\n",
    "    if seed>0:\n",
    "        random.seed(seed)\n",
    "    return [(t,0.5*random.random()+0.02+((0.75*t/number) > random.random())*1) for t in range(number)]\n",
    "\n",
    "packages = create_instance(number=11)\n",
    "packages"
   ]
  },
  {
   "cell_type": "markdown",
   "metadata": {
    "id": "qjx9PNBx-cJa"
   },
   "source": [
    "Wir sehen, die Paketnummern sind, ein wenig langweilig, einfach fortlaufend. Die Paketgrößen schwanken zwischen recht klein bis über $1m^3$.\n",
    "\n",
    "Wir testen auch den Visualisierungscode. Dazu brauchen wir eine Zuteilung der Pakete auf die Lieferwagen. Wie kodieren wir die? Einfach! Als Liste von Listen. Jede Teilliste steht für einen Lieferwagen und enthält die Paketnummern der Pakete, die in den jeweiligen Lieferwagen geladen werden. "
   ]
  },
  {
   "cell_type": "code",
   "execution_count": null,
   "metadata": {
    "colab": {
     "base_uri": "https://localhost:8080/",
     "height": 323
    },
    "id": "U_LfcLEfp6x6",
    "outputId": "b8746a91-49c0-4032-c69c-13e80d7f0c27"
   },
   "outputs": [],
   "source": [
    "assignment=[[0,1,9,10],[3,5,4],[2,6,7,8]]\n",
    "show_vehicles(packages,assignment)"
   ]
  },
  {
   "cell_type": "markdown",
   "metadata": {
    "id": "yhJbHQweuIOd"
   },
   "source": [
    "### Aufgabe: Greedy-Algorithmus\n",
    "Implementieren Sie einen Greedy-Algorithmus! Der Algorithmus soll die Pakete der Reihe nach abarbeiten. Falls das Paket in einen bereits benutzen Lieferwagen passt, soll es einfach in den Lieferwagen geladen werden. Ansonsten wird das Paket in einen neuen Lieferwagen gelegt."
   ]
  },
  {
   "cell_type": "code",
   "execution_count": null,
   "metadata": {
    "id": "nDZagSQF_pZE"
   },
   "outputs": [],
   "source": [
    "def greedy(packages):\n",
    "    ### Ihr Code hier ###\n",
    "\n",
    "    ### Ende Ihres Codes ###\n",
    "\n",
    "packages=create_instance(seed=42)\n",
    "trucks = greedy(packages)\n",
    "show_vehicles(packages,trucks)\n",
    "print(\"Es werden {} Lieferwagen benötigt\".format(len(trucks)))"
   ]
  },
  {
   "cell_type": "markdown",
   "metadata": {},
   "source": [
    "## Sortieren\n",
    "\n",
    "Oft kann der Greedy-Algorithmus durch eine gewissen Vorverarbeitung verbessert werden. Hier bietet es sich an, die Pakete vor Anwendung des Greedy-Algorithmus' zu sortieren, und zwar so, dass die großen Pakete als erstes verladen werden. Python bieten dazu die Methode <code>sorted</code>. \n",
    "\n",
    "Als kleine Schwierigkeit besteht unsere Instanzliste <code>packages</code> aus Paaren <code>(PaketId,PaketVol)</code>. Wenn wir <code>sorted</code> direkt auf die Liste anwenden, dann werden die Pakete nach der Paketnummer sortiert -- was wenig hilfreich ist. Um die Pakete nach dem Volumen zu sortieren, müssen wir über den Parameter <code>key</code> spezifieren, wie genau sortiert werden soll. Mit der Hilfsmethode <code>itemgetter</code> können wir einstellen, dass jeweils das zweite Element jedes Paares, eben gerade das Paketvolumen, maßgeblich für die Sortierung ist. Hier ist ein Beispiel:"
   ]
  },
  {
   "cell_type": "code",
   "execution_count": null,
   "metadata": {},
   "outputs": [],
   "source": [
    "some_packages=[(42,12.5),(1010,3.142),(12,100.6),(27,1.234)]\n",
    "\n",
    "from operator import itemgetter\n",
    "sorted(some_packages,key=itemgetter(1)) # warum \"(1)\"? Weil wir das zweite Element wollen -- also Element 1, da die Zählung bei 0 startet"
   ]
  },
  {
   "cell_type": "markdown",
   "metadata": {
    "id": "NQKIfvVr_-2o"
   },
   "source": [
    "Wir wollen, dass die großen Pakete zuerst verladen werden. Dazu müssen wir von groß nach klein sortieren. Der Parameter <code>reverse=True</code> hilft dabei.\n",
    "\n",
    "### Aufgabe: Greedy mit Sortierung\n",
    "\n",
    "Implementieren Sie einen greedy-Algorithmus mit Sortierung. Dh, der Greedy-Algorithmus soll erst die großen Pakete auf die Lieferwagen verteilen, dann die mittelgroßen und am Ende die kleinen. \n",
    "\n",
    "Hinweis: Wenn Sie's geschickt anstellen, können Sie einfach den Greedy-Algorithmus von oben wieder verwenden."
   ]
  },
  {
   "cell_type": "code",
   "execution_count": null,
   "metadata": {
    "id": "YNOv7RWoAX4m"
   },
   "outputs": [],
   "source": [
    "def sorted_greedy(packages):\n",
    "    ### Ihr Code hier ###\n",
    "\n",
    "    ### Ende Ihres Codes ###\n",
    "\n",
    "packages=create_instance(seed=42)\n",
    "trucks = sorted_greedy(packages)\n",
    "show_vehicles(packages,trucks)\n",
    "print(\"Es werden {} Lieferwagen benötigt\".format(len(trucks)))"
   ]
  },
  {
   "cell_type": "markdown",
   "metadata": {
    "id": "kXANGYvFJUHV"
   },
   "source": [
    "### Aufgabe: Systematischer Vergleich\n",
    "\n",
    "Wir wollen sehen, ob Greedy mit Sortierung generell besser ist als Greedy ohne Sortierung (zumindest mit den Zufallsinstanzen, die wir hier erzeugen). Erzeugen Sie 10000 Zufallsinstanzen per Aufruf <code>create_instance()</code> und vergleichen Sie <code>greedy</code> mit <code>sorted_greedy</code>. Erfassen Sie in der Variable <code>sorted_better</code> wie oft <code>sorted_greedy</code> weniger Lieferwagen braucht, in der Variable <code>no_sort_better</code> wie oft <code>greedy</code> besser ist und in <code>ties</code> wie oft beide Algorithmen die gleiche Anzahl an Lieferwagen benötigen. Berechnen Sie weiterhin die durchschnittlichen Anzahlen der benötigten Lieferwagen und speichern Sie die in den Variablen <code>avg_sorted</code> und <code>avg_no_sort</code>."
   ]
  },
  {
   "cell_type": "code",
   "execution_count": null,
   "metadata": {
    "id": "47lMInTHJ2bp"
   },
   "outputs": [],
   "source": [
    "### Ihr Code hier ###\n",
    "\n",
    "### Ende Ihres Codes ###\n",
    "\n",
    "print(\"Mit Sortierung besser als ohne: {}\".format(sorted_better))\n",
    "print(\"Ohne Sortierung besser als mit: {}\".format(no_sort_better))\n",
    "print(\"Gleich gut:                     {}\".format(ties))\n",
    "print(\"\")\n",
    "print(\"Durchschnitt Lieferwägen mit Sortierung:  {:.1f}\".format(avg_sorted))\n",
    "print(\"Durchschnitt Lieferwägen ohne Sortierung: {:.1f}\".format(avg_no_sort))"
   ]
  }
 ],
 "metadata": {
  "colab": {
   "name": "BinPacking.ipynb",
   "provenance": []
  },
  "kernelspec": {
   "display_name": "Python 3 (ipykernel)",
   "language": "python",
   "name": "python3"
  },
  "language_info": {
   "codemirror_mode": {
    "name": "ipython",
    "version": 3
   },
   "file_extension": ".py",
   "mimetype": "text/x-python",
   "name": "python",
   "nbconvert_exporter": "python",
   "pygments_lexer": "ipython3",
   "version": "3.10.10"
  }
 },
 "nbformat": 4,
 "nbformat_minor": 4
}
