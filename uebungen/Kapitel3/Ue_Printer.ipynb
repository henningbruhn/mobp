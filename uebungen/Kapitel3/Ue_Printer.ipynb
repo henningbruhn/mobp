{
 "cells": [
  {
   "cell_type": "markdown",
   "metadata": {
    "id": "b5LWDHD7jmrc"
   },
   "source": [
    "# Übung: MIP für makespan\n",
    "\n",
    "\n",
    "Die Firma *Print4U* betreibt eine Druckerei mit verschiedenen Druckern. Ziel der Firma ist es die Druckaufträge $J$ so auf die Drucker $M$ zu verteilen, sodass alle Aufträge so früh wie möglich abgearbeitet sind. *Print4U* beauftragt Sie eine optimale Aufteilung zu finden. Sie haben bereits erkannt, dass das aktuelle Problem eine Instanz des *minimum makespan*-Problems ist (siehe Abschnitt 3.6) und Sie wollen das MIP aus dem Skript benutzen. \n",
    "\n",
    "$$\n",
    "\\begin{align*}\n",
    "\\min T & \\\\\n",
    "\\text{unter } \n",
    "\\sum_{a\\in J} x_{ap}d_{ap} \\leq T&\\text{ für alle }p\\in M\\\\\n",
    "\\sum_{p\\in M} x_{ap} = 1 & \\text{ für alle }a\\in J\\\\\n",
    "x_{ap}\\in\\{0,1\\} &\\text{ für alle } a\\in J\\text{ und }p\\in M\n",
    "\\end{align*}\n",
    "$$\n",
    "\n",
    "\n",
    "Sie stellen nun fest, dass es bei *Print4U* weitere Bedingungen gibt:\n",
    "1. Ein Teil der Druckaufträge soll in Farbe gedruckt werden. Fur jeden Auftrag $a \\in J$ gibt\n",
    "es einen Eintrag $f_a\\in\\{0,1\\}$, der angibt, ob das Dokument in Farbe gedruckt werden soll. Dabei\n",
    "heißt $f_a = 1$, dass das Dokument in Farbe gedruckt werden muss, und $f_a = 0$, dass keine\n",
    "Farbe notwenig ist.\n",
    "Leider können nicht alle Drucker farbig drucken. Für jeden Drucker $p \\in M$ gibt es einen\n",
    "Eintrag $c_p\\in\\{0,1\\}$ mit $c_p = 1$, wenn der Drucker farbig drucken kann (ansonsten $c_p = 0$). Farbdrucker können naturlich trotzdem schwarz-weiß Dokumente drucken. \n",
    "2. Alle Drucker können durch ein Zusatzmodul erweitert werden, sodass die Dokumente automatisch gebunden werden können. Das Modul nimmt allerdings viel Platz in Anspruch.\n",
    "Dadurch können Drucker mit Modul nur noch 10 Druckaufträge annehmen.\n",
    "Fur jeden Druckauftrag $a \\in J$ gibt es wieder einen Eintrag $b_a\\in\\{0,1\\}$ mit $b_a = 1$, falls der Auftrag\n",
    "gebunden werden muss. Drucker mit Modul können auch Druckaufträge annehmen, die\n",
    "nicht gebunden werden mussen. Diese Aufträge werden allerdings trotzdem in der Grenze\n",
    "von 10 Aufträgen beachtet.\n",
    "3. Alle Drucker haben die Möglichkeit zu dem Einzug von Din A4-Blättern einen zweiten\n",
    "Papiereinzug anzusteuern. Der zweite Papiereinzug kann entweder mit Din A3 oder mit\n",
    "Din A5 Blättern bestückt werden. Da das Papier aber bereits am Morgen für den ganzen\n",
    "Tag bestückt wird, kann ein Drucker nicht zwischen A3- und A5-Blättern wechseln. A4-Blätter sind aus dem ersten Einzug immer verfügbar. \n",
    "Es gibt wieder fur jeden Druckauftrag $a \\in J$ Einträge $k_a\\in\\{0,1\\}$ und $g_a\\in\\{0,1\\}$ mit $k_a = 1$, falls $a$ ein\n",
    " A5-Dokument ist, $g_a = 1$, falls $a$ ein A3-Dokument ist und $k_a = g_a = 0$,\n",
    "falls $a$ ein A4-Dokument ist.\n",
    "\n",
    "Erweitern Sie jeweils das MIP um weitere Variablen und Bedingungen, sodass die Zusatzbedingungen eingehalten werden. Lösen Sie dafür das Problem zunächst in Textform und erweitern\n",
    "anschließend den Programmcode für *minimum makespan*. Geben Sie sowohl ihre schriftliche\n",
    "Lösung als auch das modifizierte Jupyter Notebook ab.\n",
    "\n",
    "## Das MIP\n",
    "\n",
    "Wir starten mit zwei nötigen imports."
   ]
  },
  {
   "cell_type": "code",
   "execution_count": null,
   "metadata": {
    "colab": {
     "base_uri": "https://localhost:8080/"
    },
    "id": "BKpLwj4ejmri",
    "outputId": "8787efae-018c-40d9-9a39-2999018342be"
   },
   "outputs": [],
   "source": [
    "# Installation des Pakets mip\n",
    "# Wenn Sie _nicht_ in Google Colab arbeiten, müssen Sie eventuell manuell das Paket installieren \n",
    "# In dem Fall kommentieren Sie die nächste Zeile aus\n",
    "!pip install mip==1.8.1\n",
    "\n",
    "import mip\n",
    "import random  ## Standard-Bibliothek zur Erzeugung von Zufallszahlen"
   ]
  },
  {
   "cell_type": "markdown",
   "metadata": {
    "id": "585PLWNBjmrk"
   },
   "source": [
    "Als erstes definieren wir eine Methode zur Erzeugung von Zufallsinstanzen. Die Funktion <code>random.randint(a,b)</code> liefert eine zufällig ganze Zahl zwischen a und b (einschließlich). Die Funktion <code>random.random()</code> liefert eine zufällige Zahl in dem Interval $[0,1]$."
   ]
  },
  {
   "cell_type": "code",
   "execution_count": null,
   "metadata": {
    "id": "q39HEqf2jmrl"
   },
   "outputs": [],
   "source": [
    "def random_instance(number_machines,number_jobs):\n",
    "    random.seed(42)\n",
    "    d = [[random.randint(1,20) for _ in range(number_machines)] for _ in range(number_jobs)]\n",
    "    # Farbdruck\n",
    "    f = [random.randint(0,1)  for _ in range(number_jobs)]   \n",
    "    c = [random.randint(0,1) for _ in range(number_machines)]\n",
    "    # Binden\n",
    "    b = [1*(random.random()<0.05)  for _ in range(number_jobs)]\n",
    "    # Blattgröße\n",
    "    random_vec = [random.random()  for _ in range(number_jobs)]\n",
    "    # Falls Zufallszahl klein, kleines Papier. Falls groß, großes Papier\n",
    "    k = ([1*(a<0.2) for a in random_vec]) \n",
    "    g = ([1*(a>0.9) for a in random_vec])\n",
    "    return d,f,c,b,k,g\n",
    "\n",
    "number_jobs=300\n",
    "number_machines=10\n",
    "d,f,c,b,k,g=random_instance(number_machines,number_jobs)"
   ]
  },
  {
   "cell_type": "markdown",
   "metadata": {
    "id": "Q_wZZECqjmrn"
   },
   "source": [
    "Wir stellen das mip auf. Dazu definieren wir zunächst das mip-Objekt und fügen gleich Variablen hinzu, einmal die Variablen $x_{ap}\\in\\{0,1\\}$ für Auftrag $a$ und Maschine $p$ und dann noch die makespan-Variable $T$, die alle (nicht-negativen) Werte annehmen darf. Durch Angabe von <code>var_type=mip.BINARY</code> definieren wir Binärvariablen. Mit <code>var_type=INTEGER</code> würden wir allgemeine Ganzzahlvariablen definieren."
   ]
  },
  {
   "cell_type": "code",
   "execution_count": null,
   "metadata": {
    "id": "QS-900g3jmro"
   },
   "outputs": [],
   "source": [
    "m=mip.Model()\n",
    "x=[[m.add_var(var_type=mip.BINARY) for _ in range(number_machines)] for _ in range(number_jobs)]\n",
    "T=m.add_var()"
   ]
  },
  {
   "cell_type": "markdown",
   "metadata": {
    "id": "PSGyqNhOjmrp"
   },
   "source": [
    "Wir fügen die Bedingung\n",
    "\n",
    "$\\sum_{a\\in J}x_{ap}d_{ap}\\leq T\\quad\\text{ für alle }p\\in M$\n",
    "\n",
    "hinzu."
   ]
  },
  {
   "cell_type": "code",
   "execution_count": null,
   "metadata": {
    "id": "lsoeqACujmrq"
   },
   "outputs": [],
   "source": [
    "for p in range(number_machines):\n",
    "    m+=mip.xsum(x[a][p]*d[a][p] for a in range(number_jobs))<=T"
   ]
  },
  {
   "cell_type": "markdown",
   "metadata": {
    "id": "jautS8nijmrr"
   },
   "source": [
    "Schließlich müssen wir garantieren, dass auch jeder Auftrag bearbeitet wird:\n",
    "\n",
    "$\\sum_{p\\in M}x_{ap}=1\\quad\\text{für alle }a\\in J$"
   ]
  },
  {
   "cell_type": "code",
   "execution_count": null,
   "metadata": {
    "id": "w6zNhl7Ljmrr"
   },
   "outputs": [],
   "source": [
    "for a in range(number_jobs):\n",
    "    m+=mip.xsum(x[a][p] for p in range(number_machines))==1"
   ]
  },
  {
   "cell_type": "markdown",
   "metadata": {
    "id": "YGprbzZpjmrr"
   },
   "source": [
    "### Aufgabe: Farbdruck\n",
    "Modellieren Sie die Farbdruckbedingungen (Punkt 1. oben) und erweitern Sie entsprechend das MIP.\n",
    "\n",
    "\n"
   ]
  },
  {
   "cell_type": "code",
   "execution_count": null,
   "metadata": {
    "id": "Igi9r_tVjmrs"
   },
   "outputs": [],
   "source": [
    "### Ihr Code hier ###\n"
   ]
  },
  {
   "cell_type": "markdown",
   "metadata": {},
   "source": [
    "### Aufgabe: Bindung\n",
    "Modellieren Sie die Bedingungen für die Papierbindung (Punkt 2. oben) und erweitern Sie entsprechend das MIP."
   ]
  },
  {
   "cell_type": "code",
   "execution_count": null,
   "metadata": {
    "id": "G41QJ1abjmrs"
   },
   "outputs": [],
   "source": [
    "### Ihr Code hier ###\n"
   ]
  },
  {
   "cell_type": "markdown",
   "metadata": {},
   "source": [
    "### Aufgabe: Papierformate\n",
    "Modellieren Sie die Bedingungen für die unterschiedlichen Papierformate (Punkt 3. oben) und erweitern Sie entsprechend das MIP."
   ]
  },
  {
   "cell_type": "code",
   "execution_count": null,
   "metadata": {
    "id": "KYA3TsYojmrt"
   },
   "outputs": [],
   "source": [
    "### Ihr Code hier ###\n"
   ]
  },
  {
   "cell_type": "markdown",
   "metadata": {
    "id": "kKhP-oVajmru"
   },
   "source": [
    "Wir starten die Optimierung:"
   ]
  },
  {
   "cell_type": "code",
   "execution_count": null,
   "metadata": {
    "colab": {
     "base_uri": "https://localhost:8080/"
    },
    "id": "r2sM4qC7jmru",
    "outputId": "eaacd3e1-23ab-4f99-aa58-318c95478711"
   },
   "outputs": [],
   "source": [
    "m.objective=mip.minimize(T)\n",
    "m.verbose=False  # unterdrücke ausführliche Statusmeldungen\n",
    "m.optimize()    "
   ]
  },
  {
   "cell_type": "markdown",
   "metadata": {
    "id": "1WFTxwhfjmru"
   },
   "source": [
    "Schließlich ist's zweckmäßig sich die Lösung auszugeben:"
   ]
  },
  {
   "cell_type": "code",
   "execution_count": null,
   "metadata": {
    "colab": {
     "base_uri": "https://localhost:8080/"
    },
    "id": "eO1QgLlijmrv",
    "outputId": "1386060b-a744-4598-8747-f4a68238b227"
   },
   "outputs": [],
   "source": [
    "detailierte_ausgabe = False\n",
    "if detailierte_ausgabe:\n",
    "    for p in range(number_machines):\n",
    "        print(\"Maschine {}:\".format(p))\n",
    "        jobs=[a for a in range(number_jobs) if x[a][p].x==1]\n",
    "        print(\"  Aufträge: {}\".format(jobs))\n",
    "        job_lengths=[d[a][p] for a in jobs]\n",
    "        print(\"  Auftragsdauern: {}\".format(job_lengths))\n",
    "        print(\"  Arbeitsdauer Maschine {}: {}\".format(p,sum(job_lengths)))\n",
    "    print(\"-------\")\n",
    "print(\"makespan: {}\".format(T.x)) # Hier können numerische Ungenauigkeiten auftreten!"
   ]
  }
 ],
 "metadata": {
  "colab": {
   "name": "Printer_solution.ipynb",
   "provenance": []
  },
  "kernelspec": {
   "display_name": "Python 3 (ipykernel)",
   "language": "python",
   "name": "python3"
  },
  "language_info": {
   "codemirror_mode": {
    "name": "ipython",
    "version": 3
   },
   "file_extension": ".py",
   "mimetype": "text/x-python",
   "name": "python",
   "nbconvert_exporter": "python",
   "pygments_lexer": "ipython3",
   "version": "3.10.10"
  }
 },
 "nbformat": 4,
 "nbformat_minor": 4
}
