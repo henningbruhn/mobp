{
 "cells": [
  {
   "cell_type": "markdown",
   "metadata": {
    "id": "j3LLQGzkAW1F"
   },
   "source": [
    "# Übung: Minimum Makespan\n",
    "\n",
    "In diesem Notebook wird das *Minimum Makespan Problem* behandelt, siehe Abschnitt 1.6. In diesem Beispiel sind alle Maschinen identisch, das heißt die Dauer eines Auftrags ist auf allen Maschinen gleich.\n",
    "\n",
    "Ziel ist es aus einer gegebenen Zuteilung den Makespan zu berechnen."
   ]
  },
  {
   "cell_type": "markdown",
   "metadata": {
    "id": "txl_ovn9pIe_"
   },
   "source": [
    "## Methode zur Veranschaulichung\n",
    "\n",
    "Um die Aufgabe ein wenig anschaulicher zu gestalten, gibt's hier ein wenig Code zur Visualisierung. Die Einzelheiten des Codes sollen uns nicht weiter interessieren -- wichtig ist, dass Sie den Code ausführen können. Springen Sie einfach zum nächsten Abschnitt. "
   ]
  },
  {
   "cell_type": "code",
   "execution_count": null,
   "metadata": {
    "id": "e9Uh5yub7Xp_"
   },
   "outputs": [],
   "source": [
    "import matplotlib.pyplot as plt\n",
    "\n",
    "def show_schedule(schedule,job_times):\n",
    "    num_machines=len(schedule)\n",
    "    fig, ax = plt.subplots(figsize=(20,1.5*num_machines)) \n",
    "    \n",
    "    # Setting axis limits \n",
    "    ax.set_xlim(0, sum(job_times)*1.01) \n",
    "    ax.set_ylim(-1,  3*num_machines+1) \n",
    "    # Setting labels for x-axis and y-axis \n",
    "    ax.set_xlabel('Zeit') \n",
    "    ax.set_ylabel('Maschine') \n",
    "    \n",
    "    # Setting ticks on y-axis \n",
    "    ax.set_yticks(range(1,1+3*num_machines,3)) \n",
    "    # Labelling ticks of y-axis \n",
    "    ax.set_yticklabels(range(1,num_machines+1)) \n",
    "\n",
    "    for i,machine in enumerate(schedule):\n",
    "        current = 0\n",
    "        for job in machine:\n",
    "            t=job_times[job]\n",
    "            # Declaring a bar in schedule \n",
    "            ax.broken_barh([(current, t)], (3*i, 2),edgecolor='black') \n",
    "            ax.text(x=current+t/2, \n",
    "                        y=3*i+1,\n",
    "                        s=job, \n",
    "                        ha='center', \n",
    "                        va='center',\n",
    "                        color='white',\n",
    "                       )\n",
    "            current += t\n",
    "    ax.set_title(\"Makespan\")\n",
    "    plt.show()"
   ]
  },
  {
   "cell_type": "markdown",
   "metadata": {
    "id": "vEFMGc01o2CY"
   },
   "source": [
    "## Beschreibung der Instanz\n",
    "\n",
    "Die Instanz wird beschrieben durch eine Liste <code>job_times</code>, die die Dauern der Aufträge enthält. Zudem legen wir in <code>num_machines</code> die Anzahl der zur Verfügung stehenden Maschinen fest. \n",
    "\n",
    "Wie codieren wir eine Zuteilung der Aufträge? Einfach: Als Liste von Listen, zB <code>[[0,2],[3],[1,4]]</code>. Die erste Liste, hier <code>[0,2]</code>, bestimmt dann die Aufträge, die der ersten Maschine zugeteilt werden, hier also die Aufträge <code>0,2</code>.\n"
   ]
  },
  {
   "cell_type": "code",
   "execution_count": null,
   "metadata": {
    "id": "UITD6dMdoedj"
   },
   "outputs": [],
   "source": [
    "num_machines = 3\n",
    "job_times = [10,8,7,13,24] # 1. Auftrag hat Dauer 10, 2. Auftrag Dauer 8 usw\n",
    "schedule = [[0,2],[3],[1,4]]\n",
    "\n",
    "# Wir stellen die Zuteilung dar\n",
    "show_schedule(schedule,job_times)"
   ]
  },
  {
   "cell_type": "markdown",
   "metadata": {},
   "source": [
    "## Aufgabe: Berechnung des Makespans\n",
    "Implementieren Sie die Funktion <code>compute_makespan</code>, die den *makespan* einer Zuteilung berechnen soll. Testen Sie anhand der Instanzen unten, ob Ihre Methode den korrekten *makespan* ermittelt."
   ]
  },
  {
   "cell_type": "code",
   "execution_count": null,
   "metadata": {},
   "outputs": [],
   "source": [
    "def compute_makespan(schedule,job_times):\n",
    "    ### Ihr Code hier ###"
   ]
  },
  {
   "cell_type": "code",
   "execution_count": null,
   "metadata": {},
   "outputs": [],
   "source": [
    "# Hier können Sie Ihre Methode testen. Das Ergebnis für diese Instanz sollte 32 sein.\n",
    "num_machines = 3\n",
    "job_times = [10,8,7,13,24] \n",
    "schedule = [[0,2],[3],[1,4]]\n",
    "compute_makespan(schedule,job_times)"
   ]
  },
  {
   "cell_type": "code",
   "execution_count": null,
   "metadata": {},
   "outputs": [],
   "source": [
    "# Testen sie Ihre Methode mit verschiedenen Eingaben. Hier sollte das Ergebnis 42 sein.\n",
    "num_machines = 4\n",
    "job_times = [7,4,11,23,42,5,2]\n",
    "schedule = [[],[4],[2,3],[0,1,5,6]]\n",
    "compute_makespan(schedule,job_times)"
   ]
  }
 ],
 "metadata": {
  "colab": {
   "name": "MinimumMakespan.ipynb",
   "provenance": []
  },
  "kernelspec": {
   "display_name": "Python 3 (ipykernel)",
   "language": "python",
   "name": "python3"
  },
  "language_info": {
   "codemirror_mode": {
    "name": "ipython",
    "version": 3
   },
   "file_extension": ".py",
   "mimetype": "text/x-python",
   "name": "python",
   "nbconvert_exporter": "python",
   "pygments_lexer": "ipython3",
   "version": "3.10.10"
  }
 },
 "nbformat": 4,
 "nbformat_minor": 4
}
