{
 "cells": [
  {
   "cell_type": "markdown",
   "metadata": {},
   "source": [
    "# Übung: Die Spielzeugfabrik LESTOP\n",
    "\n",
    "Der Spielwarenhersteller LESTOP stellt Figuren und Bausteine aus Plastik her. Der wichtigste Rohstoff in der Herstellung ist Plastikgranulat in verschiedenen Farben $C$. Um ein Produkt $i$ aus der Produktpalette $P$ herzustellen, benötigt LESTOP $g_{i,c}$ Gramm Granulat der Farbe\n",
    "$c \\in C$. Insgesamt sind $G_c$ Gramm Granulat der Farbe $c$ für die Planung verfügbar. Je nach Produkt ist der Herstellungsprozess unterschiedlich aufwändig und verursacht Kosten in Höhe von $p_i$ (in €).\n",
    "\n",
    "1. LESTOP hat mit einem Großkunden einen Deal abgeschlossen für den LESTOP mindestens $n$\n",
    "(beliebige) Produkte liefern muss. Der Großkunde will allerdings von jedem Einzelprodukt $i\\in P$ höchstens $d_i$ Exemplare.\n",
    "2. Die Produkte werden in Kartons der Größen *S* ,*M*, *L* und *XL* verpackt. Für\n",
    "jedes Produkt $i$ ist eine Kartongröße $s_i$\n",
    "fest vorgegeben. In der Verpackungsabteilung\n",
    "sind allerdings nur $k_S$ Pakete der Größe *S*, $k_M$ Pakete der Größe *M*, $k_L$ Pakete der\n",
    "Größe *L* und $k_{XL}$ Pakete der Größe *XL* vorhanden.\n",
    "3. Die Produkte sind unterschiedlichen Kategorien $Q$ zugeordnet. Es gibt zum Beispiel\n",
    "die Kategorien: Fahrzeuge, Häuser, Mittelalter, Safari, Piraten usw.\n",
    "Ein einzelnes Produkt $i$ kann dabei auch in mehreren Kategorien sein. Ob ein Produkt $i$\n",
    "in der Kategorie $q \\in Q$ ist, ist bestimmt durch $b_{iq} \\in \\{0, 1\\}$.\n",
    "Der Großkunde hat für jede Kategorie $q\\in Q$ eine Mindestmenge $m_q$ angegeben. Das heißt die\n",
    "Lieferung muss mindesten $m_q$ Produkte der Kategorie $q$ beeinhalten.\n",
    "4. Um die Produktion rentabel zu gestalten, müssen von jedem Produkt $i$, das tatsächlich\n",
    "produziert wird, mindestens $\\ell_i$ Einheiten produziert werden.\n",
    "\n",
    "Formulieren Sie schrittweise ein MIP, das die Herstellungskosten unter diesen Nebenbedingungen minimiert. Lösen Sie dafür das Problem zunächst in Textform und implementieren Sie\n",
    "anschließend ihre Lösung in diesem Jupyter-Notebook. Geben Sie sowohl ihre\n",
    "schriftliche Lösung als auch das modifizierte Jupyter Notebook ab."
   ]
  },
  {
   "cell_type": "code",
   "execution_count": 1,
   "metadata": {},
   "outputs": [],
   "source": [
    "# Installation des Pakets mip\n",
    "# Wenn Sie _nicht_ in Google Colab arbeiten, müssen Sie eventuell manuell das Paket installieren \n",
    "# In dem Fall kommentieren Sie die nächste Zeile aus\n",
    "!pip install mip==1.8.1\n",
    "\n",
    "import mip\n",
    "import numpy as np\n",
    "import random  ## Standard-Bibliothek zur Erzeugung von Zufallszahlen"
   ]
  },
  {
   "cell_type": "markdown",
   "metadata": {},
   "source": [
    "Wir erzeugen mit <code>rnd_instance()</code> eine Instanz."
   ]
  },
  {
   "cell_type": "code",
   "execution_count": 2,
   "metadata": {},
   "outputs": [],
   "source": [
    "n = 100000\n",
    "num_products = 100\n",
    "num_colours = 6\n",
    "num_categories = 15\n",
    "sizes=['S','M','L','XL']\n",
    "    \n",
    "\n",
    "def rnd_instance():\n",
    "    random.seed(42)\n",
    "    G = [n*25 for c in range(num_colours)]\n",
    "    p=[abs(20+5*np.random.randn()) for i in range(num_products)]\n",
    "    means = [random.random() for c in range(num_colours)]\n",
    "    g=[[np.max([0,means[c]*p[i]+50*np.random.randn()])for c in range(num_colours)] for i in range(num_products)] \n",
    "    d=[np.round(abs(2*n/num_products+0.2*n/num_products*np.random.randn())) for i in range(num_products)]\n",
    "    d= np.sort(d)\n",
    "    package_range = [random.randrange(len(sizes)) for i in range(num_products)]\n",
    "    s=[sizes[val] for val in package_range]\n",
    "    # k ist ein Dictionary!\n",
    "    k={size: np.round(1.4*n/len(sizes)+0.1*n*np.random.randn()) for size in sizes}\n",
    "    frequencies = [random.random() for q in range(num_categories)]\n",
    "    b=[[1*(random.random()<=frequencies[q]) for q in range(num_categories)] for i in range(num_products)] \n",
    "    m=[random.randint(np.round(0.5*n*frequencies[q]),np.round(1.2*n*frequencies[q])) for q in range(num_categories)]\n",
    "    l=[np.round((0.4+0.1*random.random())*val) for val in d] \n",
    "    return G,p,g,d,s,k,b,m,l\n",
    "    \n",
    "G,p,g,d,s,k,b,m,l = rnd_instance()"
   ]
  },
  {
   "cell_type": "markdown",
   "metadata": {},
   "source": [
    "### Aufgabe: LESTOP\n",
    "Implementieren Sie das MIP, lösen Sie die obige Instanz und geben Sie die Kosten aus."
   ]
  },
  {
   "cell_type": "code",
   "execution_count": 1,
   "metadata": {},
   "outputs": [],
   "source": [
    "### Ihr Code hier ###"
   ]
  }
 ],
 "metadata": {
  "kernelspec": {
   "display_name": "Python 3 (ipykernel)",
   "language": "python",
   "name": "python3"
  },
  "language_info": {
   "codemirror_mode": {
    "name": "ipython",
    "version": 3
   },
   "file_extension": ".py",
   "mimetype": "text/x-python",
   "name": "python",
   "nbconvert_exporter": "python",
   "pygments_lexer": "ipython3",
   "version": "3.10.10"
  }
 },
 "nbformat": 4,
 "nbformat_minor": 4
}
