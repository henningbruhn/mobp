{
 "cells": [
  {
   "cell_type": "markdown",
   "metadata": {
    "id": "PPAskjkv3OyO"
   },
   "source": [
    "# Übung: Vehicle routing problem als mip\n",
    "\n",
    "Wir betrachten hier das vehicle routing problem ausgehend von Abschnitt 5.2).\n",
    "\n",
    "\\begin{align}\n",
    "\\min \\sum_{e\\in E}c_ex_e & & (1)\\\\\n",
    "\\sum_{e\\in\\delta^+(0)}x_e\\leq k && (2)\\\\\n",
    "\\sum_{e\\in\\delta^-(v)}x_e=1 & \\quad\\text{für alle }v\\in C & (3)\\\\\n",
    "\\sum_{e\\in\\delta^-(v)}x_e=\\sum_{e\\in\\delta^+(v)}x_e & \\quad\\text{für alle }v\\in C_0 & (4) \\\\\n",
    "y_u+d_v-y_v\\leq (1-x_{(u,v)})2q & \\quad\\text{für alle }(u,v)\\in E\\setminus\\delta^-(0)& (5)\\\\\n",
    "0\\leq y_v\\leq q&\\quad\\text{für alle }v\\in C_0& (6)\\\\\n",
    "y_0=0 && (7)\\\\\n",
    "x_e\\in\\{0,1\\}&\\quad\\text{für alle }e\\in E & (8)\n",
    "\\end{align}\n",
    "\n",
    "\n",
    "In dieser Übung soll das MIP des VRP um weitere Bedingungen erweitert werden.\n",
    "\n",
    "\n",
    "\n"
   ]
  },
  {
   "cell_type": "markdown",
   "metadata": {
    "id": "10iS5jWI3OyW"
   },
   "source": [
    "## Zufallsinstanz\n",
    "\n",
    "Wir erzeugen eine Zufallsinstanz mit euklidischen Distanzen und machen ein paar nötige imports."
   ]
  },
  {
   "cell_type": "code",
   "execution_count": null,
   "metadata": {
    "id": "9HdGhLek3OyY"
   },
   "outputs": [],
   "source": [
    "# Installation des Pakets mip\n",
    "# Wenn Sie _nicht_ in Google Colab arbeiten, müssen Sie eventuell manuell das Paket installieren \n",
    "# In dem Fall kommentieren Sie die nächste Zeile aus\n",
    "!pip install mip\n",
    "\n",
    "import mip\n",
    "import random\n",
    "import math\n",
    "\n",
    "def rnd_instance(n=10,k=3,seed=42):\n",
    "    random.seed(seed)\n",
    "    positions=[(random.random(),random.random()) for _ in range(n+1)]\n",
    "    positions[0]=(0.5,0.5)  ## wir setzen das Depot in die Mitte\n",
    "    d=[random.randint(1,3) for _ in positions]\n",
    "    return positions,d\n",
    "\n",
    "n=10 # Anzahl Kunden\n",
    "k=3  # Anzahl Lieferwagen\n",
    "q=10 # Kapazität der Lieferwagen\n",
    "positions,d=rnd_instance(n=n,k=k)"
   ]
  },
  {
   "cell_type": "markdown",
   "metadata": {},
   "source": [
    "## Das Grundmodell des MIPs\n",
    "\n",
    "Als Basis ist hier noch einmal die Implementierung des MIPs wie oben beschrieben. Zunächst brauchen wir ein paar Hilfsfunktionen"
   ]
  },
  {
   "cell_type": "code",
   "execution_count": null,
   "metadata": {},
   "outputs": [],
   "source": [
    "C=range(1,n+1) # Menge der Kunden\n",
    "C0=range(n+1)   # Menge Kunden+Depot, das Depot hat Nr 0\n",
    "# die Kantenmenge\n",
    "E=[(u,v) for u in range(n+1) for v in range(n+1) if u!=v]\n",
    "\n",
    "# Hilfsfunktionen: Indizies der ein- bzw ausgehenden Kanten bei einer Ecke v\n",
    "def ingoing_edges(v):\n",
    "    return [i for i,e in enumerate(E) if e[1]==v]\n",
    "\n",
    "def outgoing_edges(v):\n",
    "    return [i for i,e in enumerate(E) if e[0]==v]\n",
    "\n",
    "# Der Abstand in der Ebene\n",
    "def L2_dist(p,q):\n",
    "    px,py=p\n",
    "    qx,qy=q\n",
    "    return math.sqrt((px-qx)**2+(py-qy)**2)\n",
    "\n",
    "# Bequemlichkeitsfunktion\n",
    "def dist(e):\n",
    "    \"\"\"berechnet die Euklidische Länge der Kante e=(u,v)\"\"\"\n",
    "    u,v=e\n",
    "    return L2_dist(positions[u],positions[v])"
   ]
  },
  {
   "cell_type": "markdown",
   "metadata": {},
   "source": [
    "...und hier nun das MIP wie oben."
   ]
  },
  {
   "cell_type": "code",
   "execution_count": null,
   "metadata": {
    "id": "6yIILCq-3Oyg"
   },
   "outputs": [],
   "source": [
    "m=mip.Model()\n",
    "\n",
    "# die Variablen\n",
    "x=[m.add_var(var_type=mip.BINARY) for _ in E]\n",
    "y=[m.add_var(lb=0,ub=q) for _ in C0]\n",
    "m+=y[0]==0\n",
    "\n",
    "\n",
    "# Zielfunktion\n",
    "m.objective=mip.minimize(mip.xsum(dist(e)*x[i] for i,e in enumerate(E)))\n",
    "\n",
    "### Nebenbedinungen\n",
    "\n",
    "# höchstens k Lieferwagen starten am Depot (2)\n",
    "m+=mip.xsum(x[i] for i in outgoing_edges(0))<=k\n",
    "\n",
    "# Jeder Kunde muss bedient werden (3)\n",
    "for v in C:\n",
    "    m+=mip.xsum(x[i] for i in ingoing_edges(v))==1\n",
    "\n",
    "# Wenn ein Lieferwagen beim Kunden oder Depot anlangt, muss er dort auch wieder abfahren (4)\n",
    "for v in C0:\n",
    "    m+=mip.xsum(x[i] for i in ingoing_edges(v))-mip.xsum(x[i] for i in outgoing_edges(v))==0\n",
    "\n",
    "# Jeder Lieferwagen, der einen Kunden anfährt, muss auch genügend Kapazität für den Kunden haben (5)\n",
    "for i,e in enumerate(E):\n",
    "    u,v=e\n",
    "    if v!=0:  # schließe Kanten aus, die zum Depot gehen\n",
    "        m+=y[u]+d[v]-y[v]<= (1-x[i])*2*q\n"
   ]
  },
  {
   "cell_type": "markdown",
   "metadata": {},
   "source": [
    "### Aufgabe: Erweiterung\n",
    "Wir wollen nun weitere Nebenbedingungen aus Abschnitt 5.3) einbauen.\n",
    "\n",
    "\n",
    "1.   Für jeden benutzten LKW müssen Fixkosten in Höhe von $f$ bezahlt werden. LKWs, die unbenutzt im Lager bleiben kosten nichts. \n",
    "2.   Aus gesetzlichen Gründen darf ein LKW-Fahrer maximal $T$ Kilometer fahren. Die Strecke entlang einer Kante $e$ in Kilometern entspricht gerade den Kosten $c_e$.\n",
    "2.   LKW-Fahrer, die besonders lange Routen fahren, erhalten Bonuszahlungen, die zusätzliche Kosten verursachen. Falls ein Fahrer mehr als $G$ km fahren muss, erhält er pro zusätzlich gefahrenen Kilometer $b$ €. \n",
    "\n",
    "\n",
    "Fügen Sie neue Variablen und Bedingungen ein und verändern Sie die Zielfunktion, sodass 1., 2. und 3. beachtet werden. Lösen Sie die Zufallsinstanz, die oben erzeugt wird. Damit die Lösung nicht ewig dauert, setzen Sie ein Zeitlimit, und zwar so: <code>m.optimize(max_seconds=100)</code>. Damit erhalten wir unter Umständen nicht die optimale Lösung, aber andererseits müssen wir höchstens 100 Sekunden warten. Geben Sie die Kosten (Wert der Zielfunktion) aus.\n",
    "\n",
    "*Tipp für Teil 2 und 3: Fügen Sie für jeden Kunden $v$ eine Variable $s_v$ ein, die die Strecke messen soll, die der LKW auf seiner Tour bis zu $v$ benötigt.*\n"
   ]
  },
  {
   "cell_type": "code",
   "execution_count": null,
   "metadata": {
    "id": "gbWwQYXmQRPx"
   },
   "outputs": [],
   "source": [
    "# Die neuen Eingaben\n",
    "f = 3 # Fixkosten pro genutztem LKW\n",
    "T = 3 # maximale Routenlänge \n",
    "G = 0.5 # Routenlänge ab der Bonuszahlungen fällig werden\n",
    "b = 1 # Zusatzkosten ab Routenlänge G"
   ]
  },
  {
   "cell_type": "code",
   "execution_count": null,
   "metadata": {
    "colab": {
     "base_uri": "https://localhost:8080/",
     "height": 439
    },
    "id": "38l1XXjA3Oyt",
    "outputId": "a0afa233-f8e5-4f74-a5e2-503782472063"
   },
   "outputs": [],
   "source": [
    "### Ihre Code hier ### "
   ]
  }
 ],
 "metadata": {
  "colab": {
   "name": "VRP.ipynb",
   "provenance": []
  },
  "kernelspec": {
   "display_name": "Python 3 (ipykernel)",
   "language": "python",
   "name": "python3"
  },
  "language_info": {
   "codemirror_mode": {
    "name": "ipython",
    "version": 3
   },
   "file_extension": ".py",
   "mimetype": "text/x-python",
   "name": "python",
   "nbconvert_exporter": "python",
   "pygments_lexer": "ipython3",
   "version": "3.10.10"
  }
 },
 "nbformat": 4,
 "nbformat_minor": 4
}
