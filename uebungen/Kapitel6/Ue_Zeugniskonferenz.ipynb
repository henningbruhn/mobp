{
 "cells": [
  {
   "cell_type": "markdown",
   "metadata": {},
   "source": [
    "# Übung: Zeugniskonferenzen\n",
    "\n",
    "Am Ende eines Schuljahres gibt es Zeugniskonferenzen. \n",
    "Dort setzen sich alle Lehrer und Lehrerinnen einer Klasse zusammen und besprechen die Zeugnisnoten.\n",
    "In der Schule stehen dafür $R$ Konferenzräume zur Verfügung. Jede Zeugniskonferenz dauert eine Stunde und muss zu einem von $T$ möglichen Terminen stattfinden.\n",
    "\n",
    "Eine Lehrerin oder ein Lehrer unterrichtet üblicherweise in mehreren Klassen und muss daher an mehreren Konferenzen teilnehmen. Daher kommt es zu einem Konflikt, wenn zwei Konferenzen zum gleichen Zeitpunkt stattfinden, und beide eigentlich die Anwesenheit der gleichen Lehrkraft bedingen. Konflikte werden mittels der Matrix *conflicts* modelliert. Falls zwei Klassen $k_1$ und $k_2$ mindestens eine gemeinsamen Lehrkraft haben, so steht in der Matrix an der Stelle *conflicts[$k_1,k_2$]* eine 1 (und 0 sonst). Für eine Einteilung zählt jedes Paar an Klassen $k_1,k_2$, die mindestens eine gemeinsame Lehrkraft haben als ein Konflikt.\n",
    "\n",
    "Ziel der Planung ist es nun eine Einteilung mit möglichst wenigen Konflikten zu finden. Ein Konflikt ist dabei ein (ungeordnetes) Paar $k_1,k_2$ von Konferenzen, die zur gleichen Zeit stattfinden sollen und beide die Teilnahme der gleichen Lehrkraft voraussetzen. (Warum \"ungeordnet\"? Wir wollen nicht $k_1,k_2$ **und** $k_2,k_1$ zählen -- dann hätten wir jeden Konflikt zweimal gezählt.)\n",
    "\n",
    "**AUFGABE:** Implementieren Sie eine lokale Suche, die eine Einteilung mit möglichst wenigen Konflikten findet.\n"
   ]
  },
  {
   "cell_type": "code",
   "execution_count": null,
   "metadata": {},
   "outputs": [],
   "source": [
    "import numpy as np\n",
    "import matplotlib.pyplot as plt"
   ]
  },
  {
   "cell_type": "markdown",
   "metadata": {},
   "source": [
    "## Methoden zum Generieren von Instanzen\n",
    "\n",
    "Eine Instanz <code>inst</code> wird beschrieben durch folgende Parameter:\n",
    "* <code>inst.R</code>: die Zahl der Räume\n",
    "* <code>inst.T</code>: die Zahl der möglichen Termine\n",
    "* <code>inst.K</code>: die Zahl der Konferenzen\n",
    "* <code>inst.L</code>: die Zahl der Lehrer\n",
    "* <code>inst.conflicts</code>: die Matrix der Konflikte\n",
    "\n",
    "Um es ein wenig einfacher zu halten, nehmen wir an, dass die Zahl der Konferenzen so groß ist, dass zu jedem Termin jeder Raum genutzt werden muss, dass also $K=R\\cdot T$ gilt. (Warum ist das einfacher? Weil wir uns dann nicht überlegen müssen, wie wir eine ungenutzte Termin/Raum-Kombination darstellen müssen.)"
   ]
  },
  {
   "cell_type": "code",
   "execution_count": null,
   "metadata": {},
   "outputs": [],
   "source": [
    "class instance:\n",
    "    def __init__(self,R,T,K,L,min_classes = 3, max_classes = 11):\n",
    "        self.R = R\n",
    "        self.T = T\n",
    "        self.K = K\n",
    "        self.L = L\n",
    "        self.conflicts = generate_conflicts(self.K,self.L,min_classes,max_classes)\n",
    "\n",
    "def generate_instance(R,T,K,L,seed=None):\n",
    "    np.random.seed(seed)\n",
    "    return instance(R,T,K,L)\n",
    "\n",
    "def generate_conflicts(K,L,min_classes,max_classes):\n",
    "    '''K Klassen, L Lehrer, min_classes/max_classes eines Lehrers'''\n",
    "    conflicts = np.zeros((K,K))\n",
    "    for l in range(L):\n",
    "        number_of_classes = np.random.randint(min_classes,np.min([K,max_classes])+1)\n",
    "        # Zufällige Reihenfolge, nur die ersten num_of_classes sind relevant\n",
    "        order = np.random.permutation(K)\n",
    "        for i in range(number_of_classes):\n",
    "            for j in range(i):\n",
    "                conflicts[order[i],order[j]] = 1\n",
    "                conflicts[order[j],order[i]] = 1\n",
    "    return conflicts\n",
    "\n",
    "def get_instance():\n",
    "    R = 5\n",
    "    T = 20\n",
    "    K = 100\n",
    "    L = 50\n",
    "    seed = 220\n",
    "    inst = generate_instance(R,T,K,L,seed=seed)\n",
    "    np.random.seed(None)\n",
    "    return inst"
   ]
  },
  {
   "cell_type": "markdown",
   "metadata": {},
   "source": [
    "## Visualisierungs- und Evaluationsmethoden\n",
    "\n",
    "Wir stellen jede Einteilung (<code>schedule</code>) als Matrix (<code>array</code>) der Dimensionen $T\\times R$ dar. Ein Eintrag von $k$ an der Stelle $t,r$ wird dann so interpretiert, dass die Konferenz mit Nummer $k$ zum Termin $t$ in Raum $r$ stattfindet. Die Methode <code>count_conflicts</code> zählt die Zahl der Konflikte und ist somit die Zielfunktion dieser Aufgabe. Die Methode <code>show_conflicts</code> dient der Visualisierung."
   ]
  },
  {
   "cell_type": "code",
   "execution_count": null,
   "metadata": {},
   "outputs": [],
   "source": [
    "def get_schedule_conflicts(inst,schedule):\n",
    "    schedule=schedule.reshape((inst.T,inst.R))\n",
    "    schedule_conflicts=np.zeros((inst.T,inst.R))\n",
    "    for t in range(inst.T):\n",
    "        at_same_time=schedule[t]\n",
    "        # iterate over pairs of classes at time t\n",
    "        for r,k1 in enumerate(at_same_time):\n",
    "            for k2 in at_same_time:\n",
    "                if k1==k2: # same class, no conflict\n",
    "                    continue\n",
    "                schedule_conflicts[t,r]+=inst.conflicts[k1,k2]\n",
    "    return schedule_conflicts>0\n",
    "\n",
    "def count_conflicts(inst,schedule):\n",
    "    schedule_conflicts=get_schedule_conflicts(inst,schedule)\n",
    "    return np.sum(schedule_conflicts)//2 # divide by 2 as every conflict was counted twice\n",
    "\n",
    "def show_conflicts(inst,schedule):\n",
    "    schedule_conflicts=get_schedule_conflicts(inst,schedule)    \n",
    "    plt.xticks(range(inst.T))\n",
    "    plt.xlabel('Zeit')\n",
    "    plt.yticks(range(inst.R))\n",
    "    plt.ylabel('Räume')\n",
    "    plt.imshow(np.transpose(schedule_conflicts),cmap = 'bwr')\n",
    "    plt.title('Konflikte in rot, Anzahl: {}'.format(count_conflicts(inst,schedule)))"
   ]
  },
  {
   "cell_type": "markdown",
   "metadata": {},
   "source": [
    "Um ein Beispiel betrachten zu können, teilen wir die Konferenzen einmal nach Nummer ein, dh, Konferenz 0 findet zum Zeitpunkt 0 in Raum 0 statt, Konferenz 1 zum Zeitpunkt 0 in Raum 1, usw. "
   ]
  },
  {
   "cell_type": "code",
   "execution_count": null,
   "metadata": {},
   "outputs": [],
   "source": [
    "inst = get_instance()\n",
    "\n",
    "## Ein komplett dämlicher Plan\n",
    "numerical_schedule = np.arange(inst.K).reshape((inst.T,inst.R))\n",
    "\n",
    "## Konflikte visualisieren\n",
    "show_conflicts(inst,numerical_schedule)"
   ]
  },
  {
   "cell_type": "markdown",
   "metadata": {},
   "source": [
    "Man beachte, dass die Zahl der roten Kästchen nicht mit der berichteten Anzahl überein stimmt. Das liegt daran, dass ein Kästchen rot ist, wenn die Konferenz im Konflikt mit einer anderen steht, wir für die Konfliktzahl aber die Zahl der Paare von Konflikt-Konferenzen zählen.\n",
    "\n",
    "Bisher haben wir eine Zuteilung (<code>schedule</code>) als $T\\times R$-Matrix aufgefasst und das macht auch Sinn. Für den folgenden Algorithmus ist es aber einfacher, wenn das <code>schedule</code> einfach nur 1-dimensionale Liste dargestellt wird. Dazu nehmen wir die Matrix und machen sie flach. Das geht so."
   ]
  },
  {
   "cell_type": "code",
   "execution_count": null,
   "metadata": {},
   "outputs": [],
   "source": [
    "## ein array zur Demonstration\n",
    "A=np.arange(12).reshape(4,3)\n",
    "A"
   ]
  },
  {
   "cell_type": "markdown",
   "metadata": {},
   "source": [
    "Nun hauen wir <code>A</code> platt:"
   ]
  },
  {
   "cell_type": "code",
   "execution_count": null,
   "metadata": {},
   "outputs": [],
   "source": [
    "L=A.flatten()\n",
    "L"
   ]
  },
  {
   "cell_type": "markdown",
   "metadata": {},
   "source": [
    "Und zurück:"
   ]
  },
  {
   "cell_type": "code",
   "execution_count": null,
   "metadata": {},
   "outputs": [],
   "source": [
    "L.reshape(4,3)"
   ]
  },
  {
   "cell_type": "markdown",
   "metadata": {},
   "source": [
    "Das bedeutet wir können ganz einfach eine zufällige Startlösung erzeugen."
   ]
  },
  {
   "cell_type": "code",
   "execution_count": null,
   "metadata": {},
   "outputs": [],
   "source": [
    "def get_random_schedule(inst):\n",
    "    numerical_schedule=range(inst.K)\n",
    "    schedule=np.random.permutation(numerical_schedule)\n",
    "    return schedule\n",
    "\n",
    "rnd_schedule=get_random_schedule(inst)\n",
    "rnd_schedule"
   ]
  },
  {
   "cell_type": "markdown",
   "metadata": {},
   "source": [
    "Wenn wir nun die Matrix-Form haben wollen (weil wir eben ablesen wollen, welche Konferenz zu welcher Zeit in welchem Raum ist), dann können wir die Matrix-Form mit <code>reshape</code> sehr einfach erhalten."
   ]
  },
  {
   "cell_type": "code",
   "execution_count": null,
   "metadata": {},
   "outputs": [],
   "source": [
    "rnd_schedule.reshape((inst.T,inst.R))"
   ]
  },
  {
   "cell_type": "markdown",
   "metadata": {},
   "source": [
    "## Lokale Suche\n",
    "\n",
    "Wir wollen nun einen Algorithmus der lokalen Suche implementieren. Wir beginnen mit einer zufälligen Permutation (siehe <code>get_random_schedule</code>). In jedem Schritt der lokalen Suche testen Sie\n",
    "\n",
    "* je 10 mal Vertauschen zweier Einträge\n",
    "* je 5 mal Verschieben eines Intervals zufälliger Größe an eine zufällige neue Position\n",
    "* 1 komplett zufällige Permutation\n",
    "* 1 lokale Modifikation Ihrer Wahl\n",
    "\n",
    "Die ersten drei Methoden sind für Sie bereits implementiert. Eine kleine Subtilität: Allen der drei Methoden wird die Instanz <code>inst</code> als Parameter übergeben; keine der Methoden benutzt den Parameter. Warum also wird <code>inst</code> übergeben? Ich weiß nicht, was für eine vierte Methode Sie sich ausdenken, eventuell benötigt die Informationen über die Instanz. Um's einfacher zu halten, wollte ich, dass alle lokalen Schritte die gleiche Funktionssignatur haben und daher wird eben <code>inst</code> übergeben."
   ]
  },
  {
   "cell_type": "code",
   "execution_count": null,
   "metadata": {},
   "outputs": [],
   "source": [
    "def random_single_swap(inst,schedule):\n",
    "    \"\"\"Zufälliger Tausch von zwei Konferenzen\"\"\"\n",
    "    schedule = schedule.copy() # don't change the original schedule\n",
    "    k_1 = np.random.randint(len(schedule))\n",
    "    k_2 = np.random.randint(len(schedule))\n",
    "    schedule[k_1],schedule[k_2]=schedule[k_2],schedule[k_1]\n",
    "    return schedule\n",
    "    \n",
    "def random_shift(inst,schedule): \n",
    "    \"\"\"Zufälliger shift im schedule\"\"\"\n",
    "    schedule = schedule.copy()\n",
    "    old_pos = np.random.randint(len(schedule))\n",
    "    length = np.random.randint(len(schedule)-old_pos)\n",
    "    new_pos = np.random.randint(len(schedule)-length)\n",
    "    sublist = schedule[old_pos:old_pos+length+1]\n",
    "    schedule = np.delete(schedule,range(old_pos,old_pos+length+1))\n",
    "    schedule = np.insert(schedule,new_pos,sublist)\n",
    "    return schedule\n",
    "\n",
    "def random_permutation(inst,schedule):\n",
    "    \"\"\"Zufällige Permutation\"\"\"\n",
    "    return np.random.permutation(schedule)\n",
    "\n",
    "## zur Demonstration\n",
    "schedule=list(range(10))\n",
    "random_shift(inst,schedule)"
   ]
  },
  {
   "cell_type": "markdown",
   "metadata": {},
   "source": [
    "### Aufgabe: Benutzen Sie lokale Suche, um einen möglichst konfliktfreien Plan zu erstellen\n",
    "\n",
    "Beginnen Sie mit einer zufälligen Permutation. In jedem Schritt der lokalen Suche testen Sie\n",
    "* je 10 mal Vertauschen zweier Einträge -> <code>random_single_swap</code>\n",
    "* je 5 mal Verschieben eines Intervals zufälliger Größe an eine zufällige neue Position -> <code>random_shift</code>\n",
    "* 1 komplett zufällige Permutation -> <code>random_permutation</code>\n",
    "* 1 lokale Modifikation Ihrer Wahl\n",
    "\n",
    "Wählen Sie aus diesen 17 Möglichkeiten den besten Plan und führen diesen Schritt aus (auch wenn der Plan schlechter ist als der Ausgangspunkt).\n",
    "\n",
    "Gehen Sie auf diese Art 300 Schritte und geben den besten Plan aus, den Sie während der gesamten Suche gefunden haben. Geben Sie aus, wie viele Konflikte am Ende bestehen."
   ]
  },
  {
   "cell_type": "code",
   "execution_count": null,
   "metadata": {},
   "outputs": [],
   "source": [
    "### Ihr Code hier ###\n"
   ]
  }
 ],
 "metadata": {
  "kernelspec": {
   "display_name": "Python 3 (ipykernel)",
   "language": "python",
   "name": "python3"
  },
  "language_info": {
   "codemirror_mode": {
    "name": "ipython",
    "version": 3
   },
   "file_extension": ".py",
   "mimetype": "text/x-python",
   "name": "python",
   "nbconvert_exporter": "python",
   "pygments_lexer": "ipython3",
   "version": "3.10.10"
  }
 },
 "nbformat": 4,
 "nbformat_minor": 4
}
