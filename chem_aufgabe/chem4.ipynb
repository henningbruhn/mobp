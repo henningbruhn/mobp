{
 "cells": [
  {
   "cell_type": "markdown",
   "metadata": {
    "id": "_QMj1_miw_Fl"
   },
   "source": [
    "# Bereitstellung von Chemikalien IV\n",
    "## Strategische Betriebsplanung\n",
    "\n",
    "Anhand der historischen Daten über verschiedene Produktionsperioden möchte Boring International folgende strategischen Fragen beantworten:\n",
    "<ol>\n",
    "    <li>Wie viele zusätzliche Lastwagen sind notwendig, damit alle Rohstoffe pünktlich bereit gestellt werden?</li>\n",
    "    <li>Was hat einen größeren Effekt auf die Kosten: einen zusätzlichen Lastwagen anzuschaffen oder ein zusätzliches Zwischenlager mit Kapazität $b_{S+1}$ auf dem Betriebsgelände zu bauen?</li>\n",
    "</ol>"
   ]
  },
  {
   "cell_type": "markdown",
   "metadata": {
    "id": "pQ2KRBdLw_Fq"
   },
   "source": [
    "## Wiederholung: \n"
   ]
  },
  {
   "cell_type": "markdown",
   "metadata": {
    "id": "yrtr8V5kw_Fr"
   },
   "source": [
    "Die Pharmafirma Boring International möchte die Versorgung ihres Betriebsgeländes mit chemischen Rohstoffen von einem Außenlager optimieren. Jeder Tag ist eingeteilt in gewisse Zeiteinheiten. Zu jeder Zeiteinheit kann ein Bedarf an einem bestimmten Rohstoff auf dem Betriebsgelände vorliegen. Um den Bedarf zu decken verkehren Lastwagen zwischen Außenlager und Betriebsgelände. Rohstoffe, die der Lastwagen transportiert, können entweder direkt genutzt werden, um den Bedarf zu befriedigen, oder sie können zwischengelagert werden, um einen späteren Bedarf zu decken. Das Zwischenlager hat eine begrenzte Lagerkapazität, jeder Lastwagen hat ebenfalls eine beschränkte Transportkapazität.  \n",
    "Jede Fahrt verursacht Kosten. Diese sollen minimiert werden.\n",
    "Es stehen mehrere Lastwagen zur Verfügung. \n",
    "Das Außenlager ist weiter entfernt: \n",
    "Jeder Lastwagen braucht $r$ Zeiteinheiten für eine Fahrt von Betriebsgelände zum Außenlager und zurück. D.h. zwischen zwei Lieferungen eines Lastwagens\n",
    "müssen mindestens $r$ Zeiteinheiten liegen. Zudem gibt es Rohstoffe, die nicht zusammen in einem Lastwagen transportiert werden dürfen (z.B. Wasserstoff und Sauerstoff), etwa weil bei einem Unfall dann Explosionsgefahr bestünde.\n",
    "\n",
    "Das Zwischenlager auf dem Betriebsgelände besteht aus mehreren Lagerstätten, jedes mit seiner eigenen Lagerkapazität. Auch in den Zwischenlagern dürfen gewisse Rohstoffe nicht zusammen gelagert werden (und zwar die gleichen Rohstoffpaare, die auch nicht zusammen transportiert werden dürfen). Aus praktischen Gründen darf ein Rohstoff zu jeder Zeitperiode nur in einem der Zwischenlager vorrätig sein. Wenn es nicht möglich ist, einen Rohstoff zum vorgesehenen Zeitpunkt bereitzustellen, entstehen Strafkosten. \n",
    "Die Strafkosten belaufen sich auf $f$€ pro Liter Rohstoff pro Zeiteinheit. D.h.\\ die Strafkosten entfallen zu jeder Zeiteinheit, die der Rohstoff zu spät bereitgestellt wird.\n",
    "\n",
    "Jede Instanz ist durch folgende Daten charakterisiert: \n",
    "<ul>\n",
    "    <li> Die Menge der Rohstoffe (Chemikalien): $\\mathcal C$\n",
    "    <li> Die Zeitperioden: $1,...,T$</li>\n",
    "    <li> Bedarf zum Zeitpunkt $t$ an Rohstoff $c$: $d_{ct}$</li>\n",
    "    <li> Dauer der Transportfahrt: $r$ </li>\n",
    "    <li> Kosten einer Fahrt: $g$ </li>\n",
    "    <li> Kapazität des Lastwagens: $h$</li>\n",
    "    <li> Anzahl der Lieferwagen: $k$</li>\n",
    "    <li> Dauer einer Fahrt: $r$</li>\n",
    "    <li> Menge von Paaren von Rohstoffen, die nicht zusammen transportiert oder gelagert werden dürfen: $\\mathcal I$</li>\n",
    "    <li> Anzahl der Zwischenlager: $S$ </li>\n",
    "    <li> Kapazität des Zwischenlagers $s$: $b_s$</li>\n",
    "    <li> Strafkosten pro Liter und pro Zeiteinheit: $f$</li>\n",
    "</ul>"
   ]
  },
  {
   "cell_type": "markdown",
   "metadata": {
    "id": "yycnUVtpw_Ft"
   },
   "source": [
    "Variablen:\n",
    "\n",
    "<ul>\n",
    "    <li>$z_{tv}\\in\\{0,1\\}$: Indikator, ob zum Zeitpunkt $t$ eine Lieferung mit Lastwagen $v$ stattfindet</li>\n",
    "    <li>$x_{ctv}\\geq 0$: Menge an Rohstoff $c$, der zu Beginn von Periode $t$ per Lastwagen $v$ angeliefert wird</li>\n",
    "    <li>$y_{ctv}\\in\\{0,1\\}$: Indikator, ob Lastwagen $v$ zu Beginn von Periode $t$ den Rohstoff $c$ anliefert</li>\n",
    "    <li>$p_{cts}\\geq 0$: Menge an Rohstoff $c$, der zum Ende von Periode $t$ im Zwischenlager $s$ vorhanden ist </li>\n",
    "    <li>$q_{cts}\\in\\{0,1\\}$: Indikator ob Rohstoff $c$ am Ende von Periode $t$ im Zwischenlager $s$ vorhanden ist </li>\n",
    "    <li>$w_{ct}\\geq 0$: Menge an Rohstoff $c$, der am Ende von Periode $t$ zu spät ist (fehlt)</li>\n",
    "</ul>\n",
    "\n",
    "\\begin{align}\n",
    "\\min\\, & g\\sum_{t=1}^T\\sum_{v=1}^k z_{tv}+\\sum_{c\\in\\mathcal C}\\sum_{t=1}^Tfw_{ct} & (1)\\\\\n",
    "& \\sum_{c\\in\\mathcal C} p_{cts}\\leq b_s\\quad\\text{für alle }t=1,\\ldots T,s=1,\\ldots, S  & (2)\\\\\n",
    "& p_{cts}\\leq b_sq_{cts}\\quad\\text{für alle }c\\in\\mathcal C,t=1,\\ldots T,s=1,\\ldots, S  & (3)\\\\\n",
    "& q_{cts}+q_{c'ts}\\leq 1\\quad\\text{für alle }(c,c')\\in I,t,s & (4)\\\\\n",
    "& \\sum_{s=1}^Sq_{cts}\\leq 1\\quad\\text{für alle }c\\in\\mathcal C,t=1,\\ldots, T & (5)\\\\\n",
    "& \\sum_{c\\in\\mathcal C}x_{ctv}\\leq hz_{tv}\\quad\\text{für alle }t=1,\\ldots T, v=1,\\ldots,k  & (6)\\\\\n",
    "& x_{ctv}\\leq hy_{ctv}\\quad\\text{für alle }c,t,v & (7)\\\\\n",
    "& y_{ctv}+y_{c'tv}\\leq 1\\quad\\text{für alle }(c,c')\\in I,t,v & (8)\\\\\n",
    "& p_{cts} + d_{ct}+w_{c,t-1} \\leq p_{c,t-1,s}+\\sum_{v=1}^kx_{ctv}+w_{ct}+(1-q_{cts})M\\quad\\text{für alle } t=1,\\ldots T,c\\in\\mathcal C,s=1,\\ldots,S & (9)\\\\\n",
    "& \\sum_{s=1}^Sp_{cts} + d_{ct}+w_{c,t-1} = \\sum_{s=1}^Sp_{c,t-1,s}+\\sum_{v=1}^kx_{ctv}+w_{ct}\\quad\\text{für alle } t=1,\\ldots T,c\\in\\mathcal C &(10)\\\\\n",
    "& p_{c0s} =0\\quad\\text{für alle }c\\in\\mathcal C,s=1,\\ldots,S & (11)\\\\\n",
    "& \\sum_{i=t-r+1}^tz_{iv}\\leq 1\\quad\\text{für alle }t=r,\\ldots,T & (12)\n",
    "\\end{align}\n",
    "\n",
    "$(10)$ ist nur, um sicherzustellen, dass kein Lagerinhalt weggeworfen werden kann."
   ]
  },
  {
   "cell_type": "code",
   "execution_count": 1,
   "metadata": {
    "colab": {
     "base_uri": "https://localhost:8080/"
    },
    "id": "fkzKKSJrw_Fu",
    "outputId": "1b58d6ed-7d8b-478d-f0c8-aac44f606018"
   },
   "outputs": [
    {
     "name": "stdout",
     "output_type": "stream",
     "text": [
      "--2021-06-09 08:09:20--  https://www.dropbox.com/s/vuk1frd523f7tik/chm.py\n",
      "Resolving www.dropbox.com (www.dropbox.com)... 162.125.5.18, 2620:100:601d:18::a27d:512\n",
      "Connecting to www.dropbox.com (www.dropbox.com)|162.125.5.18|:443... connected.\n",
      "HTTP request sent, awaiting response... 301 Moved Permanently\n",
      "Location: /s/raw/vuk1frd523f7tik/chm.py [following]\n",
      "--2021-06-09 08:09:21--  https://www.dropbox.com/s/raw/vuk1frd523f7tik/chm.py\n",
      "Reusing existing connection to www.dropbox.com:443.\n",
      "HTTP request sent, awaiting response... 302 Found\n",
      "Location: https://uc77164cf7116d4c662c6083b62d.dl.dropboxusercontent.com/cd/0/inline/BQFjf5Au1Ei-wrFxVFUfjofjxqipqqtcI4Nf9KvHGwaxDb1Re6au7n3b5fEke2GeVQPejXwa24IczPoyuMd_9Tc_vIWzJAybh5TaKK0fB_QhtGwnur3VR8M-IhRK0gi77zYb6_f8NYzSSluqRLvj9GaN/file# [following]\n",
      "--2021-06-09 08:09:21--  https://uc77164cf7116d4c662c6083b62d.dl.dropboxusercontent.com/cd/0/inline/BQFjf5Au1Ei-wrFxVFUfjofjxqipqqtcI4Nf9KvHGwaxDb1Re6au7n3b5fEke2GeVQPejXwa24IczPoyuMd_9Tc_vIWzJAybh5TaKK0fB_QhtGwnur3VR8M-IhRK0gi77zYb6_f8NYzSSluqRLvj9GaN/file\n",
      "Resolving uc77164cf7116d4c662c6083b62d.dl.dropboxusercontent.com (uc77164cf7116d4c662c6083b62d.dl.dropboxusercontent.com)... 162.125.5.15, 2620:100:601d:15::a27d:50f\n",
      "Connecting to uc77164cf7116d4c662c6083b62d.dl.dropboxusercontent.com (uc77164cf7116d4c662c6083b62d.dl.dropboxusercontent.com)|162.125.5.15|:443... connected.\n",
      "HTTP request sent, awaiting response... 200 OK\n",
      "Length: 13322 (13K) [text/plain]\n",
      "Saving to: ‘chm.py.1’\n",
      "\n",
      "chm.py.1            100%[===================>]  13.01K  --.-KB/s    in 0s      \n",
      "\n",
      "2021-06-09 08:09:21 (268 MB/s) - ‘chm.py.1’ saved [13322/13322]\n",
      "\n",
      "Requirement already satisfied: mip in /usr/local/lib/python3.7/dist-packages (1.13.0)\n",
      "Requirement already satisfied: cffi in /usr/local/lib/python3.7/dist-packages (from mip) (1.14.5)\n",
      "Requirement already satisfied: pycparser in /usr/local/lib/python3.7/dist-packages (from cffi->mip) (2.20)\n"
     ]
    }
   ],
   "source": [
    "#!wget https://www.dropbox.com/s/vuk1frd523f7tik/chm.py\n",
    "#!pip install mip\n",
    "    \n",
    "import mip   ## Der mip-solver\n",
    "import chm   ## Code zur Instanzenerzeugung und zur graphischen Darstellung\n",
    "import matplotlib.pyplot as plt\n",
    "import numpy as np"
   ]
  },
  {
   "cell_type": "markdown",
   "metadata": {
    "id": "3NmMH0Ryw_Fx"
   },
   "source": [
    "## Das Modell\n",
    "\n",
    "Wir starten wieder mit den Variablen:"
   ]
  },
  {
   "cell_type": "code",
   "execution_count": 2,
   "metadata": {
    "id": "yyvJpRbTw_Fy"
   },
   "outputs": [],
   "source": [
    "def solve(inst):\n",
    "    m=mip.Model() \n",
    "    \n",
    "    p=[[[m.add_var() for _ in range(inst.S)] for _ in range(inst.T)] for _ in range(inst.C)]\n",
    "    q=[[[m.add_var(var_type=mip.BINARY) for _ in range(inst.S)] for _ in range(inst.T)] for _ in range(inst.C)]\n",
    "    x=[[[m.add_var() for _ in range(inst.k)] for _ in range(inst.T)] for _ in range(inst.C)]\n",
    "    y=[[[m.add_var(var_type=mip.BINARY) for _ in range(inst.k)] for _ in range(inst.T)] for _ in range(inst.C)]\n",
    "    z=[[m.add_var(var_type=mip.BINARY) for _ in range(inst.k)] for _ in range(inst.T)]\n",
    "    w=[[m.add_var() for _ in range(inst.T)] for _ in range(inst.C)]\n",
    "    \n",
    "    for t in range(inst.T):\n",
    "        for s in range(inst.S):\n",
    "            m+=mip.xsum(p[c][t][s] for c in range(inst.C))<=inst.b[s]\n",
    "            \n",
    "    for t in range(inst.T):\n",
    "        for s in range(inst.S):\n",
    "            for c in range(inst.C):\n",
    "                m+=p[c][t][s]<=inst.b[s]*q[c][t][s]\n",
    "                \n",
    "    for c,cc in inst.I:\n",
    "        for t in range(inst.T):\n",
    "            for s in range(inst.S):\n",
    "                m+=q[c][t][s]+q[cc][t][s]<=1\n",
    "    \n",
    "    for c in range(inst.C):\n",
    "        for t in range(inst.T):\n",
    "            m+=mip.xsum(q[c][t][s] for s in range(inst.S))<=1\n",
    "            \n",
    "    for t in range(inst.T):\n",
    "        for v in range(inst.k):    \n",
    "            m+=mip.xsum(x[c][t][v] for c in range(inst.C))<=z[t][v]*inst.h\n",
    "            \n",
    "    for c in range(inst.C):\n",
    "        for t in range(inst.T):\n",
    "            for v in range(inst.k):    \n",
    "                m+=x[c][t][v]<=inst.h*y[c][t][v]\n",
    "                \n",
    "    for c,cc in inst.I:\n",
    "        for t in range(inst.T):\n",
    "            for v in range(inst.k):\n",
    "                m+=y[c][t][v]+y[cc][t][v]<=1\n",
    "                \n",
    "    M=sum(inst.b)\n",
    "    for c in range(inst.C):\n",
    "        for s in range(inst.S):\n",
    "            m+=p[c][0][s]+inst.d[c][0]<=mip.xsum(x[c][0][v] for v in range(inst.k))+w[c][0]+(1-q[c][t][s])*M\n",
    "    for t in range(1,inst.T):\n",
    "        for c in range(inst.C):\n",
    "            for s in range(inst.S):\n",
    "                m+=p[c][t][s]+inst.d[c][t]+w[c][t-1]<=p[c][t-1][s]+mip.xsum(x[c][t][v] for v in range(inst.k))+w[c][t]+(1-q[c][t][s])*M\n",
    "                \n",
    "                \n",
    "    for c in range(inst.C):\n",
    "        m+=mip.xsum(p[c][0][s] for s in range(inst.S))+inst.d[c][0]==mip.xsum(x[c][0][v] for v in range(inst.k))+w[c][0]\n",
    "    for t in range(1,inst.T):\n",
    "        for c in range(inst.C):\n",
    "            m+=mip.xsum(p[c][t][s] for s in range(inst.S))+inst.d[c][t]+w[c][t-1]==mip.xsum(p[c][t-1][s] for s in range(inst.S))+ \\\n",
    "               mip.xsum(x[c][t][v] for v in range(inst.k))+w[c][t]\n",
    "            \n",
    "    for t in range(inst.T):\n",
    "        for v in range(inst.k):\n",
    "            start=max(0,t-inst.r+1)\n",
    "            m+=mip.xsum(z[i][v] for i in range(start,t+1))<=1\n",
    "            \n",
    "    \n",
    "    m.objective=mip.minimize(mip.xsum(inst.g*z[t][v] for t in range(inst.T) for v in range(inst.k))+mip.xsum(inst.f*w[c][t] for c in range(inst.C) for t in range(inst.T)))\n",
    "\n",
    "    # Sehr stark verkürzte Zeit\n",
    "    opt_status=m.optimize(max_seconds=10)\n",
    "    return m.objective_value,[p,q,w,x,y,z]"
   ]
  },
  {
   "cell_type": "markdown",
   "metadata": {
    "id": "Z7uUySQHw_Fz"
   },
   "source": [
    "## Strategische Betriebsplanung\n",
    "\n",
    "Wir beschaffen uns die Instanzen <code>instances</code>, mit der Sie arbeiten sollen. Dies ist eine Liste von Einzelinstanzen. Eine Besonderheit ist, dass der Vektor $b$ bereits den Eintrag $b_{S+1}$ enthält. "
   ]
  },
  {
   "cell_type": "code",
   "execution_count": 3,
   "metadata": {
    "colab": {
     "base_uri": "https://localhost:8080/"
    },
    "id": "yiUJTQn5w_F0",
    "outputId": "16e491ad-a243-4181-aa25-5cbc14438815"
   },
   "outputs": [
    {
     "name": "stdout",
     "output_type": "stream",
     "text": [
      "10 Instanzen geladen.\n"
     ]
    }
   ],
   "source": [
    "instances = chm.get_instances4()\n",
    "print('{} Instanzen geladen.'.format(len(instances)))"
   ]
  },
  {
   "cell_type": "markdown",
   "metadata": {
    "id": "Hwfxaf-aw_F1"
   },
   "source": [
    "### Wie viele zusätzliche Lastwagen sind notwendig, damit alle Rohstoffe pünktlich bereit gestellt werden?"
   ]
  },
  {
   "cell_type": "code",
   "execution_count": null,
   "metadata": {},
   "outputs": [],
   "source": []
  },
  {
   "cell_type": "markdown",
   "metadata": {
    "id": "Yfi6R9Cew_F3"
   },
   "source": [
    "### Zusätzlichen Lastwagen oder zusätzliches Zwischenlager?"
   ]
  },
  {
   "cell_type": "code",
   "execution_count": 5,
   "metadata": {
    "id": "Dfn9GMH3w_F5"
   },
   "outputs": [],
   "source": []
  }
 ],
 "metadata": {
  "colab": {
   "name": "chem4.ipynb",
   "provenance": []
  },
  "kernelspec": {
   "display_name": "Python 3",
   "language": "python",
   "name": "python3"
  },
  "language_info": {
   "codemirror_mode": {
    "name": "ipython",
    "version": 3
   },
   "file_extension": ".py",
   "mimetype": "text/x-python",
   "name": "python",
   "nbconvert_exporter": "python",
   "pygments_lexer": "ipython3",
   "version": "3.8.6"
  }
 },
 "nbformat": 4,
 "nbformat_minor": 4
}
