{
 "cells": [
  {
   "cell_type": "markdown",
   "metadata": {
    "id": "_QMj1_miw_Fl"
   },
   "source": [
    "# Bereitstellung von Chemikalien IV\n",
    "## Strategische Betriebsplanung\n",
    "\n",
    "Anhand der historischen Daten über verschiedene Produktionsperioden möchte Boring International folgende strategischen Fragen beantworten:\n",
    "<ol>\n",
    "    <li>Wie viele zusätzliche Lastwagen sind notwendig, damit alle Rohstoffe pünktlich bereit gestellt werden?</li>\n",
    "    <li>Was hat einen größeren Effekt auf die Kosten: einen zusätzlichen Lastwagen anzuschaffen oder ein zusätzliches Zwischenlager mit Kapazität $b_{S+1}$ auf dem Betriebsgelände zu bauen?</li>\n",
    "</ol>"
   ]
  },
  {
   "cell_type": "markdown",
   "metadata": {
    "id": "pQ2KRBdLw_Fq"
   },
   "source": [
    "## Wiederholung: \n"
   ]
  },
  {
   "cell_type": "markdown",
   "metadata": {
    "id": "yrtr8V5kw_Fr"
   },
   "source": [
    "Die Pharmafirma Boring International möchte die Versorgung ihres Betriebsgeländes mit chemischen Rohstoffen von einem Außenlager optimieren. Jeder Tag ist eingeteilt in gewisse Zeiteinheiten. Zu jeder Zeiteinheit kann ein Bedarf an einem bestimmten Rohstoff auf dem Betriebsgelände vorliegen. Um den Bedarf zu decken, verkehren Lastwagen zwischen Außenlager und Betriebsgelände. Rohstoffe, die der Lastwagen transportiert, können entweder direkt genutzt werden, um den Bedarf zu befriedigen, oder sie können zwischengelagert werden, um einen späteren Bedarf zu decken. Das Zwischenlager hat eine begrenzte Lagerkapazität, jeder Lastwagen hat ebenfalls eine beschränkte Transportkapazität.  \n",
    "Jede Fahrt verursacht Kosten. Diese sollen minimiert werden.\n",
    "Es stehen mehrere Lastwagen zur Verfügung. \n",
    "Das Außenlager ist weiter entfernt: \n",
    "Jeder Lastwagen braucht $r$ Zeiteinheiten für eine Fahrt von Betriebsgelände zum Außenlager und zurück. D.h. zwischen zwei Lieferungen eines Lastwagens\n",
    "müssen mindestens $r$ Zeiteinheiten liegen. Zudem gibt es Rohstoffe, die nicht zusammen in einem Lastwagen transportiert werden dürfen (z.B. Wasserstoff und Sauerstoff), etwa weil bei einem Unfall dann Explosionsgefahr bestünde.\n",
    "\n",
    "Das Zwischenlager auf dem Betriebsgelände besteht aus mehreren Lagerstätten, jedes mit seiner eigenen Lagerkapazität. Auch in den Zwischenlagern dürfen gewisse Rohstoffe nicht zusammen gelagert werden (und zwar die gleichen Rohstoffpaare, die auch nicht zusammen transportiert werden dürfen). Aus praktischen Gründen darf ein Rohstoff zu jeder Zeitperiode nur in einem der Zwischenlager vorrätig sein. Wenn es nicht möglich ist, einen Rohstoff zum vorgesehenen Zeitpunkt bereitzustellen, entstehen Strafkosten. \n",
    "Die Strafkosten belaufen sich auf $f$€ pro Liter Rohstoff pro Zeiteinheit. D.h. die Strafkosten entfallen zu jeder Zeiteinheit, die der Rohstoff zu spät bereitgestellt wird.\n",
    "\n",
    "Jede Instanz ist durch folgende Daten charakterisiert: \n",
    "* Die Menge der Rohstoffe (Chemikalien): $\\mathcal C$\n",
    "* Die Zeitperioden: $0,...,T-1$\n",
    "* Bedarf zum Zeitpunkt $t$ an Rohstoff $c$: $d_{ct}$\n",
    "* Dauer der Transportfahrt: $r$\n",
    "* Kosten einer Fahrt: $g$ \n",
    "* Kapazität der Lieferwagen: $h$\n",
    "* Anzahl der Lieferwagen: $k$\n",
    "* Menge von Paaren von Rohstoffen, die nicht zusammen transportiert oder gelagert werden dürfen: $\\mathcal I$\n",
    "* Anzahl der Zwischenlager: $S$ \n",
    "* Kapazität des Zwischenlagers $s$: $b_s$\n",
    "* Strafkosten pro Liter und pro Zeiteinheit: $f$\n"
   ]
  },
  {
   "cell_type": "markdown",
   "metadata": {
    "id": "yycnUVtpw_Ft"
   },
   "source": [
    "Variablen:\n",
    "* $z_{tv}\\in\\{0,1\\}$: Indikator, ob zum Zeitpunkt $t$ eine Lieferung mit Lastwagen $v$ stattfindet\n",
    "* $x_{ctv}\\geq 0$: Menge an Rohstoff $c$, der zu Beginn von Periode $t$ per Lastwagen $v$ angeliefert wird\n",
    "* $y_{ctv}\\in\\{0,1\\}$: Indikator, ob Lastwagen $v$ zu Beginn von Periode $t$ den Rohstoff $c$ anliefert\n",
    "* $p_{cts}\\geq 0$: Menge an Rohstoff $c$, der zum Ende von Periode $t$ im Zwischenlager $s$ vorhanden ist\n",
    "* $q_{cts}\\in\\{0,1\\}$: Indikator ob Rohstoff $c$ am Ende von Periode $t$ im Zwischenlager $s$ vorhanden ist\n",
    "* $w_{ct}\\geq 0$: Menge an Rohstoff $c$, der am Ende von Periode $t$ zu spät ist (fehlt)\n",
    "\n",
    "\\begin{align}\n",
    "\\min\\, & g\\sum_{t=1}^T\\sum_{v=1}^k z_{tv}+\\sum_{c\\in\\mathcal C}\\sum_{t=1}^Tfw_{ct} & (1)\\\\\n",
    "& \\sum_{c\\in\\mathcal C} p_{cts}\\leq b_s\\quad\\text{für alle }t=0,\\ldots T-1,s=1,\\ldots, S  & (2)\\\\\n",
    "& p_{cts}\\leq b_sq_{cts}\\quad\\text{für alle }c\\in\\mathcal C,t=0,\\ldots T-1,s=1,\\ldots, S  & (3)\\\\\n",
    "& q_{cts}+q_{c'ts}\\leq 1\\quad\\text{für alle }(c,c')\\in I,t,s & (4)\\\\\n",
    "& \\sum_{c\\in\\mathcal C}x_{ctv}\\leq hz_{tv}\\quad\\text{für alle }t=0,\\ldots T-1, v=1,\\ldots,k  & (6)\\\\\n",
    "& x_{ctv}\\leq hy_{ctv}\\quad\\text{für alle }c,t,v & (7)\\\\\n",
    "& y_{ctv}+y_{c'tv}\\leq 1\\quad\\text{für alle }(c,c')\\in I,t,v & (8)\\\\\n",
    "& p_{cts}\\leq b_sq_{cts}\\quad\\text{für alle } c,t,s& (9)\\\\\n",
    "& \\sum_{s=1}^Sp_{cts} + d_{ct}+w_{c,t-1} = \\sum_{s=1}^Sp_{c,t-1,s}+\\sum_{v=1}^kx_{ctv}+w_{ct}\\quad\\text{für alle } t=0,\\ldots T-1,c\\in\\mathcal C &(10)\\\\\n",
    "& p_{c,-1,s} =0\\quad\\text{für alle }c\\in\\mathcal C,s=1,\\ldots,S & (11)\\\\\n",
    "& w_{c,-1} =0\\quad\\text{für alle }c\\in\\mathcal C & (12)\\\\\n",
    "& \\sum_{i=t-r+1}^tz_{iv}\\leq 1\\quad\\text{für alle }t=r,\\ldots,T-1, v=1,\\ldots,k & (13) \n",
    "\\end{align}\n"
   ]
  },
  {
   "cell_type": "code",
   "execution_count": 1,
   "metadata": {
    "colab": {
     "base_uri": "https://localhost:8080/"
    },
    "id": "fkzKKSJrw_Fu",
    "outputId": "1b58d6ed-7d8b-478d-f0c8-aac44f606018"
   },
   "outputs": [],
   "source": [
    "#!wget -q https://raw.githubusercontent.com/henningbruhn/mobp/main/chem_aufgabe/chm.py\n",
    "#!pip install mip --no-deps # ACHTUNG: dies ist für die momentane Colab-Version, da gibt's einen Konflikt mit dem package cffi\n",
    "#!pip install mip\n",
    "    \n",
    "import mip   ## Der mip-solver\n",
    "import chm   ## Code zur Instanzenerzeugung und zur graphischen Darstellung"
   ]
  },
  {
   "cell_type": "markdown",
   "metadata": {
    "id": "3NmMH0Ryw_Fx"
   },
   "source": [
    "## Das Modell\n",
    "\n",
    "Die Methode <code>solve</code> fasst den Code des vorherigen Notebooks zusammen. Sie erwartet eine Instanz <code>inst</code> als Eingabe und gibt dann folgende Ausgabe zurück:\n",
    "* den Zielfunktionswert (die Gesamtkosten)\n",
    "* eine Liste <code>[p,q,w,x,y,z]</code> mit den Variablen des gelösten MIPs\n",
    "\n",
    "Wir werden die Methode <code>solve</code> oft aufrufen müssen. Daher ist die Rechenzeit des solvers auf 10s begrenzt."
   ]
  },
  {
   "cell_type": "code",
   "execution_count": 2,
   "metadata": {
    "id": "yyvJpRbTw_Fy"
   },
   "outputs": [],
   "source": [
    "def solve(inst):\n",
    "    m=mip.Model() \n",
    "    \n",
    "    # Zusätzliche Variablen in Periode T, damit p[c][-1][s] definiert ist\n",
    "    p=[[[m.add_var() for _ in range(inst.S)] for _ in range(inst.T+1)] for _ in range(inst.C)]\n",
    "    q=[[[m.add_var(var_type=mip.BINARY) for _ in range(inst.S)] for _ in range(inst.T)] for _ in range(inst.C)]\n",
    "    x=[[[m.add_var() for _ in range(inst.k)] for _ in range(inst.T)] for _ in range(inst.C)]\n",
    "    y=[[[m.add_var(var_type=mip.BINARY) for _ in range(inst.k)] for _ in range(inst.T)] for _ in range(inst.C)]\n",
    "    z=[[m.add_var(var_type=mip.BINARY) for _ in range(inst.k)] for _ in range(inst.T)]\n",
    "    # Zusätzliche Variablen in Periode T, damit w[c][-1] definiert ist\n",
    "    w=[[m.add_var() for _ in range(inst.T+1)] for _ in range(inst.C)]\n",
    "\n",
    "    # condition (2)\n",
    "    for t in range(inst.T):\n",
    "        for s in range(inst.S):\n",
    "            m+=mip.xsum(p[c][t][s] for c in range(inst.C))<=inst.b[s]\n",
    "        \n",
    "    # condition (3)        \n",
    "    for t in range(inst.T):\n",
    "        for s in range(inst.S):\n",
    "            for c in range(inst.C):\n",
    "                m+=p[c][t][s]<=inst.b[s]*q[c][t][s]\n",
    "                \n",
    "    # condition (4)\n",
    "    for c,cc in inst.I:\n",
    "        for t in range(inst.T):\n",
    "            for s in range(inst.S):\n",
    "                m+=q[c][t][s]+q[cc][t][s]<=1\n",
    "    \n",
    "    # condition (6)\n",
    "    for t in range(inst.T):\n",
    "        for v in range(inst.k):    \n",
    "            m+=mip.xsum(x[c][t][v] for c in range(inst.C))<=z[t][v]*inst.h\n",
    "\n",
    "    # condition (7) \n",
    "    for c in range(inst.C):\n",
    "        for t in range(inst.T):\n",
    "            for v in range(inst.k):    \n",
    "                m+=x[c][t][v]<=inst.h*y[c][t][v]\n",
    "                \n",
    "    # condition (8)\n",
    "    for c,cc in inst.I:\n",
    "        for t in range(inst.T):\n",
    "            for v in range(inst.k):\n",
    "                m+=y[c][t][v]+y[cc][t][v]<=1\n",
    "                \n",
    "    # condition (9)\n",
    "    for t in range(inst.T):\n",
    "        for c in range(inst.C):\n",
    "            for s in range(inst.S):\n",
    "                m+=p[c][t][s]<=inst.b[s]*q[c][t][s]\n",
    "            \n",
    "    # condition (11)\n",
    "    for c in range(inst.C):\n",
    "        for s in range(inst.S):\n",
    "            m+=p[c][-1][s]==0\n",
    "\n",
    "    # condition (12)\n",
    "    for c in range(inst.C):\n",
    "            m+=w[c][-1]==0\n",
    "\n",
    "    # condition (10)    \n",
    "    for t in range(inst.T):\n",
    "        for c in range(inst.C):\n",
    "            m+=mip.xsum(p[c][t][s] for s in range(inst.S))+inst.d[c][t]+w[c][t-1]==mip.xsum(p[c][t-1][s] for s in range(inst.S))+ \\\n",
    "               mip.xsum(x[c][t][v] for v in range(inst.k))+w[c][t]\n",
    "                \n",
    "    # condition (13)\n",
    "    for t in range(inst.T):\n",
    "        for v in range(inst.k):\n",
    "            start=max(0,t-inst.r+1)\n",
    "            m+=mip.xsum(z[i][v] for i in range(start,t+1))<=1\n",
    "            \n",
    "    \n",
    "    m.objective=mip.minimize(mip.xsum(inst.g*z[t][v] for t in range(inst.T) for v in range(inst.k))+mip.xsum(inst.f*w[c][t] for c in range(inst.C) for t in range(inst.T)))\n",
    "\n",
    "    # Sehr stark verkürzte Zeit\n",
    "    m.verbose=0\n",
    "    opt_status=m.optimize(max_seconds=10)\n",
    "    if opt_status==mip.OptimizationStatus.INFEASIBLE:\n",
    "        raise Exception(\"mip infeasible\")\n",
    "    return m.objective_value,[p,q,w,x,y,z]"
   ]
  },
  {
   "cell_type": "markdown",
   "metadata": {
    "id": "Z7uUySQHw_Fz"
   },
   "source": [
    "## Strategische Betriebsplanung\n",
    "\n",
    "Wir beschaffen uns die Instanzen <code>instances</code>, mit der Sie arbeiten sollen. Dies ist eine Liste von Einzelinstanzen. Eine Besonderheit ist, dass der Vektor $b$ bereits den Eintrag $b_{S+1}$ enthält. "
   ]
  },
  {
   "cell_type": "code",
   "execution_count": 3,
   "metadata": {
    "colab": {
     "base_uri": "https://localhost:8080/"
    },
    "id": "yiUJTQn5w_F0",
    "outputId": "16e491ad-a243-4181-aa25-5cbc14438815"
   },
   "outputs": [
    {
     "name": "stdout",
     "output_type": "stream",
     "text": [
      "5 Instanzen geladen.\n"
     ]
    }
   ],
   "source": [
    "instances = chm.get_instances4()\n",
    "print('{} Instanzen geladen.'.format(len(instances)))"
   ]
  },
  {
   "cell_type": "markdown",
   "metadata": {
    "id": "Hwfxaf-aw_F1"
   },
   "source": [
    "### Wie viele zusätzliche Lastwagen sind notwendig, damit alle Rohstoffe pünktlich bereit gestellt werden?"
   ]
  },
  {
   "cell_type": "code",
   "execution_count": 4,
   "metadata": {
    "colab": {
     "base_uri": "https://localhost:8080/",
     "height": 447
    },
    "id": "3qDZWMDLw_F1",
    "outputId": "822c4c89-6299-428f-b534-8f6455c5f641"
   },
   "outputs": [
    {
     "name": "stdout",
     "output_type": "stream",
     "text": [
      "Es werden 8 LKWs benötig. Das sind 3 zusätzliche LKWs.\n",
      "Es werden 7 LKWs benötig. Das sind 2 zusätzliche LKWs.\n",
      "Es werden 6 LKWs benötig. Das sind 1 zusätzliche LKWs.\n",
      "Es werden 6 LKWs benötig. Das sind 1 zusätzliche LKWs.\n",
      "Es werden 7 LKWs benötig. Das sind 2 zusätzliche LKWs.\n"
     ]
    }
   ],
   "source": [
    "all_k =[]\n",
    "for inst in instances:\n",
    "    start_k = inst.k\n",
    "    while True:\n",
    "        objective_value,[p,q,w,x,y,z] = solve(inst)\n",
    "        if sum([w[c][t].x for t in range(inst.T) for c in range(inst.C)]) > 0:\n",
    "            inst.k += 1\n",
    "        else: \n",
    "            break\n",
    "    best_k = inst.k\n",
    "    all_k.append(best_k)\n",
    "    # Instanz auf Start_k zurücksetzen\n",
    "    inst.k=start_k\n",
    "    print('Es werden {} LKWs benötig. Das sind {} zusätzliche LKWs.'.format(best_k,best_k-start_k))\n"
   ]
  },
  {
   "cell_type": "markdown",
   "metadata": {
    "id": "Yfi6R9Cew_F3"
   },
   "source": [
    "### Zusätzlichen Lastwagen oder zusätzliches Zwischenlager?"
   ]
  },
  {
   "cell_type": "code",
   "execution_count": 5,
   "metadata": {
    "colab": {
     "base_uri": "https://localhost:8080/",
     "height": 1000
    },
    "id": "aFXNz9Qtw_F4",
    "outputId": "71e29640-8d04-47aa-d7e8-dd357bea24b5"
   },
   "outputs": [
    {
     "name": "stdout",
     "output_type": "stream",
     "text": [
      "Nächste Instanz:\n",
      "   Kosten ursprünglich      : 11120.0\n",
      "   Kosten zusätzlicher LKW  : 2824.0\n",
      "   Kosten zusätzliches Lager: 11120.0\n",
      "____________________________________________________________\n",
      "Nächste Instanz:\n",
      "   Kosten ursprünglich      : 12120.0\n",
      "   Kosten zusätzlicher LKW  : 3023.0\n",
      "   Kosten zusätzliches Lager: 12120.0\n",
      "____________________________________________________________\n",
      "Nächste Instanz:\n",
      "   Kosten ursprünglich      : 1120.0\n",
      "   Kosten zusätzlicher LKW  : 21.0\n",
      "   Kosten zusätzliches Lager: 1120.0\n",
      "____________________________________________________________\n",
      "Nächste Instanz:\n",
      "   Kosten ursprünglich      : 4017.0\n",
      "   Kosten zusätzlicher LKW  : 17.0\n",
      "   Kosten zusätzliches Lager: 4017.0\n",
      "____________________________________________________________\n",
      "Nächste Instanz:\n",
      "   Kosten ursprünglich      : 13020.0\n",
      "   Kosten zusätzlicher LKW  : 1522.0\n",
      "   Kosten zusätzliches Lager: 13020.0\n",
      "____________________________________________________________\n"
     ]
    }
   ],
   "source": [
    "old = []\n",
    "add_lkw = []\n",
    "add_storage = []\n",
    "for inst in instances:\n",
    "    objective_value,_ = solve(inst)\n",
    "    # Zusätzlicher LKW\n",
    "    inst.k += 1\n",
    "    objective_value_lkw,_ = solve(inst)\n",
    "    # LKW entfernen und Lager einfügen\n",
    "    inst.k -= 1\n",
    "    inst.S += 1\n",
    "    objective_value_lager,_ = solve(inst)\n",
    "    inst.S -= 1\n",
    "    old.append(objective_value)\n",
    "    add_lkw.append(objective_value_lkw)\n",
    "    add_storage.append(objective_value_lager)\n",
    "    print('Nächste Instanz:')\n",
    "    print('   Kosten ursprünglich      : {:.1f}'.format(objective_value))\n",
    "    print('   Kosten zusätzlicher LKW  : {:.1f}'.format(objective_value_lkw))\n",
    "    print('   Kosten zusätzliches Lager: {:.1f}'.format(objective_value_lager))\n",
    "    print('____________________________________________________________')\n",
    "\n"
   ]
  }
 ],
 "metadata": {
  "colab": {
   "name": "chem4.ipynb",
   "provenance": []
  },
  "kernelspec": {
   "display_name": "Python 3 (ipykernel)",
   "language": "python",
   "name": "python3"
  },
  "language_info": {
   "codemirror_mode": {
    "name": "ipython",
    "version": 3
   },
   "file_extension": ".py",
   "mimetype": "text/x-python",
   "name": "python",
   "nbconvert_exporter": "python",
   "pygments_lexer": "ipython3",
   "version": "3.10.10"
  }
 },
 "nbformat": 4,
 "nbformat_minor": 4
}
