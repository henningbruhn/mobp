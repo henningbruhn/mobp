{
 "cells": [
  {
   "cell_type": "markdown",
   "metadata": {},
   "source": [
    "# Renault car sequencing I -- Exploration\n",
    "\n",
    "Version 14/05/22\n",
    "\n",
    "Herkunft von Problem und Daten:\n",
    "https://www.roadef.org/challenge/2005/en/\n",
    "\n",
    "\n",
    "Wir importieren ein paar Pakete. (Nicht alle brauchen wir hier.) \n",
    "<ul>\n",
    "    <li><code>numpy</code>: wissenschaftliche Bibliothek, im wesentlichen für die array-Klasse</li>\n",
    "    <li><code>matplotlib</code>: Visualisierungsfunktionen</li>\n",
    "    <li><code>math</code>: mathematische Funktionen</li>\n",
    "</ul>"
   ]
  },
  {
   "cell_type": "code",
   "execution_count": 1,
   "metadata": {},
   "outputs": [],
   "source": [
    "import numpy as np\n",
    "import matplotlib.pyplot as plt\n",
    "import math\n",
    "\n",
    "plt.style.use(\"seaborn\")  ## plots sehen so ein bisschen schöner aus"
   ]
  },
  {
   "cell_type": "markdown",
   "metadata": {},
   "source": [
    "Als nächstes werden die Instanzdaten gelesen und eine Bibliothek (<code>rnlt</code>, kurz für *Renault*) mit Hilfscode (data handling und Visualisierung) importiert. Weiterhin werden die Instanzdaten und <code>rnlt</code> automatisch heruntergeladen -- dies funktioniert so wie es dort steht unter Google Colab und unter Linux (evtl auch iOs). Wenn Sie den Code auf einem Windows-Rechner lokal ausführen wollen, dann laden Sie die Instanzdaten unter (https://www.roadef.org/challenge/2005/files/Instances_set_A.zip)(https://www.roadef.org/challenge/2005/files/Instances_set_A.zip) herunter, dann entpacken Sie die Daten und speichern Sie die Daten und <code>rnlt.py</code> im gleichen Ordner wie dieses juypter-Notebook. Weiterhin müssen Sie die ersten drei Zeilen auskommentieren."
   ]
  },
  {
   "cell_type": "code",
   "execution_count": 2,
   "metadata": {},
   "outputs": [],
   "source": [
    "!wget -q https://www.roadef.org/challenge/2005/files/Instances_set_A.zip\n",
    "!unzip -q Instances_set_A.zip\n",
    "!wget -q https://raw.githubusercontent.com/henningbruhn/mobp/main/sequencing_aufgabe/rnlt.py\n",
    "\n",
    "# Pfad zu den gespeicherten Instanzen -- ersetzen Sie das evtl durch den entsprechenden Pfad bei Ihnen\n",
    "#path=\"RENAULT/Instances_set_A/\"   \n",
    "path=\"Instances\"\n",
    "\n",
    "import rnlt"
   ]
  },
  {
   "cell_type": "markdown",
   "metadata": {},
   "source": [
    "## Methoden zum Einlesen aller Instanzen\n",
    "\n",
    "Die Daten bestehen aus eine Reihe von Instanzen. Jede Instanz umfasst die Produktion an einem Tag in einer Fertigungsstätte. Renault verfügt über mehrere Fertigungsstätten. Entsprechend können sich die Instanzen unterscheiden.\n",
    "Alle Instanzen unter path werden mit der Hilfsfunktion <code>read_in_all_instances</code> aus <code>rnlt</code> in das dictionary <code>data_dict</code> eingelesen. "
   ]
  },
  {
   "cell_type": "code",
   "execution_count": 3,
   "metadata": {},
   "outputs": [
    {
     "name": "stdout",
     "output_type": "stream",
     "text": [
      "Folgende Instanzen wurden eingelesen: \n",
      "  039_38_4_EP_RAF_ch1\n",
      "  024_38_3_EP_ENP_RAF\n",
      "  048_39_1_EP_ENP_RAF\n",
      "  025_38_1_EP_ENP_RAF\n",
      "  064_38_2_EP_RAF_ENP_ch1\n",
      "  064_38_2_RAF_EP_ENP_ch2\n",
      "  022_3_4_EP_RAF_ENP\n",
      "  048_39_1_EP_RAF_ENP\n",
      "  024_38_5_EP_RAF_ENP\n",
      "  039_38_4_RAF_EP_ch1\n",
      "  024_38_3_EP_RAF_ENP\n",
      "  025_38_1_EP_RAF_ENP\n",
      "  064_38_2_EP_RAF_ENP_ch2\n",
      "  064_38_2_RAF_EP_ENP_ch1\n",
      "  022_3_4_RAF_EP_ENP\n",
      "  024_38_5_EP_ENP_RAF\n"
     ]
    }
   ],
   "source": [
    "data_dict=rnlt.read_in_all_instances(path)"
   ]
  },
  {
   "cell_type": "markdown",
   "metadata": {},
   "source": [
    "Wir gucken uns nun eine Instanz an. Jede Instanz ist wiederum ein dictionary und hält verschiedene Daten bereit. Mit <code>dictionary.keys()</code> erhalten wir eine Liste der im dictionary abgespeicherten Schlüsselwörter."
   ]
  },
  {
   "cell_type": "code",
   "execution_count": 4,
   "metadata": {},
   "outputs": [
    {
     "data": {
      "text/plain": [
       "dict_keys(['ratios', 'weights', 'current_day', 'renault_schedule', 'paint_batch_limit', 'name'])"
      ]
     },
     "execution_count": 4,
     "metadata": {},
     "output_type": "execute_result"
    }
   ],
   "source": [
    "sample_instance=data_dict['064_38_2_EP_RAF_ENP_ch1']\n",
    "sample_instance.keys()"
   ]
  },
  {
   "cell_type": "markdown",
   "metadata": {},
   "source": [
    "Gucken wir uns die verschiedenen Einträge an. <code>'name'</code> ist, wenig überraschend, der Name der Instanz."
   ]
  },
  {
   "cell_type": "code",
   "execution_count": 5,
   "metadata": {},
   "outputs": [
    {
     "data": {
      "text/plain": [
       "'064_38_2_EP_RAF_ENP_ch1'"
      ]
     },
     "execution_count": 5,
     "metadata": {},
     "output_type": "execute_result"
    }
   ],
   "source": [
    "sample_instance['name']"
   ]
  },
  {
   "cell_type": "markdown",
   "metadata": {},
   "source": [
    "Der Eintrag <code>'current_day'</code> enthält die Fahrzeuge, die gereiht werden müssen."
   ]
  },
  {
   "cell_type": "code",
   "execution_count": 6,
   "metadata": {},
   "outputs": [
    {
     "data": {
      "text/plain": [
       "[64033840771,\n",
       " 64033750048,\n",
       " 64033820923,\n",
       " 64033820874,\n",
       " 64033810649,\n",
       " 64033820888,\n",
       " 64033820985,\n",
       " 64033806803,\n",
       " 64033840889,\n",
       " 64033810753]"
      ]
     },
     "execution_count": 6,
     "metadata": {},
     "output_type": "execute_result"
    }
   ],
   "source": [
    "sample_instance['current_day'][:10]  ## nur die ersten 10 Einträge"
   ]
  },
  {
   "cell_type": "markdown",
   "metadata": {},
   "source": [
    "Was wir sehen: die Id-Nummern der Fahrzeuge. In der Liste sind aber tatsächlich die Fahrzeuge gespeichert, und zwar als Objekte. Betrachten wir ein Fahrzeug."
   ]
  },
  {
   "cell_type": "code",
   "execution_count": 7,
   "metadata": {},
   "outputs": [
    {
     "name": "stdout",
     "output_type": "stream",
     "text": [
      "Fahrzeug Id-Nr 64033840854 hat Farbe 7\n",
      "Es sollen folgende Optionen verbaut werden: ['HPRC5', 'LPRC2']\n"
     ]
    }
   ],
   "source": [
    "car=sample_instance['current_day'][42]\n",
    "print(\"Fahrzeug Id-Nr {} hat Farbe {}\".format(car.ident,car.colour))\n",
    "print(\"Es sollen folgende Optionen verbaut werden: {}\".format(car.options))"
   ]
  },
  {
   "cell_type": "markdown",
   "metadata": {},
   "source": [
    "Dh jeder Eintrag <code>car</code> in der Liste <code>sample_instance['current_day']</code> hat die Eigenschaften\n",
    "<ul>\n",
    "    <li><code>car.ident</code>: die Id-Nr</li>\n",
    "    <li><code>car.colour</code>: die Farbe</li>\n",
    "    <li><code>car.options</code>: die zu verbauenden Optionen</li>\n",
    "</ul>\n",
    "\n",
    "Mit <code>print</code> können diese Eigenschaft direkt ausgegeben werden."
   ]
  },
  {
   "cell_type": "code",
   "execution_count": 8,
   "metadata": {},
   "outputs": [
    {
     "name": "stdout",
     "output_type": "stream",
     "text": [
      "id: 64033820985, Farbe: 1, Optionen: ['HPRC7', 'LPRC2']\n"
     ]
    }
   ],
   "source": [
    "print(sample_instance['current_day'][6])"
   ]
  },
  {
   "cell_type": "markdown",
   "metadata": {},
   "source": [
    "Weiterhin enthält die Instanz Information zu den $p/q$-Bedinungen, abgespeichert als dictionary. Die Einträge sind jeweils als <code>(p,q)</code> abgelegt."
   ]
  },
  {
   "cell_type": "code",
   "execution_count": 9,
   "metadata": {},
   "outputs": [
    {
     "data": {
      "text/plain": [
       "{'HPRC1': (1, 8),\n",
       " 'HPRC2': (1, 2),\n",
       " 'HPRC3': (1, 7),\n",
       " 'HPRC4': (1, 15),\n",
       " 'HPRC5': (2, 3),\n",
       " 'HPRC6': (1, 30),\n",
       " 'HPRC7': (4, 5),\n",
       " 'LPRC1': (1, 6),\n",
       " 'LPRC2': (1, 3)}"
      ]
     },
     "execution_count": 9,
     "metadata": {},
     "output_type": "execute_result"
    }
   ],
   "source": [
    "sample_instance['ratios']"
   ]
  },
  {
   "cell_type": "markdown",
   "metadata": {},
   "source": [
    "Renault hat jeweils bereits eine Reihung algorithmisch ermittelt. Zum Vergleich können wir sie heranziehen. Wir wollen natürlich besser sein."
   ]
  },
  {
   "cell_type": "code",
   "execution_count": 10,
   "metadata": {},
   "outputs": [
    {
     "data": {
      "text/plain": [
       "[64033840771,\n",
       " 64033750048,\n",
       " 64033820923,\n",
       " 64033820874,\n",
       " 64033810649,\n",
       " 64033820888,\n",
       " 64033820985,\n",
       " 64033806803,\n",
       " 64033840889,\n",
       " 64033810753]"
      ]
     },
     "execution_count": 10,
     "metadata": {},
     "output_type": "execute_result"
    }
   ],
   "source": [
    "sample_instance['renault_schedule'][:10]  ## wir zeigen nur die ersten 10 Einträge an"
   ]
  },
  {
   "cell_type": "markdown",
   "metadata": {},
   "source": [
    "Es folgen zwei weitere Parameter: das paint_batch_limit und die Gewichtung der Ziele"
   ]
  },
  {
   "cell_type": "code",
   "execution_count": 11,
   "metadata": {},
   "outputs": [
    {
     "data": {
      "text/plain": [
       "15"
      ]
     },
     "execution_count": 11,
     "metadata": {},
     "output_type": "execute_result"
    }
   ],
   "source": [
    "sample_instance['paint_batch_limit']"
   ]
  },
  {
   "cell_type": "code",
   "execution_count": 12,
   "metadata": {},
   "outputs": [
    {
     "data": {
      "text/plain": [
       "{'paint': 1000, 'high': 1000000, 'low': 1}"
      ]
     },
     "execution_count": 12,
     "metadata": {},
     "output_type": "execute_result"
    }
   ],
   "source": [
    "sample_instance['weights']"
   ]
  },
  {
   "cell_type": "markdown",
   "metadata": {},
   "source": [
    "Dies ist so zu lesen: Größte Priorität bei der Optimierung wird den high-priority Optionen zugewiesen, dann folgt die Zahl der Farbwechsel und schließlich die low-priority Optionen. \n",
    "\n",
    "Um das Ziel der Optimierung besser für den/die Anwender/in zu verdeutlichen, gibt's auch noch eine Methode:"
   ]
  },
  {
   "cell_type": "code",
   "execution_count": 13,
   "metadata": {},
   "outputs": [
    {
     "data": {
      "text/plain": [
       "'high >> paint >> low'"
      ]
     },
     "execution_count": 13,
     "metadata": {},
     "output_type": "execute_result"
    }
   ],
   "source": [
    "rnlt.prio_string(sample_instance)"
   ]
  },
  {
   "cell_type": "markdown",
   "metadata": {},
   "source": [
    "## 1. Aufgabe: Exploration der Instanzen\n",
    "\n",
    "Bevor der erste Algorithmus formuliert wird, sollten die Daten gesichtet werden. Manchmal ergibt sich die eine oder andere Überraschung: ein Aspekt des Problems ist anders als vom Anwender dargestellt, andere Aspekte erweisen sich als unwichtig, da sie kaum vorkommen usw. Wichtig ist es auch, eine Idee vom Umfang des Problems zu erhalten. Wie groß sind überhaupt die Instanzen?\n",
    "\n",
    "Überlegen Sie sich, welche Daten Sie über die Instanzen erheben wollen. Betrachten Sie einzelne Instanzen und aber auch die Gesamtheit der Instanzen. Welche Daten können Ihnen Einblicke in das Problem verschaffen? Beispielhaft listen wir als erstes die Instanzgrößen auf, dh, wie viele Fahrzeuge jeweils produziert werden sollen:"
   ]
  },
  {
   "cell_type": "code",
   "execution_count": 14,
   "metadata": {},
   "outputs": [
    {
     "data": {
      "text/plain": [
       "[335,\n",
       " 335,\n",
       " 485,\n",
       " 485,\n",
       " 600,\n",
       " 600,\n",
       " 875,\n",
       " 875,\n",
       " 954,\n",
       " 954,\n",
       " 1004,\n",
       " 1004,\n",
       " 1260,\n",
       " 1260,\n",
       " 1315,\n",
       " 1315]"
      ]
     },
     "execution_count": 14,
     "metadata": {},
     "output_type": "execute_result"
    }
   ],
   "source": [
    "sizes=[len(instance['current_day']) for instance in data_dict.values()]\n",
    "sorted(sizes)"
   ]
  },
  {
   "cell_type": "markdown",
   "metadata": {},
   "source": [
    "Und jetzt Sie! Lassen Sie sich das <code>paint_batch_limit</code> über alle Instanzen ausgeben. Gucken Sie welche Optimierungsziele vorgeschrieben werden. Nehmen Sie sich eine, zwei Instanzen und zählen Sie wie oft jede Farbe und jedes Extra vorkommt. Gibt es weitere Kennzahlen, die nützlich wären?"
   ]
  },
  {
   "cell_type": "markdown",
   "metadata": {},
   "source": [
    "## Lösung\n",
    "\n",
    "Als erstes geben wir die <code>paint_batch_limit</code> aus."
   ]
  },
  {
   "cell_type": "code",
   "execution_count": 15,
   "metadata": {
    "tags": []
   },
   "outputs": [
    {
     "data": {
      "text/plain": [
       "[10, 10, 10, 10, 10, 10, 10, 10, 15, 15, 15, 15, 15, 20, 450, 450]"
      ]
     },
     "execution_count": 15,
     "metadata": {},
     "output_type": "execute_result"
    }
   ],
   "source": [
    "paint_batch_limits=[instance['paint_batch_limit'] for instance in data_dict.values()]\n",
    "sorted(paint_batch_limits)"
   ]
  },
  {
   "cell_type": "markdown",
   "metadata": {},
   "source": [
    "Als nächstes schauen wir, welche Optimierungsziele vorgeschrieben sind:"
   ]
  },
  {
   "cell_type": "code",
   "execution_count": 16,
   "metadata": {},
   "outputs": [
    {
     "data": {
      "text/plain": [
       "{'high >> paint >> low': 8,\n",
       " 'high >> low >> paint': 4,\n",
       " 'paint >> high >> low': 4}"
      ]
     },
     "execution_count": 16,
     "metadata": {},
     "output_type": "execute_result"
    }
   ],
   "source": [
    "count_prios={}\n",
    "for instance in data_dict.values():\n",
    "    prio=rnlt.prio_string(instance)\n",
    "    count_prios[prio]=count_prios.get(prio,0)+1\n",
    "count_prios"
   ]
  },
  {
   "cell_type": "markdown",
   "metadata": {},
   "source": [
    "Nun betrachten wir die Farben in einer Instanz."
   ]
  },
  {
   "cell_type": "code",
   "execution_count": 17,
   "metadata": {},
   "outputs": [
    {
     "name": "stdout",
     "output_type": "stream",
     "text": [
      "**Farben**\n",
      "Farbe 5: 177-mal\n",
      "Farbe 1: 185-mal\n",
      "Farbe 6: 1-mal\n",
      "Farbe 7: 148-mal\n",
      "Farbe 8: 77-mal\n",
      "Farbe 9: 67-mal\n",
      "Farbe 10: 37-mal\n",
      "Farbe 11: 19-mal\n",
      "Farbe 2: 28-mal\n",
      "Farbe 12: 45-mal\n",
      "Farbe 13: 29-mal\n",
      "Farbe 14: 10-mal\n",
      "Farbe 3: 38-mal\n",
      "Farbe 4: 14-mal\n"
     ]
    }
   ],
   "source": [
    "def count_colours_and_options(instance):\n",
    "    colour_count={}\n",
    "    option_count={}\n",
    "    for car in instance['current_day']:\n",
    "        colour_count[car.colour]=colour_count.get(car.colour,0)+1\n",
    "        for option in car.options:\n",
    "            option_count[option]=option_count.get(option,0)+1\n",
    "    return colour_count,option_count\n",
    "\n",
    "def print_colour_summary(instance):\n",
    "    colour_count,option_count=count_colours_and_options(instance)\n",
    "    print(\"**Farben**\")\n",
    "    for key in colour_count.keys():\n",
    "        print(\"Farbe {}: {}-mal\".format(key,colour_count[key]))\n",
    "\n",
    "print_colour_summary(sample_instance)"
   ]
  },
  {
   "cell_type": "markdown",
   "metadata": {},
   "source": [
    "Für die Extras berechnen wir gleich ein wenig mehr. Wir schreiben gleich eine Funktion, die alle wesentlichen Daten über die Instanz ausgibt. Dazu schätzen wir die Mindestanzahl der Farbwechsel ab. Auch interessant: Wie viel *Luft* ist bei den jeweiligen Extras, dh, wenn die nachgefragten Extras gleichmäßig über die Reihung verteilt werden, wie viele Extras könnten noch zusätzlich verbaut werden, bevor die erste p/q-Verletzung eintritt?"
   ]
  },
  {
   "cell_type": "code",
   "execution_count": 18,
   "metadata": {},
   "outputs": [
    {
     "name": "stdout",
     "output_type": "stream",
     "text": [
      "Instanz 064_38_2_EP_RAF_ENP_ch1\n",
      "Priorität: high >> paint >> low\n",
      "Fahrzeuge: 875\n",
      "paint_batch_limit: 15\n",
      "Farben | Min-Farbwechsel: 14 | 65\n",
      "Option | p/q | Anzahl | balance: HPRC1 | 1/8 | 56 | 54\n",
      "Option | p/q | Anzahl | balance: HPRC2 | 1/2 | 181 | 257\n",
      "Option | p/q | Anzahl | balance: HPRC3 | 1/7 | 56 | 69\n",
      "Option | p/q | Anzahl | balance: HPRC4 | 1/15 | 14 | 45\n",
      "Option | p/q | Anzahl | balance: HPRC5 | 2/3 | 375 | 209\n",
      "Option | p/q | Anzahl | balance: HPRC6 | 1/30 | 16 | 14\n",
      "Option | p/q | Anzahl | balance: HPRC7 | 4/5 | 500 | 200\n",
      "Option | p/q | Anzahl | balance: LPRC1 | 1/6 | 59 | 87\n",
      "Option | p/q | Anzahl | balance: LPRC2 | 1/3 | 534 | -242\n"
     ]
    }
   ],
   "source": [
    "from operator import itemgetter\n",
    "def lower_bound_colour_changes(colour_count,instance):\n",
    "    colour_changes=0\n",
    "    paint_batch_limit=instance['paint_batch_limit']\n",
    "    for colour in colour_count.keys():\n",
    "        colour_changes+=(colour_count[colour]//paint_batch_limit) +1 ## technically, would need to subtract 1 from colour_count\n",
    "    return colour_changes\n",
    "\n",
    "def lower_bound_option_surplus(option_count,instance):\n",
    "    N=len(instance['current_day'])\n",
    "    result=[]\n",
    "    for option in option_count.keys():\n",
    "        p,q=instance['ratios'][option]\n",
    "        #surplus=math.ceil(max(option_count[option]-N*p/q,0))\n",
    "        surplus=math.ceil(N*p/q-option_count[option])\n",
    "        option_result=(option,p,q,option_count[option],surplus)\n",
    "        result.append(option_result)\n",
    "    return sorted(result,key=itemgetter(0))  # cosmetics\n",
    "\n",
    "def print_stats(instance):\n",
    "    print(\"Instanz {}\".format(instance['name']))\n",
    "    print(\"Priorität: \"+rnlt.prio_string(instance))\n",
    "    N=len(instance['current_day'])\n",
    "    print(\"Fahrzeuge: {}\".format(N))\n",
    "    print(\"paint_batch_limit: {}\".format(instance['paint_batch_limit']))\n",
    "    colour_count,option_count=count_colours_and_options(instance)\n",
    "    colour_changes=lower_bound_colour_changes(colour_count,instance)\n",
    "    print(\"Farben | Min-Farbwechsel: {} | {}\".format(len(colour_count.keys()),colour_changes))\n",
    "    options=lower_bound_option_surplus(option_count,instance)\n",
    "    for item in options:\n",
    "        print(\"Option | p/q | Anzahl | balance: {} | {}/{} | {} | {}\".format(*item))\n",
    "    \n",
    "print_stats(sample_instance)"
   ]
  },
  {
   "cell_type": "markdown",
   "metadata": {},
   "source": [
    "Möglicherweise gibt es nur ganz wenige unterschiedliche Typen von Extras/Farb-Kombinationen. Zählen wir mal."
   ]
  },
  {
   "cell_type": "code",
   "execution_count": 19,
   "metadata": {},
   "outputs": [
    {
     "data": {
      "text/plain": [
       "133"
      ]
     },
     "execution_count": 19,
     "metadata": {},
     "output_type": "execute_result"
    }
   ],
   "source": [
    "def car_type(car):\n",
    "    T=sorted(car.options)\n",
    "    T.append(car.colour)\n",
    "    return tuple(T)\n",
    "\n",
    "def unique_types(instance):\n",
    "    types=[]\n",
    "    for car in instance['current_day']:\n",
    "        t=car_type(car)\n",
    "        if not t in types:\n",
    "            types.append(t)\n",
    "    return types\n",
    "\n",
    "U=unique_types(sample_instance)\n",
    "len(U)"
   ]
  },
  {
   "cell_type": "markdown",
   "metadata": {},
   "source": [
    "...leider nicht der Fall."
   ]
  }
 ],
 "metadata": {
  "kernelspec": {
   "display_name": "Python 3",
   "language": "python",
   "name": "python3"
  },
  "language_info": {
   "codemirror_mode": {
    "name": "ipython",
    "version": 3
   },
   "file_extension": ".py",
   "mimetype": "text/x-python",
   "name": "python",
   "nbconvert_exporter": "python",
   "pygments_lexer": "ipython3",
   "version": "3.8.8"
  }
 },
 "nbformat": 4,
 "nbformat_minor": 4
}
