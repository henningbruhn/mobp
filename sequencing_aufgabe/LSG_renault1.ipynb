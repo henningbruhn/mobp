{
 "cells": [
  {
   "cell_type": "markdown",
   "metadata": {},
   "source": [
    "# Renault car sequencing I -- Exploration\n",
    "\n",
    "Herkunft von Problem und Daten:\n",
    "https://www.roadef.org/challenge/2005/en/\n",
    "\n",
    "\n",
    "Es werden fünf Pakete importiert. \n",
    "<ul>\n",
    "    <li><code>pandas</code>: Manipulation von Tabellendaten</li>\n",
    "    <li><code>numpy</code>: wissenschaftliche Bibliothek, im wesentlichen für die array-Klasse</li>\n",
    "    <li><code>matplotlib</code>: Visualisierung</li>\n",
    "    <li><code>os</code>: Systemzugriffen, insbesondere Navigation des Dateisystems</li>\n",
    "    <li><code>re</code>: regular expressions</li>\n",
    "</ul>"
   ]
  },
  {
   "cell_type": "code",
   "execution_count": 1,
   "metadata": {},
   "outputs": [],
   "source": [
    "import pandas as pd\n",
    "import numpy as np\n",
    "import os\n",
    "import matplotlib.pyplot as plt\n",
    "import re\n",
    "import math\n",
    "import random"
   ]
  },
  {
   "cell_type": "code",
   "execution_count": 2,
   "metadata": {},
   "outputs": [],
   "source": [
    "path=\"../RENAULT/Instances_set_A/\"   # Pfad zu den gespeicherten Instanzen -- ersetzen Sie das durch den entsprechenden Pfad bei Ihnen\n",
    "\n",
    "#!wget https://www.roadef.org/challenge/2005/files/Instances_set_A.zip\n",
    "#!unzip Instances_set_A.zip\n",
    "#path=\"Instances_set_A/\""
   ]
  },
  {
   "cell_type": "markdown",
   "metadata": {},
   "source": [
    "## Methoden zum Einlesen aller Instanzen\n",
    "\n",
    "Die Daten bestehen aus eine Reihe von Instanzen. Jede Instanz umfasst die Produktion an einem Tag in einer Fertigungsstätte. Renault verfügt über mehrere Fertigungsstätten. Entsprechend können sich die Instanzen unterscheiden.\n",
    "Alle Instanzen unter path werden in ein dictionary eingelesen <code>data_dict</code>. Den Code in der folgenden Zelle müssen Sie nicht genauer angucken. Einzig die Klasse <code>Vehicle</code> ist interessant."
   ]
  },
  {
   "cell_type": "code",
   "execution_count": 25,
   "metadata": {},
   "outputs": [],
   "source": [
    "class Vehicle:\n",
    "    def __init__(self,ident,colour,options):\n",
    "        self.ident=ident\n",
    "        self.colour=colour\n",
    "        self.options=options\n",
    "        \n",
    "    def __repr__(self):\n",
    "        return str(self.ident)\n",
    "    \n",
    "    def __str__(self):\n",
    "        return \"id: {}, Farbe: {}, Optionen: {}\".format(self.ident,self.colour,self.options)\n",
    "\n",
    "def get_weights(opt_objectives):\n",
    "    weights={'paint':0, 'high':0, 'low':0}\n",
    "    w=[1000000,1000,1]\n",
    "    for i,row in opt_objectives.iterrows():\n",
    "        key=re.match(r\"([a-z]+)_\",row['objective name']).group(1)\n",
    "        weights[key]=w[row['rank']-1]\n",
    "    return weights\n",
    "    \n",
    "def read_objectives(filepath):\n",
    "    opt_objectives=pd.read_csv(filepath,sep=';')\n",
    "    opt_objectives=opt_objectives.drop(columns=\"Unnamed: 2\")\n",
    "    return get_weights(opt_objectives)\n",
    "    \n",
    "def parse_paint_batch_limit(filepath):\n",
    "    paint_batch_limit_csv=pd.read_csv(filepath,sep=';')\n",
    "    paint_batch_limit=paint_batch_limit_csv.loc[0,'limitation']\n",
    "    return paint_batch_limit    \n",
    "\n",
    "def read_ratios(filepath):\n",
    "    ratios_table=pd.read_csv(filepath,sep=';')\n",
    "    ratios_table['p']=ratios_table[\"Ratio\"].str.extract(r\"(\\d*)/\").astype('int')\n",
    "    ratios_table['q']=ratios_table[\"Ratio\"].str.extract(r\"/(\\d*)\").astype('int')\n",
    "    ratios_table=ratios_table.drop(columns=['Unnamed: 3'])\n",
    "    ratios={}\n",
    "    for i,row in ratios_table.iterrows():\n",
    "        ratios[row['Ident']]=(row['p'],row['q'])\n",
    "    return ratios\n",
    "\n",
    "def process_vehicles(vehicles):\n",
    "    previous_day_vehicles=[]\n",
    "    current_day_vehicles=[]\n",
    "    for i,row in vehicles.iterrows():\n",
    "        options=[option for option in row[4:-1].index if row[option]==1]\n",
    "        car=Vehicle(row[\"Ident\"],row['Paint Color'],options)\n",
    "        if row['already scheduled']:\n",
    "            previous_day_vehicles.append(car)\n",
    "        else:\n",
    "            current_day_vehicles.append(car)\n",
    "    return previous_day_vehicles,current_day_vehicles\n",
    "\n",
    "def read_vehicles(filepath):\n",
    "    vehicles=pd.read_csv(filepath,sep=';')\n",
    "    previous_day=vehicles['Date'].iloc[0]\n",
    "    vehicles[\"already scheduled\"]=vehicles['Date']==previous_day\n",
    "    return vehicles\n",
    "\n",
    "def get_renault_schedule(vehicles):\n",
    "    \"\"\"\n",
    "    Die Reihung des Renault-Algorithmus\n",
    "    \"\"\"\n",
    "    renault_schedule=list(vehicles.loc[vehicles['already scheduled']==False,'Ident'])\n",
    "    return renault_schedule\n",
    "\n",
    "def read_in_all_instances(path,silent=False):\n",
    "    data_dict={}\n",
    "    for root, dirs, files in os.walk(path):\n",
    "        instance_dict={}\n",
    "        rest,first=os.path.split(root)\n",
    "        data_dict[first]=instance_dict\n",
    "        for filename in files:\n",
    "            filepath=os.path.join(root,filename)\n",
    "            if filename==\"optimization_objectives.txt\":\n",
    "                opt_obj=read_objectives(filepath)\n",
    "                instance_dict[\"weights\"]=opt_obj            \n",
    "            if filename==\"paint_batch_limit.txt\":\n",
    "                paint_batch_limit=parse_paint_batch_limit(filepath)\n",
    "                instance_dict['paint_batch_limit']=paint_batch_limit\n",
    "            if filename==\"ratios.txt\":\n",
    "                ratios=read_ratios(filepath)\n",
    "                instance_dict[\"ratios\"]=ratios            \n",
    "            if filename==\"vehicles.txt\":\n",
    "                vehicles=read_vehicles(filepath)\n",
    "                previous,current=process_vehicles(vehicles)\n",
    "                #instance_dict[\"previous_day\"]=previous   # we don't use this\n",
    "                instance_dict[\"current_day\"]=current\n",
    "                instance_dict[\"renault_schedule\"]=current.copy()\n",
    "    delete=[]\n",
    "    for key in data_dict.keys():\n",
    "        if data_dict[key]=={}:\n",
    "            delete.append(key)\n",
    "        data_dict[key]['name']=key\n",
    "    for key in delete:\n",
    "        del data_dict[key]\n",
    "    if not silent:\n",
    "        print(\"Folgende Instanzen wurden eingelesen: \")\n",
    "        for key in data_dict.keys():\n",
    "            print(\"  \"+key)\n",
    "    return data_dict\n",
    "\n",
    "from operator import itemgetter\n",
    "def prio_string(instance):\n",
    "    prio=[what for what,weight in sorted(instance['weights'].items(),key=itemgetter(1),reverse=True)]\n",
    "    return \"{} >> {} >> {}\".format(prio[0],prio[1],prio[2])"
   ]
  },
  {
   "cell_type": "markdown",
   "metadata": {},
   "source": [
    "Wir lesen alle Instanzen ein und speichern sie in einem dictionary. "
   ]
  },
  {
   "cell_type": "code",
   "execution_count": 4,
   "metadata": {},
   "outputs": [
    {
     "name": "stdout",
     "output_type": "stream",
     "text": [
      "Folgende Instanzen wurden eingelesen: \n",
      "  039_38_4_EP_RAF_ch1\n",
      "  024_38_3_EP_ENP_RAF\n",
      "  048_39_1_EP_ENP_RAF\n",
      "  025_38_1_EP_ENP_RAF\n",
      "  064_38_2_EP_RAF_ENP_ch1\n",
      "  064_38_2_RAF_EP_ENP_ch2\n",
      "  022_3_4_EP_RAF_ENP\n",
      "  048_39_1_EP_RAF_ENP\n",
      "  024_38_5_EP_RAF_ENP\n",
      "  039_38_4_RAF_EP_ch1\n",
      "  024_38_3_EP_RAF_ENP\n",
      "  025_38_1_EP_RAF_ENP\n",
      "  064_38_2_EP_RAF_ENP_ch2\n",
      "  064_38_2_RAF_EP_ENP_ch1\n",
      "  022_3_4_RAF_EP_ENP\n",
      "  024_38_5_EP_ENP_RAF\n"
     ]
    }
   ],
   "source": [
    "data_dict=read_in_all_instances(path)"
   ]
  },
  {
   "cell_type": "markdown",
   "metadata": {},
   "source": [
    "Wir gucken uns nun eine Instanz an. Jede Instanz ist wiederum ein dictionary und hält verschiedene Daten bereit. Mit <code>dictionary.keys()</code> erhalten wir eine Liste der im dictionary abgespeicherten Schlüsselwörter."
   ]
  },
  {
   "cell_type": "code",
   "execution_count": 5,
   "metadata": {},
   "outputs": [
    {
     "data": {
      "text/plain": [
       "dict_keys(['ratios', 'weights', 'current_day', 'renault_schedule', 'paint_batch_limit', 'name'])"
      ]
     },
     "execution_count": 5,
     "metadata": {},
     "output_type": "execute_result"
    }
   ],
   "source": [
    "sample_instance=data_dict['064_38_2_EP_RAF_ENP_ch1']\n",
    "sample_instance.keys()"
   ]
  },
  {
   "cell_type": "code",
   "execution_count": 6,
   "metadata": {},
   "outputs": [
    {
     "data": {
      "text/plain": [
       "'064_38_2_EP_RAF_ENP_ch1'"
      ]
     },
     "execution_count": 6,
     "metadata": {},
     "output_type": "execute_result"
    }
   ],
   "source": [
    "sample_instance['name']"
   ]
  },
  {
   "cell_type": "code",
   "execution_count": 7,
   "metadata": {},
   "outputs": [
    {
     "data": {
      "text/plain": [
       "[64033840771,\n",
       " 64033750048,\n",
       " 64033820923,\n",
       " 64033820874,\n",
       " 64033810649,\n",
       " 64033820888,\n",
       " 64033820985,\n",
       " 64033806803,\n",
       " 64033840889,\n",
       " 64033810753]"
      ]
     },
     "execution_count": 7,
     "metadata": {},
     "output_type": "execute_result"
    }
   ],
   "source": [
    "sample_instance['current_day'][:10]  ## nur die ersten 10 Einträge"
   ]
  },
  {
   "cell_type": "markdown",
   "metadata": {},
   "source": [
    "Was wir sehen: die Id-Nummern der Fahrzeuge. In der Liste sind aber tatsächlich die Fahrzeuge gespeichert, und zwar als Objekte. Betrachten wir ein Fahrzeug."
   ]
  },
  {
   "cell_type": "code",
   "execution_count": 8,
   "metadata": {},
   "outputs": [
    {
     "name": "stdout",
     "output_type": "stream",
     "text": [
      "Fahrzeug Id-Nr 64033840854 hat Farbe 7\n",
      "Es sollen folgende Optionen verbaut werden: ['HPRC5', 'LPRC2']\n"
     ]
    }
   ],
   "source": [
    "car=sample_instance['current_day'][42]\n",
    "print(\"Fahrzeug Id-Nr {} hat Farbe {}\".format(car.ident,car.colour))\n",
    "print(\"Es sollen folgende Optionen verbaut werden: {}\".format(car.options))"
   ]
  },
  {
   "cell_type": "markdown",
   "metadata": {},
   "source": [
    "Dh jeder Eintrag <code>car</code> in der Liste <code>sample_instance['current_day']</code> hat die Eigenschaften\n",
    "<ul>\n",
    "    <li><code>car.ident</code>: die Id-Nr</li>\n",
    "    <li><code>car.colour</code>: die Farbe</li>\n",
    "    <li><code>car.options</code>: die zu verbauenden Optionen</li>\n",
    "</ul>\n",
    "\n",
    "Mit <code>print</code> können diese Eigenschaft direkt ausgegeben werden."
   ]
  },
  {
   "cell_type": "code",
   "execution_count": 9,
   "metadata": {},
   "outputs": [
    {
     "name": "stdout",
     "output_type": "stream",
     "text": [
      "id: 64033820985, Farbe: 1, Optionen: ['HPRC7', 'LPRC2']\n"
     ]
    }
   ],
   "source": [
    "print(sample_instance['current_day'][6])"
   ]
  },
  {
   "cell_type": "markdown",
   "metadata": {},
   "source": [
    "Weiterhin enthält die Instanz Information zu den $p/q$-Bedinungen, abgespeichert als dictionary. Die Einträge sind jeweils als <code>(p,q)</code> abgelegt."
   ]
  },
  {
   "cell_type": "code",
   "execution_count": 10,
   "metadata": {},
   "outputs": [
    {
     "data": {
      "text/plain": [
       "{'HPRC1': (1, 8),\n",
       " 'HPRC2': (1, 2),\n",
       " 'HPRC3': (1, 7),\n",
       " 'HPRC4': (1, 15),\n",
       " 'HPRC5': (2, 3),\n",
       " 'HPRC6': (1, 30),\n",
       " 'HPRC7': (4, 5),\n",
       " 'LPRC1': (1, 6),\n",
       " 'LPRC2': (1, 3)}"
      ]
     },
     "execution_count": 10,
     "metadata": {},
     "output_type": "execute_result"
    }
   ],
   "source": [
    "sample_instance['ratios']"
   ]
  },
  {
   "cell_type": "markdown",
   "metadata": {},
   "source": [
    "Renault hat jeweils bereits eine Reihung algorithmisch ermittelt. Zum Vergleich können wir sie heranziehen. Wir wollen natürlich besser sein."
   ]
  },
  {
   "cell_type": "code",
   "execution_count": 11,
   "metadata": {},
   "outputs": [
    {
     "data": {
      "text/plain": [
       "[64033840771,\n",
       " 64033750048,\n",
       " 64033820923,\n",
       " 64033820874,\n",
       " 64033810649,\n",
       " 64033820888,\n",
       " 64033820985,\n",
       " 64033806803,\n",
       " 64033840889,\n",
       " 64033810753]"
      ]
     },
     "execution_count": 11,
     "metadata": {},
     "output_type": "execute_result"
    }
   ],
   "source": [
    "sample_instance['renault_schedule'][:10]  ## wir zeigen nur die ersten 10 Einträge an"
   ]
  },
  {
   "cell_type": "markdown",
   "metadata": {},
   "source": [
    "Es folgen zwei weitere Parameter: das paint_batch_limit und die Gewichtung der Ziele"
   ]
  },
  {
   "cell_type": "code",
   "execution_count": 12,
   "metadata": {},
   "outputs": [
    {
     "data": {
      "text/plain": [
       "15"
      ]
     },
     "execution_count": 12,
     "metadata": {},
     "output_type": "execute_result"
    }
   ],
   "source": [
    "sample_instance['paint_batch_limit']"
   ]
  },
  {
   "cell_type": "code",
   "execution_count": 13,
   "metadata": {},
   "outputs": [
    {
     "data": {
      "text/plain": [
       "{'paint': 1000, 'high': 1000000, 'low': 1}"
      ]
     },
     "execution_count": 13,
     "metadata": {},
     "output_type": "execute_result"
    }
   ],
   "source": [
    "sample_instance['weights']"
   ]
  },
  {
   "cell_type": "markdown",
   "metadata": {},
   "source": [
    "Dies ist so zu lesen: Größte Priorität bei der Optimierung wird den high-priority Optionen zugewiesen, dann folgt die Zahl der Farbwechsel und schließlich die low-priority Optionen. \n",
    "\n",
    "Um das Ziel der Optimierung besser für den/die Anwender/in zu verdeutlichen, gibt's auch noch eine Methode:"
   ]
  },
  {
   "cell_type": "code",
   "execution_count": 14,
   "metadata": {},
   "outputs": [
    {
     "data": {
      "text/plain": [
       "'high >> paint >> low'"
      ]
     },
     "execution_count": 14,
     "metadata": {},
     "output_type": "execute_result"
    }
   ],
   "source": [
    "prio_string(sample_instance)"
   ]
  },
  {
   "cell_type": "markdown",
   "metadata": {},
   "source": [
    "## 1. Aufgabe: Exploration der Instanzen\n",
    "\n",
    "Bevor der erste Algorithmus formuliert wird, sollten die Daten gesichtet werden. Manchmal ergibt sich die eine oder andere Überraschung: ein Aspekt des Problems ist anders als vom Anwender dargestellt, andere Aspekte erweisen sich als unwichtig, da sie kaum vorkommen usw. Wichtig ist es auch, eine Idee vom Umfang des Problems zu erhalten. Wie groß sind überhaupt die Instanzen?\n",
    "\n",
    "Überlegen Sie sich, welche Daten Sie über die Instanzen erheben wollen. Betrachten Sie einzelne Instanzen und aber auch die Gesamtheit der Instanzen. Welche Daten können Ihnen Einblicke in das Problem verschaffen? Beispielhaft listen wir als erstes die Instanzgrößen auf, dh, wie viele Fahrzeuge jeweils produziert werden sollen:"
   ]
  },
  {
   "cell_type": "code",
   "execution_count": 15,
   "metadata": {},
   "outputs": [
    {
     "data": {
      "text/plain": [
       "[335,\n",
       " 335,\n",
       " 485,\n",
       " 485,\n",
       " 600,\n",
       " 600,\n",
       " 875,\n",
       " 875,\n",
       " 954,\n",
       " 954,\n",
       " 1004,\n",
       " 1004,\n",
       " 1260,\n",
       " 1260,\n",
       " 1315,\n",
       " 1315]"
      ]
     },
     "execution_count": 15,
     "metadata": {},
     "output_type": "execute_result"
    }
   ],
   "source": [
    "sizes=[len(instance['current_day']) for instance in data_dict.values()]\n",
    "sorted(sizes)"
   ]
  },
  {
   "cell_type": "markdown",
   "metadata": {},
   "source": [
    "Und jetzt Sie! "
   ]
  },
  {
   "cell_type": "code",
   "execution_count": 16,
   "metadata": {},
   "outputs": [],
   "source": [
    "def count_colours_and_options(instance):\n",
    "    colour_count={}\n",
    "    option_count={}\n",
    "    for car in instance['current_day']:\n",
    "        colour_count[car.colour]=colour_count.get(car.colour,0)+1\n",
    "        for option in car.options:\n",
    "            option_count[option]=option_count.get(option,0)+1\n",
    "    return colour_count,option_count\n",
    "\n",
    "def print_colour_and_options_summary(instance):\n",
    "    colour_count,option_count=count_colours_and_options(instance)\n",
    "    "
   ]
  },
  {
   "cell_type": "code",
   "execution_count": 17,
   "metadata": {},
   "outputs": [],
   "source": [
    "ccount,ocount=count_colours_and_options(sample_instance)"
   ]
  },
  {
   "cell_type": "code",
   "execution_count": 18,
   "metadata": {},
   "outputs": [],
   "source": [
    "def lower_bound_colour_changes(colour_count,instance):\n",
    "    colour_changes=0\n",
    "    paint_batch_limit=instance['paint_batch_limit']\n",
    "    for colour in colour_count.keys():\n",
    "        colour_changes+=(colour_count[colour]//paint_batch_limit) +1 ## technically, would need to subtract 1 from colour_count\n",
    "    return colour_changes\n",
    "\n",
    "def lower_bound_option_surplus(option_count,instance):\n",
    "    N=len(instance['current_day'])\n",
    "    result=[]\n",
    "    for option in option_count.keys():\n",
    "        p,q=instance['ratios'][option]\n",
    "        #surplus=math.ceil(max(option_count[option]-N*p/q,0))\n",
    "        surplus=math.ceil(option_count[option]-N*p/q)\n",
    "        option_result=(option,p,q,option_count[option],surplus)\n",
    "        result.append(option_result)\n",
    "    return sorted(result,key=itemgetter(0))  # cosmetics"
   ]
  },
  {
   "cell_type": "code",
   "execution_count": 19,
   "metadata": {},
   "outputs": [
    {
     "data": {
      "text/plain": [
       "65"
      ]
     },
     "execution_count": 19,
     "metadata": {},
     "output_type": "execute_result"
    }
   ],
   "source": [
    "lower_bound_colour_changes(ccount,sample_instance)"
   ]
  },
  {
   "cell_type": "code",
   "execution_count": 28,
   "metadata": {},
   "outputs": [
    {
     "data": {
      "text/plain": [
       "875"
      ]
     },
     "execution_count": 28,
     "metadata": {},
     "output_type": "execute_result"
    }
   ],
   "source": [
    "len(sample_instance['current_day'])"
   ]
  },
  {
   "cell_type": "code",
   "execution_count": 20,
   "metadata": {},
   "outputs": [
    {
     "data": {
      "text/plain": [
       "[('HPRC1', 1, 8, 56, -53),\n",
       " ('HPRC2', 1, 2, 181, -256),\n",
       " ('HPRC3', 1, 7, 56, -69),\n",
       " ('HPRC4', 1, 15, 14, -44),\n",
       " ('HPRC5', 2, 3, 375, -208),\n",
       " ('HPRC6', 1, 30, 16, -13),\n",
       " ('HPRC7', 4, 5, 500, -200),\n",
       " ('LPRC1', 1, 6, 59, -86),\n",
       " ('LPRC2', 1, 3, 534, 243)]"
      ]
     },
     "execution_count": 20,
     "metadata": {},
     "output_type": "execute_result"
    }
   ],
   "source": [
    "lower_bound_option_surplus(ocount,sample_instance)"
   ]
  },
  {
   "cell_type": "code",
   "execution_count": 21,
   "metadata": {},
   "outputs": [
    {
     "name": "stdout",
     "output_type": "stream",
     "text": [
      "Instanz 064_38_2_EP_RAF_ENP_ch1\n",
      "Priorität: high >> paint >> low\n",
      "Fahrzeuge: 875\n",
      "paint_batch_limit: 15\n",
      "Farben | Min-Farbwechsel: 14 | 65\n",
      "Option | p/q | Anzahl | balance: HPRC1 | 1/8 | 56 | -53\n",
      "Option | p/q | Anzahl | balance: HPRC2 | 1/2 | 181 | -256\n",
      "Option | p/q | Anzahl | balance: HPRC3 | 1/7 | 56 | -69\n",
      "Option | p/q | Anzahl | balance: HPRC4 | 1/15 | 14 | -44\n",
      "Option | p/q | Anzahl | balance: HPRC5 | 2/3 | 375 | -208\n",
      "Option | p/q | Anzahl | balance: HPRC6 | 1/30 | 16 | -13\n",
      "Option | p/q | Anzahl | balance: HPRC7 | 4/5 | 500 | -200\n",
      "Option | p/q | Anzahl | balance: LPRC1 | 1/6 | 59 | -86\n",
      "Option | p/q | Anzahl | balance: LPRC2 | 1/3 | 534 | 243\n"
     ]
    }
   ],
   "source": [
    "def print_stats(instance):\n",
    "    print(\"Instanz {}\".format(instance['name']))\n",
    "    print(\"Priorität: \"+prio_string(instance))\n",
    "    N=len(instance['current_day'])\n",
    "    print(\"Fahrzeuge: {}\".format(N))\n",
    "    print(\"paint_batch_limit: {}\".format(instance['paint_batch_limit']))\n",
    "    colour_count,option_count=count_colours_and_options(instance)\n",
    "    colour_changes=lower_bound_colour_changes(colour_count,instance)\n",
    "    print(\"Farben | Min-Farbwechsel: {} | {}\".format(len(colour_count.keys()),colour_changes))\n",
    "    options=lower_bound_option_surplus(option_count,instance)\n",
    "    for item in options:\n",
    "        print(\"Option | p/q | Anzahl | balance: {} | {}/{} | {} | {}\".format(*item))\n",
    "    \n",
    "print_stats(sample_instance)"
   ]
  },
  {
   "cell_type": "code",
   "execution_count": 22,
   "metadata": {},
   "outputs": [
    {
     "data": {
      "text/plain": [
       "[10, 10, 10, 10, 10, 10, 10, 10, 15, 15, 15, 15, 15, 20, 450, 450]"
      ]
     },
     "execution_count": 22,
     "metadata": {},
     "output_type": "execute_result"
    }
   ],
   "source": [
    "paint_batch_limits=[instance['paint_batch_limit'] for instance in data_dict.values()]\n",
    "sorted(paint_batch_limits)"
   ]
  },
  {
   "cell_type": "code",
   "execution_count": 27,
   "metadata": {},
   "outputs": [
    {
     "data": {
      "text/plain": [
       "{'high >> paint >> low': 8,\n",
       " 'high >> low >> paint': 4,\n",
       " 'paint >> high >> low': 4}"
      ]
     },
     "execution_count": 27,
     "metadata": {},
     "output_type": "execute_result"
    }
   ],
   "source": [
    "count_prios={}\n",
    "for instance in data_dict.values():\n",
    "    prio=prio_string(instance)\n",
    "    count_prios[prio]=count_prios.get(prio,0)+1\n",
    "count_prios"
   ]
  },
  {
   "cell_type": "code",
   "execution_count": 24,
   "metadata": {},
   "outputs": [
    {
     "data": {
      "text/plain": [
       "133"
      ]
     },
     "execution_count": 24,
     "metadata": {},
     "output_type": "execute_result"
    }
   ],
   "source": [
    "def car_type(car):\n",
    "    T=sorted(car.options)\n",
    "    T.append(car.colour)\n",
    "    return tuple(T)\n",
    "\n",
    "def unique_types(instance):\n",
    "    types=[]\n",
    "    for car in instance['current_day']:\n",
    "        t=car_type(car)\n",
    "        if not t in types:\n",
    "            types.append(t)\n",
    "    return types\n",
    "\n",
    "U=unique_types(sample_instance)\n",
    "len(U)"
   ]
  },
  {
   "cell_type": "code",
   "execution_count": null,
   "metadata": {},
   "outputs": [],
   "source": []
  }
 ],
 "metadata": {
  "kernelspec": {
   "display_name": "Python 3",
   "language": "python",
   "name": "python3"
  },
  "language_info": {
   "codemirror_mode": {
    "name": "ipython",
    "version": 3
   },
   "file_extension": ".py",
   "mimetype": "text/x-python",
   "name": "python",
   "nbconvert_exporter": "python",
   "pygments_lexer": "ipython3",
   "version": "3.8.6"
  }
 },
 "nbformat": 4,
 "nbformat_minor": 4
}
