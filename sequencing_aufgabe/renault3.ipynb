{
 "cells": [
  {
   "cell_type": "markdown",
   "metadata": {},
   "source": [
    "# Renault car sequencing III -- hill climbing\n",
    "\n",
    "Version 14/05/22\n",
    "\n",
    "Herkunft von Problem und Daten:\n",
    "https://www.roadef.org/challenge/2005/en/\n",
    "\n",
    "Wir importieren ein paar Pakete. (Nicht alle brauchen wir hier.) \n",
    "<ul>\n",
    "    <li><code>numpy</code>: wissenschaftliche Bibliothek, im wesentlichen für die array-Klasse</li>\n",
    "    <li><code>matplotlib</code>: Visualisierungsfunktionen</li>\n",
    "    <li><code>math</code>: mathematische Funktionen</li>\n",
    "</ul>"
   ]
  },
  {
   "cell_type": "code",
   "execution_count": null,
   "metadata": {},
   "outputs": [],
   "source": [
    "import numpy as np\n",
    "import matplotlib.pyplot as plt\n",
    "import math\n",
    "import random\n",
    "import time\n",
    "\n",
    "plt.style.use(\"seaborn\")  ## plots sehen so ein bisschen schöner aus"
   ]
  },
  {
   "cell_type": "markdown",
   "metadata": {},
   "source": [
    "Als nächstes werden die Instanzdaten gelesen und eine Bibliothek (<code>rnlt</code>, kurz für *Renault*) mit Hilfscode (data handling und Visualisierung) importiert. Weiterhin werden die Instanzdaten und <code>rnlt</code> automatisch heruntergeladen -- dies funktioniert so wie es dort steht unter Google Colab und unter Linux (evtl auch iOs). Wenn Sie den Code auf einem Windows-Rechner lokal ausführen wollen, dann laden Sie die Instanzdaten unter (https://www.roadef.org/challenge/2005/files/Instances_set_A.zip)(https://www.roadef.org/challenge/2005/files/Instances_set_A.zip) herunter, dann entpacken Sie die Daten und speichern Sie die Daten und <code>rnlt.py</code> im gleichen Ordner wie dieses juypter-Notebook. Weiterhin müssen Sie die ersten drei Zeilen auskommentieren."
   ]
  },
  {
   "cell_type": "code",
   "execution_count": null,
   "metadata": {},
   "outputs": [],
   "source": [
    "!wget -q https://www.roadef.org/challenge/2005/files/Instances_set_A.zip\n",
    "!unzip -q Instances_set_A.zip\n",
    "!wget -q https://raw.githubusercontent.com/henningbruhn/mobp/main/sequencing_aufgabe/rnlt2.py\n",
    "    \n",
    "# Pfad zu den gespeicherten Instanzen -- ersetzen Sie das evtl durch den entsprechenden Pfad bei Ihnen\n",
    "#path=\"RENAULT/Instances_set_A/\"   \n",
    "path=\"Instances/\"\n",
    "\n",
    "## rnlt2 enthält den greedy-Code\n",
    "## wir nutzen aber als alias weiter rnlt \n",
    "import rnlt2 as rnlt "
   ]
  },
  {
   "cell_type": "markdown",
   "metadata": {},
   "source": [
    "Wir laden wieder alle Instanzen in das dictionary <code>data_dict</code> ein."
   ]
  },
  {
   "cell_type": "code",
   "execution_count": null,
   "metadata": {
    "tags": []
   },
   "outputs": [],
   "source": [
    "data_dict=rnlt.read_in_all_instances(path)"
   ]
  },
  {
   "cell_type": "markdown",
   "metadata": {},
   "source": [
    "## 4. Aufgabe -- hill climbing\n",
    "\n",
    "Hill climbing kann existierende Lösungen verbessern, in dem schrittweise kleine Änderungen vorgenommen werden. Wie könnte hier eine kleine Änderung aussehen? Unten finden Sie ein Gerüst für hill climbing. Implementieren Sie die Suche nach einem lokalen Schritt und vervollständigen Sie das Gerüst. Wenden Sie hill climbing auf die Instanzen an und vergleichen Sie mit den vorherigen Ergebnissen. Wenn Sie Zeit haben, experimentieren Sie mit dem Einstellparameter <code>tries</code> und beobachten Sie, wie sich dieser auf die Laufzeit auswirkt. \n",
    "\n",
    "Um hill climbing zu starten, benötigen wir bereits eine Reihung. Hier bieten sich zwei Optionen an: Wir starten mit einer zufälligen Reihung oder wir starten mit der greedy-Reihung. Vergleichen Sie!"
   ]
  },
  {
   "cell_type": "code",
   "execution_count": null,
   "metadata": {},
   "outputs": [],
   "source": [
    "sample_instance=data_dict['024_38_5_EP_RAF_ENP']\n",
    "greedy_schedule=rnlt.greedy(sample_instance)\n",
    "greedy_cost=rnlt.compute_objective(greedy_schedule,sample_instance)\n",
    "print(\"Kosten der greedy-Lösung: {}\".format(greedy_cost))"
   ]
  },
  {
   "cell_type": "markdown",
   "metadata": {},
   "source": [
    "Als kleine Hilfe habe ich Ihnen noch eine Klasse <code>Best_Tracker</code> geschrieben, die sich leicht die Lösung mit den niedrigsten Kosten merkt. Jedes Mal, wenn sich die Kosten geändert haben, rufen <code>tracker.update(solution,cost)</code> auf -- wenn die Kosten niedriger sind als bisher, werden sich die neuen Kosten und die neue Lösung gemerkt, und zwar in den Variablen <code>tracker.best</code> und <code>tracker.best_cost</code>. Hier ist ein kleines Beispiel zur Illustration."
   ]
  },
  {
   "cell_type": "code",
   "execution_count": null,
   "metadata": {},
   "outputs": [],
   "source": [
    "tracker=rnlt.Best_Tracker()\n",
    "for i in range(10):\n",
    "    cost=random.randint(1,100)\n",
    "    solution=\"Lösung Nr {}\".format(i)\n",
    "    tracker.update(solution,cost)\n",
    "print(\"Beste Lösung: {} ** Kleinste Kosten: {}\".format(tracker.best,tracker.best_cost))"
   ]
  },
  {
   "cell_type": "code",
   "execution_count": null,
   "metadata": {},
   "outputs": [],
   "source": [
    "def hill_climbing(schedule,instance,tries=20,record_cost=False):\n",
    "    current_cost=rnlt.compute_objective(schedule,instance)\n",
    "    cost_record=[current_cost]\n",
    "    while True:\n",
    "        step_tracker=rnlt.Best_Tracker()\n",
    "        for _ in range(tries):\n",
    "            ### Fügen Sie hier Ihren Code ein ###\n",
    "            ### Ende Einfügung ###\n",
    "        ## wenn keine Verbesserung gefunden, brich ab\n",
    "        if step_tracker.best_cost>=current_cost:\n",
    "            if record_cost:\n",
    "                return schedule,current_cost,cost_record\n",
    "            return schedule,current_cost\n",
    "        ## wenn Verbesserung gefunden, führe diese aus\n",
    "        ### Fügen Sie hier Ihren Code ein ###\n",
    "        ### Ende Einfügung ###\n",
    "        current_cost=step_tracker.best_cost\n",
    "        if record_cost:\n",
    "            cost_record.append(current_cost)\n",
    "            \n",
    "start=time.time()\n",
    "new_schedule,cost,cost_record=hill_climbing(greedy_schedule.copy(),sample_instance,tries=50,record_cost=True)\n",
    "end=time.time()\n",
    "hill_cost=rnlt.compute_objective(new_schedule,sample_instance)\n",
    "renault_schedule=sample_instance['renault_schedule']\n",
    "renault_cost=rnlt.compute_objective(renault_schedule,sample_instance)\n",
    "print(\"Kosten hill climbing: {}\".format(hill_cost))\n",
    "print(\"Kosten Renault      : {}\".format(renault_cost))\n",
    "print(\"Laufzeit hill climbing: {:.1f}s\".format(end-start))"
   ]
  },
  {
   "cell_type": "markdown",
   "metadata": {},
   "source": [
    "Plotten Sie die Lösung des hill climbing-Algorithmus und vergleichen Sie mit der greedy-Lösung. Was fällt auf?"
   ]
  },
  {
   "cell_type": "code",
   "execution_count": null,
   "metadata": {},
   "outputs": [],
   "source": [
    "rnlt.plot_options_and_colours(new_schedule,sample_instance)"
   ]
  },
  {
   "cell_type": "markdown",
   "metadata": {},
   "source": [
    "Wir plotten die laufenden Kosten, um einen Überblick zu erhalten. "
   ]
  },
  {
   "cell_type": "code",
   "execution_count": null,
   "metadata": {},
   "outputs": [],
   "source": [
    "plt.plot(cost_record,label=\"hill climbing\")\n",
    "plt.xlabel(\"Schritt\")\n",
    "plt.ylabel(\"Kosten\")\n",
    "plt.plot([renault_cost]*len(cost_record),\"r\",linewidth=2,label=\"Renault\")\n",
    "plt.title(\"hill climbing\")\n",
    "plt.legend()"
   ]
  },
  {
   "cell_type": "markdown",
   "metadata": {},
   "source": [
    "Wie viele Verbesserungsversuche hill climbing in jedem Schritt macht, hängt von dem Parameter <code>tries</code> ab. Experimentieren Sie mit dem Parameter und notieren Sie den Effekt auf Qualität der Lösung und Laufzeit. "
   ]
  },
  {
   "cell_type": "code",
   "execution_count": null,
   "metadata": {},
   "outputs": [],
   "source": [
    "### Fügen Sie Ihren Code hier ein ###\n",
    "### Ende Einfügung ###"
   ]
  },
  {
   "cell_type": "markdown",
   "metadata": {},
   "source": [
    "Eine alternative Realisierung von hill climbing geht wie folgt: in jedem Schritt tausche zufällig zwei Autos; wenn dies zu einer Verbesserung führt, akzeptiere den Tausch, sonst tausche zwei andere zufällige Autos usw. Wenn <code>tries</code> viele Versuche scheitern, brich ab. Implementieren Sie und vergleichen Sie! "
   ]
  },
  {
   "cell_type": "code",
   "execution_count": null,
   "metadata": {},
   "outputs": [],
   "source": [
    "### Fügen Sie Ihren Code hier ein ###\n",
    "### Ende Einfügung ###"
   ]
  }
 ],
 "metadata": {
  "kernelspec": {
   "display_name": "Python 3",
   "language": "python",
   "name": "python3"
  },
  "language_info": {
   "codemirror_mode": {
    "name": "ipython",
    "version": 3
   },
   "file_extension": ".py",
   "mimetype": "text/x-python",
   "name": "python",
   "nbconvert_exporter": "python",
   "pygments_lexer": "ipython3",
   "version": "3.8.8"
  }
 },
 "nbformat": 4,
 "nbformat_minor": 4
}
