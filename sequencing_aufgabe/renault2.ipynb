{
 "cells": [
  {
   "cell_type": "markdown",
   "metadata": {},
   "source": [
    "# Renault car sequencing II -- greedy\n",
    "\n",
    "Version 14/05/22\n",
    "\n",
    "https://www.roadef.org/challenge/2005/en/\n",
    "\n",
    "Wir importieren ein paar Pakete. (Nicht alle brauchen wir hier.) \n",
    "<ul>\n",
    "    <li><code>numpy</code>: wissenschaftliche Bibliothek, im wesentlichen für die array-Klasse</li>\n",
    "    <li><code>matplotlib</code>: Visualisierungsfunktionen</li>\n",
    "    <li><code>math</code>: mathematische Funktionen</li>\n",
    "</ul>"
   ]
  },
  {
   "cell_type": "code",
   "execution_count": null,
   "metadata": {},
   "outputs": [],
   "source": [
    "import numpy as np\n",
    "import matplotlib.pyplot as plt\n",
    "import math\n",
    "import random\n",
    "import time\n",
    "\n",
    "plt.style.use(\"seaborn\")  ## plots sehen so ein bisschen schöner aus"
   ]
  },
  {
   "cell_type": "markdown",
   "metadata": {},
   "source": [
    "Als nächstes werden die Instanzdaten gelesen und eine Bibliothek (<code>rnlt</code>, kurz für *Renault*) mit Hilfscode (data handling und Visualisierung) importiert. Weiterhin werden die Instanzdaten und <code>rnlt</code> automatisch heruntergeladen -- dies funktioniert so wie es dort steht unter Google Colab und unter Linux (evtl auch iOs). Wenn Sie den Code auf einem Windows-Rechner lokal ausführen wollen, dann laden Sie die Instanzdaten unter (https://www.roadef.org/challenge/2005/files/Instances_set_A.zip)(https://www.roadef.org/challenge/2005/files/Instances_set_A.zip) herunter, dann entpacken Sie die Daten und speichern Sie die Daten und <code>rnlt.py</code> im gleichen Ordner wie dieses juypter-Notebook. Weiterhin müssen Sie die ersten drei Zeilen auskommentieren."
   ]
  },
  {
   "cell_type": "code",
   "execution_count": null,
   "metadata": {},
   "outputs": [],
   "source": [
    "!wget -q https://www.roadef.org/challenge/2005/files/Instances_set_A.zip\n",
    "!unzip -q Instances_set_A.zip\n",
    "!wget -q https://raw.githubusercontent.com/henningbruhn/mobp/main/sequencing_aufgabe/rnlt.py\n",
    "\n",
    "# Pfad zu den gespeicherten Instanzen -- ersetzen Sie das evtl durch den entsprechenden Pfad bei Ihnen\n",
    "#path=\"RENAULT/Instances_set_A/\"   \n",
    "path=\"Instances/\"\n",
    "\n",
    "import rnlt"
   ]
  },
  {
   "cell_type": "markdown",
   "metadata": {},
   "source": [
    "Wir laden wieder alle Instanzen in das dictionary <code>data_dict</code> ein."
   ]
  },
  {
   "cell_type": "code",
   "execution_count": null,
   "metadata": {
    "tags": []
   },
   "outputs": [],
   "source": [
    "data_dict=rnlt.read_in_all_instances(path)"
   ]
  },
  {
   "cell_type": "markdown",
   "metadata": {},
   "source": [
    "## Zielfunktion, Kosten"
   ]
  },
  {
   "cell_type": "markdown",
   "metadata": {},
   "source": [
    "Bewertet werden soll eine Reihung der Fahrzeuge, und zwar nach den von Renault vorgegebenen Regeln. Als Reihung wird einfach eine Liste\n",
    "der Fahrzeuge erwartet."
   ]
  },
  {
   "cell_type": "code",
   "execution_count": null,
   "metadata": {},
   "outputs": [],
   "source": [
    "sample_instance=data_dict['048_39_1_EP_RAF_ENP']"
   ]
  },
  {
   "cell_type": "markdown",
   "metadata": {},
   "source": [
    "Hier ist eine einfache Methode, die überprüft, ob auch tatsächlich alle Fahrzeug zugeordnet wurden. (Man kein leicht niedrige Kosten erreichen, in dem ein Teil der Fahrzeuge einfach weggelassen wird...)"
   ]
  },
  {
   "cell_type": "code",
   "execution_count": null,
   "metadata": {},
   "outputs": [],
   "source": [
    "### wir testen die Methode gleich anhand der Reihung von Renault\n",
    "renault_schedule=sample_instance['renault_schedule']\n",
    "rnlt.check_for_completeness(renault_schedule,sample_instance)"
   ]
  },
  {
   "cell_type": "markdown",
   "metadata": {},
   "source": [
    "Die Zielfunktion ist ein wenig komplizierter. Wichtig ist im Folgenden <code>compute_objective</code>, die eigentliche Zielfunktion."
   ]
  },
  {
   "cell_type": "code",
   "execution_count": null,
   "metadata": {},
   "outputs": [],
   "source": [
    "rnlt.compute_objective(renault_schedule,sample_instance)"
   ]
  },
  {
   "cell_type": "markdown",
   "metadata": {},
   "source": [
    "Wir können uns auch die einzelnen Komponenten, die in die Zielfunktion einfließen, aufschlüsseln lassen:"
   ]
  },
  {
   "cell_type": "code",
   "execution_count": null,
   "metadata": {},
   "outputs": [],
   "source": [
    "rnlt.compute_scores(renault_schedule,sample_instance)"
   ]
  },
  {
   "cell_type": "markdown",
   "metadata": {},
   "source": [
    "## Visualisierung\n",
    "\n",
    "Visualisierung ist wichtig. Sie hilft zu verstehen, was die Algorithmen machen und wo angesetzt werden kann, um sie zu verbessern.\n",
    "Mit <code>plot_options_and_colours</code> können Sie sich anzeigen lassen, wo Farbwechsel und p/q-Verletzungen auftreten. Wir machen das gleich einmal mit der Reihung, die Renault errechnet hat."
   ]
  },
  {
   "cell_type": "code",
   "execution_count": null,
   "metadata": {},
   "outputs": [],
   "source": [
    "rnlt.plot_options_and_colours(renault_schedule,sample_instance)"
   ]
  },
  {
   "cell_type": "markdown",
   "metadata": {},
   "source": [
    "Wir vergleichen die Renault-Lösung mit einer zufälligen Reihenfolge. Hier hift die Funktion <code>random.permutation</code> aus dem <code>numpy</code>-Paket."
   ]
  },
  {
   "cell_type": "code",
   "execution_count": null,
   "metadata": {},
   "outputs": [],
   "source": [
    "rnd_schedule=np.random.permutation(sample_instance['current_day'])\n",
    "rnlt.plot_options_and_colours(rnd_schedule,sample_instance)"
   ]
  },
  {
   "cell_type": "markdown",
   "metadata": {},
   "source": [
    "Wir vergleichen auch die Zielfunktionswerte. Natürlich ist die Renault-Lösung deutlich besser als die Zufallsreihung."
   ]
  },
  {
   "cell_type": "code",
   "execution_count": null,
   "metadata": {},
   "outputs": [],
   "source": [
    "rnlt.compute_objective(renault_schedule,sample_instance),rnlt.compute_objective(rnd_schedule,sample_instance)"
   ]
  },
  {
   "cell_type": "markdown",
   "metadata": {},
   "source": [
    "## 2. Aufgabe: Zufallsreihungen\n",
    "\n",
    "Bei manchen Problemen reicht es, eine Reihe von Zufallslösungen zu erzeugen und die beste auszuwählen. Implementieren Sie diese Methode und testen Sie Sie anhand der <code>sample_instance</code>."
   ]
  },
  {
   "cell_type": "code",
   "execution_count": null,
   "metadata": {},
   "outputs": [],
   "source": [
    "def best_random_schedule(instance,tries=10):\n",
    "    best_schedule=None\n",
    "    best_cost=np.inf\n",
    "    for _ in range(tries):\n",
    "        ### fügen Sie Ihren Code hier ein ###\n",
    "        ### Ende Einfügung ###\n",
    "    return best_schedule,best_cost\n",
    "\n",
    "tries=100\n",
    "rnd_sch,best_cost=best_random_schedule(sample_instance,tries=tries)\n",
    "print(\"Niedrigste Kosten nach {} Versuchen: {}\".format(tries,best_cost))"
   ]
  },
  {
   "cell_type": "markdown",
   "metadata": {},
   "source": [
    "Wenn Sie Zeit haben, modifizieren Sie die Funktion <code>best_random_schedule</code>, so dass sie zusätzlich die niedrigsten Kosten in der jeweiligen Iteration zurück gegeben werden. So können wir beurteilen, nach welcher Zeit eine weitere Verbesserung gefunden wird. In dem Visualisierungscode unten wird die Kurve mit der Renault-Lösung verglichen. Besteht Hoffnung, dass eine gute Lösung gefunden wird, wenn einfach für, sagen wir, 10mins Zufallslösungen gesucht werden? "
   ]
  },
  {
   "cell_type": "code",
   "execution_count": null,
   "metadata": {},
   "outputs": [],
   "source": [
    "def best_random_schedule(instance,tries=10):\n",
    "### Fügen Sie Ihren Code hier ein ###\n",
    "### Ende Einfügung ###\n",
    "    return best_schedule,best_cost, records \n",
    "\n",
    "sch,cost,records=best_random_schedule(sample_instance,tries=500)\n",
    "plt.plot(records,label=\"Zufallslösung\")\n",
    "renault_cost=rnlt.compute_objective(renault_schedule,sample_instance)\n",
    "plt.plot([renault_cost]*len(records),\"r\",linewidth=2,label=\"Renault\")\n",
    "plt.legend()"
   ]
  },
  {
   "cell_type": "markdown",
   "metadata": {},
   "source": [
    "Wenn Sie die Zeit haben, vergleichen Sie die jeweilige Renault-Lösung mit den Zufallslösungen bei allen Instanzen. "
   ]
  },
  {
   "cell_type": "code",
   "execution_count": null,
   "metadata": {},
   "outputs": [],
   "source": [
    "### Fügen Sie Ihren Code hier ein ###"
   ]
  },
  {
   "cell_type": "markdown",
   "metadata": {},
   "source": [
    "## 3. Aufgabe: Greedy\n",
    "\n",
    "Wie könnte ein Greedy-Algorithmus hier aussehen? Vervollständigen Sie die Skizze unten und vergleichen Sie die Ergebnisse mit denen der Zufallsreihungen und dem Renault-Algorithmus. Visualisieren Sie einzelne Lösungen des Greedy-Algorithmus. Was fällt auf? "
   ]
  },
  {
   "cell_type": "code",
   "execution_count": null,
   "metadata": {},
   "outputs": [],
   "source": [
    "def penalty_increase(next_car,partial_schedule,instance):\n",
    "    \"\"\"Um wie viel erhöhen sich die Kosten, wenn next_car als nächstes gereiht wird?\"\"\"\n",
    "    ### Fügen Sie Ihren Code hier ein ###\n",
    "    ### Ende Einfügung ###\n",
    "    return cost_increase\n",
    "\n",
    "def pick_next_greedily(partial_schedule,remaining_cars,instance):\n",
    "    \"\"\"finde nächstes Auto für Reihung, das Kosten nur gering erhöht\"\"\"\n",
    "    best_car=None\n",
    "    best_penalty_increase=np.inf\n",
    "    for car in remaining_cars:\n",
    "        ## um wie viel erhöhen sich die Kosten, wenn car als nächstes ausgesucht wird?\n",
    "        increase=penalty_increase(car,partial_schedule,instance)\n",
    "        ## wenn besser als bisher bestes, nimm car stattdessen\n",
    "        if increase<best_penalty_increase:\n",
    "            best_penalty_increase=increase\n",
    "            best_car=car\n",
    "    return best_car\n",
    "\n",
    "def greedy(instance):\n",
    "    current_day=instance['current_day']\n",
    "    remaining_cars=list(np.random.permutation(current_day))\n",
    "    first_car=remaining_cars.pop() ## erstes Auto, das gereiht werden muss\n",
    "    partial_schedule=[first_car] ## wir starten mit einer Reihung von einem Auto\n",
    "    while len(remaining_cars)>0: ## solange noch Autos gereiht werden müssen...\n",
    "        next_car=pick_next_greedily(partial_schedule,remaining_cars,instance)\n",
    "        partial_schedule.append(next_car)\n",
    "        remaining_cars.remove(next_car)\n",
    "    return partial_schedule\n",
    "\n",
    "## wir erfassen auch die Laufzeit:\n",
    "start=time.time()\n",
    "greedy_schedule=greedy(sample_instance)\n",
    "end=time.time()\n",
    "rnlt.check_for_completeness(greedy_schedule,sample_instance)\n",
    "greedy_cost=rnlt.compute_objective(greedy_schedule,sample_instance)\n",
    "print(\"Kosten der greedy-Lösung: {}\".format(greedy_cost))\n",
    "print(\"Laufzeit: {:.1f}s\".format(end-start))\n",
    "rnlt.plot_options_and_colours(greedy_schedule,sample_instance)"
   ]
  },
  {
   "cell_type": "markdown",
   "metadata": {},
   "source": [
    "Der greedy ist sehr langsam: das liegt im Wesentlichen daran, dass in jedem Schritt jedes noch zu reihende Auto als Kandidaten für den nächsten Platz in Erwägung gezogen wird. Wie kann der Code von <code>pick_next_greedily</code> geändert werden, so dass der Algorithmus schneller ist? (Der Rest des Codes bleibt besser unverändert.)"
   ]
  },
  {
   "cell_type": "code",
   "execution_count": null,
   "metadata": {},
   "outputs": [],
   "source": [
    "def pick_next_greedily(partial_schedule,remaining_cars,instance,tries=50):\n",
    "    \"\"\"finde nächstes Auto für Reihung, das Kosten nur gering erhöht\"\"\"\n",
    "    best_car=None\n",
    "    best_penalty_increase=np.inf\n",
    "    ### Fügen Sie Ihren Code hier ein ###\n",
    "    ### Ende Einfügung ###\n",
    "    return best_car\n",
    "\n",
    "## wir erfassen auch die Laufzeit:\n",
    "start=time.time()\n",
    "greedy_schedule=greedy(sample_instance)\n",
    "end=time.time()\n",
    "rnlt.check_for_completeness(greedy_schedule,sample_instance)\n",
    "greedy_cost=rnlt.compute_objective(greedy_schedule,sample_instance)\n",
    "print(\"Kosten der greedy-Lösung: {}\".format(greedy_cost))\n",
    "print(\"Laufzeit: {:.1f}s\".format(end-start))\n",
    "rnlt.plot_options_and_colours(greedy_schedule,sample_instance)"
   ]
  },
  {
   "cell_type": "markdown",
   "metadata": {},
   "source": [
    "Um einen besseren Überblick zu erhalten, berechnen wir noch die Resultate bei allen Instanzen. Diese sollten mit denen der Zufallslösungen oben verglichen werden."
   ]
  },
  {
   "cell_type": "code",
   "execution_count": null,
   "metadata": {},
   "outputs": [],
   "source": [
    "### Fügen Sie Ihren Code hier ein ###"
   ]
  },
  {
   "cell_type": "markdown",
   "metadata": {},
   "source": [
    "Wir sehen: greedy ist immer noch recht weit von der Renault-Lösung entfernt."
   ]
  }
 ],
 "metadata": {
  "kernelspec": {
   "display_name": "Python 3",
   "language": "python",
   "name": "python3"
  },
  "language_info": {
   "codemirror_mode": {
    "name": "ipython",
    "version": 3
   },
   "file_extension": ".py",
   "mimetype": "text/x-python",
   "name": "python",
   "nbconvert_exporter": "python",
   "pygments_lexer": "ipython3",
   "version": "3.8.8"
  }
 },
 "nbformat": 4,
 "nbformat_minor": 4
}
