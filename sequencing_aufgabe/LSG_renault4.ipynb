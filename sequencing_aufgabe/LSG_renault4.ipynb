{
 "cells": [
  {
   "cell_type": "markdown",
   "metadata": {},
   "source": [
    "# Renault car sequencing IV -- lokale Suche\n",
    "\n",
    "https://www.roadef.org/challenge/2005/en/\n",
    "\n",
    "Wir importieren ein paar Pakete. (Nicht alle brauchen wir hier.) \n",
    "<ul>\n",
    "    <li><code>numpy</code>: wissenschaftliche Bibliothek, im wesentlichen für die array-Klasse</li>\n",
    "    <li><code>matplotlib</code>: Visualisierungsfunktionen</li>\n",
    "    <li><code>math</code>: mathematische Funktionen</li>\n",
    "</ul>"
   ]
  },
  {
   "cell_type": "code",
   "execution_count": 1,
   "metadata": {},
   "outputs": [],
   "source": [
    "import numpy as np\n",
    "import matplotlib.pyplot as plt\n",
    "import math\n",
    "import random\n",
    "import time\n",
    "\n",
    "plt.style.use(\"seaborn\")  ## plots sehen so ein bisschen schöner aus"
   ]
  },
  {
   "cell_type": "markdown",
   "metadata": {},
   "source": [
    "Als nächstes werden die Instanzdaten gelesen und eine Bibliothek (<code>rnlt</code>, kurz für *Renault*) mit Hilfscode (data handling und Visualisierung) importiert. Weiterhin werden die Instanzdaten und <code>rnlt</code> automatisch heruntergeladen -- dies funktioniert so wie es dort steht unter Google Colab und unter Linux (evtl auch iOs). Wenn Sie den Code auf einem Windows-Rechner lokal ausführen wollen, dann laden Sie die Instanzdaten unter (https://www.roadef.org/challenge/2005/files/Instances_set_A.zip)(https://www.roadef.org/challenge/2005/files/Instances_set_A.zip) herunter, dann entpacken Sie die Daten und speichern Sie die Daten und <code>rnlt.py</code> im gleichen Ordner wie dieses juypter-Notebook. Weiterhin müssen Sie die ersten drei Zeilen auskommentieren."
   ]
  },
  {
   "cell_type": "code",
   "execution_count": 2,
   "metadata": {},
   "outputs": [],
   "source": [
    "!wget -q https://www.roadef.org/challenge/2005/files/Instances_set_A.zip\n",
    "!unzip -q Instances_set_A.zip\n",
    "!wget -q https://raw.githubusercontent.com/henningbruhn/mobp/main/sequencing_aufgabe/rnlt2.py\n",
    "\n",
    "# Pfad zu den gespeicherten Instanzen -- ersetzen Sie das evtl durch den entsprechenden Pfad bei Ihnen\n",
    "#path=\"RENAULT/Instances_set_A/\"   \n",
    "path=\"Instances/\"\n",
    "\n",
    "import rnlt2 as rnlt"
   ]
  },
  {
   "cell_type": "markdown",
   "metadata": {},
   "source": [
    "Wir laden wieder alle Instanzen in das dictionary <code>data_dict</code> ein."
   ]
  },
  {
   "cell_type": "code",
   "execution_count": 3,
   "metadata": {
    "tags": []
   },
   "outputs": [
    {
     "name": "stdout",
     "output_type": "stream",
     "text": [
      "Folgende Instanzen wurden eingelesen: \n",
      "  039_38_4_EP_RAF_ch1\n",
      "  024_38_3_EP_ENP_RAF\n",
      "  048_39_1_EP_ENP_RAF\n",
      "  025_38_1_EP_ENP_RAF\n",
      "  064_38_2_EP_RAF_ENP_ch1\n",
      "  064_38_2_RAF_EP_ENP_ch2\n",
      "  022_3_4_EP_RAF_ENP\n",
      "  048_39_1_EP_RAF_ENP\n",
      "  024_38_5_EP_RAF_ENP\n",
      "  039_38_4_RAF_EP_ch1\n",
      "  024_38_3_EP_RAF_ENP\n",
      "  025_38_1_EP_RAF_ENP\n",
      "  064_38_2_EP_RAF_ENP_ch2\n",
      "  064_38_2_RAF_EP_ENP_ch1\n",
      "  022_3_4_RAF_EP_ENP\n",
      "  024_38_5_EP_ENP_RAF\n"
     ]
    }
   ],
   "source": [
    "data_dict=rnlt.read_in_all_instances(path)"
   ]
  },
  {
   "cell_type": "markdown",
   "metadata": {},
   "source": [
    "Wir übernehmen ein wenig Code aus dem vorherigen Notebook. Wie zuvor beschaffen wir uns eine Testinstanz, berechnen eine greedy-Lösung und laden auch noch die Renault-Lösung."
   ]
  },
  {
   "cell_type": "code",
   "execution_count": 4,
   "metadata": {},
   "outputs": [],
   "source": [
    "def tweak(schedule):\n",
    "    n=len(schedule)\n",
    "    first=random.randint(0,n-1)\n",
    "    second=random.randint(0,n-1)\n",
    "    swap(schedule,(first,second))\n",
    "    return [first,second]\n",
    "\n",
    "def swap(schedule,positions):\n",
    "    first,second=positions\n",
    "    schedule[first],schedule[second]=schedule[second],schedule[first]\n",
    "\n",
    "sample_instance=data_dict['024_38_5_EP_RAF_ENP']\n",
    "greedy_schedule=rnlt.greedy(sample_instance)\n",
    "greedy_cost=rnlt.compute_objective(greedy_schedule,sample_instance)\n",
    "renault_schedule=sample_instance['renault_schedule']\n",
    "renault_cost=rnlt.compute_objective(renault_schedule,sample_instance)\n",
    "\n",
    "print(\"Kosten der greedy-Lösung: {}\".format(greedy_cost))"
   ]
  },
  {
   "cell_type": "markdown",
   "metadata": {},
   "source": [
    "## 5. Aufgabe: Lokale Suche\n",
    "\n",
    "hill climbing bricht ab, wenn keine Verbesserung mehr gefunden wird. In meiner Implementation werden in jedem Schritt eine Anzahl <code>tries</code> von vielen zufälligen Schritten getestet -- wenn keiner von denen eine Verbesserung erbringt, bricht hill climbing ab. Drei Gründe kann es nun für den Abbruch geben: 1) das Optimum ist gefunden (super! wir sind glücklich), 2) ein lokales Optimum ist erreicht, kein lokaler Schritt kann eine Verbesserung bewirken (hmmm), 3) eine lokale Verbesserung wäre möglich, wurde aber nicht gefunden (uuh). Wie können wir die Szenarien 2) und 3) umgehen? Die Anzahl der Versuche für die lokalen Schritte (der Parameter <code>tries</code>) könnte massiv erhöht werden -- das führt aber dazu, dass der Algorithmus eine hohe Laufzeit hat, da jeder Schritt viel Zeit benötigt. Was kann also getan werden? Und wie kann man einem lokalen Optimum entweichen? Experimentieren Sie!\n",
    "\n",
    "Algorithmen der lokalen Suche können leicht endlos laufen. Zweckmäßigerweise gibt man ihnen daher ein Zeitbudget: Sie laufen bis die Zeit aufgebraucht ist und dann liefern sie die beste Lösung zurück, die sie im Verlauf besucht haben."
   ]
  },
  {
   "cell_type": "code",
   "execution_count": null,
   "metadata": {},
   "outputs": [],
   "source": [
    "def local_search(schedule,instance,tries=20,time_budget=60,record_cost=False):\n",
    "    start_time=time.time()\n",
    "    best_tracker=rnlt.Best_Tracker()\n",
    "    current_cost=rnlt.compute_objective(schedule,instance)\n",
    "    cost_record=[current_cost]\n",
    "    while time.time()-start_time<time_budget:\n",
    "        step_tracker=rnlt.Best_Tracker()\n",
    "        ### Fügen Sie Ihren Code hier ein ###\n",
    "        ### Ende Einfügung ###\n",
    "        if record_cost:\n",
    "            cost_record.append(best_tracker.best_cost)\n",
    "    if record_cost:\n",
    "        return best_tracker.best,best_tracker.best_cost,cost_record\n",
    "    return best_tracker.best,best_tracker.best_cost\n",
    "\n",
    "time_budget=60\n",
    "new_schedule,cost,cost_record=down_if_no_way_up(greedy_schedule.copy(),sample_instance,time_budget=time_budget,tries=50,record_cost=True)\n",
    "rnlt.check_for_completeness(new_schedule,sample_instance)\n",
    "down_cost=rnlt.compute_objective(new_schedule,sample_instance)\n",
    "\n",
    "print(\"Kosten local search: {}\".format(down_cost))\n",
    "print(\"Kosten Renault     : {}\".format(renault_cost))\n",
    "print(\"Zeitbudget         : {}s\".format(time_budget))"
   ]
  },
  {
   "cell_type": "code",
   "execution_count": 13,
   "metadata": {},
   "outputs": [
    {
     "name": "stdout",
     "output_type": "stream",
     "text": [
      "Reihung vollständig!\n",
      "Kosten local search: 153627461.0\n",
      "Kosten Renault     : 96467092.0\n",
      "Zeitbudget         : 60s\n"
     ]
    }
   ],
   "source": [
    "def down_if_no_way_up(schedule,instance,tries=20,time_budget=60,record_cost=False):\n",
    "    start_time=time.time()\n",
    "    best_tracker=rnlt.Best_Tracker()\n",
    "    current_cost=rnlt.compute_objective(schedule,instance)\n",
    "    cost_record=[current_cost]\n",
    "    while time.time()-start_time<time_budget:\n",
    "        step_tracker=rnlt.Best_Tracker()\n",
    "        for _ in range(tries):\n",
    "            positions=tweak(schedule)\n",
    "            cost=rnlt.compute_objective(schedule,instance)\n",
    "            step_tracker.update(positions,cost)\n",
    "            swap(schedule,positions)\n",
    "        positions=step_tracker.best   ## accept even if it's worse than previous solution\n",
    "        swap(schedule,positions)\n",
    "        current_cost=step_tracker.best_cost\n",
    "        best_tracker.update(schedule,current_cost)\n",
    "        if record_cost:\n",
    "            cost_record.append(best_tracker.best_cost)\n",
    "            \n",
    "    if record_cost:\n",
    "        return best_tracker.best,best_tracker.best_cost,cost_record\n",
    "    return best_tracker.best,best_tracker.best_cost\n",
    "\n",
    "time_budget=60\n",
    "new_schedule,cost,cost_record=down_if_no_way_up(greedy_schedule.copy(),sample_instance,time_budget=time_budget,tries=50,record_cost=True)\n",
    "rnlt.check_for_completeness(new_schedule,sample_instance)\n",
    "down_cost=rnlt.compute_objective(new_schedule,sample_instance)\n",
    "\n",
    "print(\"Kosten local search: {}\".format(down_cost))\n",
    "print(\"Kosten Renault     : {}\".format(renault_cost))\n",
    "print(\"Zeitbudget         : {}s\".format(time_budget))"
   ]
  },
  {
   "cell_type": "code",
   "execution_count": 14,
   "metadata": {},
   "outputs": [
    {
     "data": {
      "text/plain": [
       "<matplotlib.legend.Legend at 0x7f474036dc70>"
      ]
     },
     "execution_count": 14,
     "metadata": {},
     "output_type": "execute_result"
    },
    {
     "data": {
      "image/png": "[encoded data removed]",
      "text/plain": [
       "<Figure size 576x396 with 1 Axes>"
      ]
     },
     "metadata": {},
     "output_type": "display_data"
    }
   ],
   "source": [
    "plt.plot(cost_record,label=\"local search\")\n",
    "plt.xlabel(\"Schritt\")\n",
    "plt.ylabel(\"Kosten\")\n",
    "plt.plot([renault_cost]*len(cost_record),\"r\",linewidth=2,label=\"Renault\")\n",
    "plt.title(\"local search\")\n",
    "plt.legend()"
   ]
  },
  {
   "cell_type": "code",
   "execution_count": null,
   "metadata": {},
   "outputs": [],
   "source": [
    "plot_options_and_colours(new_schedule,sample_instance)"
   ]
  },
  {
   "cell_type": "code",
   "execution_count": 18,
   "metadata": {},
   "outputs": [
    {
     "name": "stdout",
     "output_type": "stream",
     "text": [
      "Reihung vollständig!\n",
      "Kosten local search: 205595505.0\n",
      "Kosten Renault     : 96467092.0\n",
      "Zeitbudget         : 60s\n"
     ]
    }
   ],
   "source": [
    "def accept_first(schedule,instance,tries=20,time_budget=60,record_cost=False):\n",
    "    start_time=time.time()\n",
    "    best_tracker=rnlt.Best_Tracker()\n",
    "    current_cost=rnlt.compute_objective(schedule,instance)\n",
    "    cost_record=[current_cost]\n",
    "    while time.time()-start_time<time_budget:\n",
    "        step_tracker=rnlt.Best_Tracker()\n",
    "        for _ in range(tries):\n",
    "            positions=tweak(schedule)\n",
    "            cost=rnlt.compute_objective(schedule,instance)\n",
    "            step_tracker.update(positions,cost)\n",
    "            if best_tracker.update(schedule,cost):\n",
    "                break\n",
    "            swap(schedule,positions)\n",
    "        positions=step_tracker.best   ## accept even if it's worse than previous solution\n",
    "        swap(schedule,positions)\n",
    "        current_cost=step_tracker.best_cost\n",
    "        if record_cost:\n",
    "            cost_record.append(best_tracker.best_cost)\n",
    "            \n",
    "    if record_cost:\n",
    "        return best_tracker.best,best_tracker.best_cost,cost_record\n",
    "    return best_tracker.best,best_tracker.best_cost\n",
    "\n",
    "time_budget=60\n",
    "new_schedule,cost,cost_record=accept_first(greedy_schedule.copy(),sample_instance,time_budget=time_budget,tries=50,record_cost=True)\n",
    "rnlt.check_for_completeness(new_schedule,sample_instance)\n",
    "acc_cost=rnlt.compute_objective(new_schedule,sample_instance)\n",
    "\n",
    "print(\"Kosten local search: {}\".format(acc_cost))\n",
    "print(\"Kosten Renault     : {}\".format(renault_cost))\n",
    "print(\"Zeitbudget         : {}s\".format(time_budget))"
   ]
  },
  {
   "cell_type": "code",
   "execution_count": 19,
   "metadata": {},
   "outputs": [
    {
     "data": {
      "text/plain": [
       "<matplotlib.legend.Legend at 0x7f47402fed00>"
      ]
     },
     "execution_count": 19,
     "metadata": {},
     "output_type": "execute_result"
    },
    {
     "data": {
      "image/png": "[encoded data removed]",
      "text/plain": [
       "<Figure size 576x396 with 1 Axes>"
      ]
     },
     "metadata": {},
     "output_type": "display_data"
    }
   ],
   "source": [
    "plt.plot(cost_record,label=\"local search\")\n",
    "plt.xlabel(\"Schritt\")\n",
    "plt.ylabel(\"Kosten\")\n",
    "plt.plot([renault_cost]*len(cost_record),\"r\",linewidth=2,label=\"Renault\")\n",
    "plt.title(\"local search -- nimm erste Verbesserung\")\n",
    "plt.legend()"
   ]
  }
 ],
 "metadata": {
  "kernelspec": {
   "display_name": "Python 3",
   "language": "python",
   "name": "python3"
  },
  "language_info": {
   "codemirror_mode": {
    "name": "ipython",
    "version": 3
   },
   "file_extension": ".py",
   "mimetype": "text/x-python",
   "name": "python",
   "nbconvert_exporter": "python",
   "pygments_lexer": "ipython3",
   "version": "3.8.8"
  }
 },
 "nbformat": 4,
 "nbformat_minor": 4
}
