{
 "cells": [
  {
   "cell_type": "markdown",
   "metadata": {},
   "source": [
    "# Renault car sequencing I -- Exploration\n",
    "\n",
    "Version 14/05/22\n",
    "\n",
    "Herkunft von Problem und Daten:\n",
    "https://www.roadef.org/challenge/2005/en/\n",
    "\n",
    "\n",
    "Wir importieren ein paar Pakete. (Nicht alle brauchen wir hier.) \n",
    "<ul>\n",
    "    <li><code>numpy</code>: wissenschaftliche Bibliothek, im wesentlichen für die array-Klasse</li>\n",
    "    <li><code>matplotlib</code>: Visualisierungsfunktionen</li>\n",
    "    <li><code>math</code>: mathematische Funktionen</li>\n",
    "</ul>"
   ]
  },
  {
   "cell_type": "code",
   "execution_count": null,
   "metadata": {},
   "outputs": [],
   "source": [
    "import numpy as np\n",
    "import matplotlib.pyplot as plt\n",
    "import math\n",
    "\n",
    "plt.style.use(\"seaborn\")  ## plots sehen so ein bisschen schöner aus"
   ]
  },
  {
   "cell_type": "markdown",
   "metadata": {},
   "source": [
    "Als nächstes werden die Instanzdaten gelesen und eine Bibliothek (<code>rnlt</code>, kurz für *Renault*) mit Hilfscode (data handling und Visualisierung) importiert. Weiterhin werden die Instanzdaten und <code>rnlt</code> automatisch heruntergeladen -- dies funktioniert so wie es dort steht unter Google Colab und unter Linux (evtl auch iOs). Wenn Sie den Code auf einem Windows-Rechner lokal ausführen wollen, dann laden Sie die Instanzdaten unter (https://www.roadef.org/challenge/2005/files/Instances_set_A.zip)(https://www.roadef.org/challenge/2005/files/Instances_set_A.zip) herunter, dann entpacken Sie die Daten und speichern Sie die Daten und <code>rnlt.py</code> im gleichen Ordner wie dieses juypter-Notebook. Weiterhin müssen Sie die ersten drei Zeilen auskommentieren."
   ]
  },
  {
   "cell_type": "code",
   "execution_count": null,
   "metadata": {},
   "outputs": [],
   "source": [
    "!wget -q https://www.roadef.org/challenge/2005/files/Instances_set_A.zip\n",
    "!unzip -q Instances_set_A.zip\n",
    "!wget -q https://raw.githubusercontent.com/henningbruhn/mobp/main/sequencing_aufgabe/rnlt.py\n",
    "\n",
    "# Pfad zu den gespeicherten Instanzen -- ersetzen Sie das evtl durch den entsprechenden Pfad bei Ihnen\n",
    "#path=\"RENAULT/Instances_set_A/\"   \n",
    "path=\"Instances/\"\n",
    "\n",
    "import rnlt"
   ]
  },
  {
   "cell_type": "markdown",
   "metadata": {},
   "source": [
    "## Methoden zum Einlesen aller Instanzen\n",
    "\n",
    "Die Daten bestehen aus eine Reihe von Instanzen. Jede Instanz umfasst die Produktion an einem Tag in einer Fertigungsstätte. Renault verfügt über mehrere Fertigungsstätten. Entsprechend können sich die Instanzen unterscheiden.\n",
    "Alle Instanzen unter path werden mit der Hilfsfunktion <code>read_in_all_instances</code> aus <code>rnlt</code> in das dictionary <code>data_dict</code> eingelesen. "
   ]
  },
  {
   "cell_type": "code",
   "execution_count": null,
   "metadata": {},
   "outputs": [],
   "source": [
    "data_dict=rnlt.read_in_all_instances(path)"
   ]
  },
  {
   "cell_type": "markdown",
   "metadata": {},
   "source": [
    "Wir gucken uns nun eine Instanz an. Jede Instanz ist wiederum ein dictionary und hält verschiedene Daten bereit. Mit <code>dictionary.keys()</code> erhalten wir eine Liste der im dictionary abgespeicherten Schlüsselwörter."
   ]
  },
  {
   "cell_type": "code",
   "execution_count": null,
   "metadata": {},
   "outputs": [],
   "source": [
    "sample_instance=data_dict['064_38_2_EP_RAF_ENP_ch1']\n",
    "sample_instance.keys()"
   ]
  },
  {
   "cell_type": "markdown",
   "metadata": {},
   "source": [
    "Gucken wir uns die verschiedenen Einträge an. <code>'name'</code> ist, wenig überraschend, der Name der Instanz."
   ]
  },
  {
   "cell_type": "code",
   "execution_count": null,
   "metadata": {},
   "outputs": [],
   "source": [
    "sample_instance['name']"
   ]
  },
  {
   "cell_type": "markdown",
   "metadata": {},
   "source": [
    "Der Eintrag <code>'current_day'</code> enthält die Fahrzeuge, die gereiht werden müssen."
   ]
  },
  {
   "cell_type": "code",
   "execution_count": null,
   "metadata": {},
   "outputs": [],
   "source": [
    "sample_instance['current_day'][:10]  ## nur die ersten 10 Einträge"
   ]
  },
  {
   "cell_type": "markdown",
   "metadata": {},
   "source": [
    "Was wir sehen: die Id-Nummern der Fahrzeuge. In der Liste sind aber tatsächlich die Fahrzeuge gespeichert, und zwar als Objekte. Betrachten wir ein Fahrzeug."
   ]
  },
  {
   "cell_type": "code",
   "execution_count": null,
   "metadata": {},
   "outputs": [],
   "source": [
    "car=sample_instance['current_day'][42]\n",
    "print(\"Fahrzeug Id-Nr {} hat Farbe {}\".format(car.ident,car.colour))\n",
    "print(\"Es sollen folgende Optionen verbaut werden: {}\".format(car.options))"
   ]
  },
  {
   "cell_type": "markdown",
   "metadata": {},
   "source": [
    "Dh jeder Eintrag <code>car</code> in der Liste <code>sample_instance['current_day']</code> hat die Eigenschaften\n",
    "<ul>\n",
    "    <li><code>car.ident</code>: die Id-Nr</li>\n",
    "    <li><code>car.colour</code>: die Farbe</li>\n",
    "    <li><code>car.options</code>: die zu verbauenden Optionen</li>\n",
    "</ul>\n",
    "\n",
    "Mit <code>print</code> können diese Eigenschaft direkt ausgegeben werden."
   ]
  },
  {
   "cell_type": "code",
   "execution_count": null,
   "metadata": {},
   "outputs": [],
   "source": [
    "print(sample_instance['current_day'][6])"
   ]
  },
  {
   "cell_type": "markdown",
   "metadata": {},
   "source": [
    "Weiterhin enthält die Instanz Information zu den $p/q$-Bedinungen, abgespeichert als dictionary. Die Einträge sind jeweils als <code>(p,q)</code> abgelegt."
   ]
  },
  {
   "cell_type": "code",
   "execution_count": null,
   "metadata": {},
   "outputs": [],
   "source": [
    "sample_instance['ratios']"
   ]
  },
  {
   "cell_type": "markdown",
   "metadata": {},
   "source": [
    "Renault hat jeweils bereits eine Reihung algorithmisch ermittelt. Zum Vergleich können wir sie heranziehen. Wir wollen natürlich besser sein."
   ]
  },
  {
   "cell_type": "code",
   "execution_count": null,
   "metadata": {},
   "outputs": [],
   "source": [
    "sample_instance['renault_schedule'][:10]  ## wir zeigen nur die ersten 10 Einträge an"
   ]
  },
  {
   "cell_type": "markdown",
   "metadata": {},
   "source": [
    "Es folgen zwei weitere Parameter: das paint_batch_limit und die Gewichtung der Ziele"
   ]
  },
  {
   "cell_type": "code",
   "execution_count": null,
   "metadata": {},
   "outputs": [],
   "source": [
    "sample_instance['paint_batch_limit']"
   ]
  },
  {
   "cell_type": "code",
   "execution_count": null,
   "metadata": {},
   "outputs": [],
   "source": [
    "sample_instance['weights']"
   ]
  },
  {
   "cell_type": "markdown",
   "metadata": {},
   "source": [
    "Dies ist so zu lesen: Größte Priorität bei der Optimierung wird den high-priority Optionen zugewiesen, dann folgt die Zahl der Farbwechsel und schließlich die low-priority Optionen. \n",
    "\n",
    "Um das Ziel der Optimierung besser für den/die Anwender/in zu verdeutlichen, gibt's auch noch eine Methode:"
   ]
  },
  {
   "cell_type": "code",
   "execution_count": null,
   "metadata": {},
   "outputs": [],
   "source": [
    "rnlt.prio_string(sample_instance)"
   ]
  },
  {
   "cell_type": "markdown",
   "metadata": {},
   "source": [
    "## 1. Aufgabe: Exploration der Instanzen\n",
    "\n",
    "Bevor der erste Algorithmus formuliert wird, sollten die Daten gesichtet werden. Manchmal ergibt sich die eine oder andere Überraschung: ein Aspekt des Problems ist anders als vom Anwender dargestellt, andere Aspekte erweisen sich als unwichtig, da sie kaum vorkommen usw. Wichtig ist es auch, eine Idee vom Umfang des Problems zu erhalten. Wie groß sind überhaupt die Instanzen?\n",
    "\n",
    "Überlegen Sie sich, welche Daten Sie über die Instanzen erheben wollen. Betrachten Sie einzelne Instanzen und aber auch die Gesamtheit der Instanzen. Welche Daten können Ihnen Einblicke in das Problem verschaffen? Beispielhaft listen wir als erstes die Instanzgrößen auf, dh, wie viele Fahrzeuge jeweils produziert werden sollen:"
   ]
  },
  {
   "cell_type": "code",
   "execution_count": null,
   "metadata": {},
   "outputs": [],
   "source": [
    "sizes=[len(instance['current_day']) for instance in data_dict.values()]\n",
    "sorted(sizes)"
   ]
  },
  {
   "cell_type": "markdown",
   "metadata": {},
   "source": [
    "Und jetzt Sie! Lassen Sie sich das <code>paint_batch_limit</code> über alle Instanzen ausgeben. Gucken Sie welche Optimierungsziele vorgeschrieben werden. Nehmen Sie sich eine, zwei Instanzen und zählen Sie wie oft jede Farbe und jedes Extra vorkommt. Gibt es weitere Kennzahlen, die nützlich wären?"
   ]
  },
  {
   "cell_type": "code",
   "execution_count": null,
   "metadata": {},
   "outputs": [],
   "source": [
    "### Fügen Sie Ihren Code hier ein ###"
   ]
  }
 ],
 "metadata": {
  "kernelspec": {
   "display_name": "Python 3",
   "language": "python",
   "name": "python3"
  },
  "language_info": {
   "codemirror_mode": {
    "name": "ipython",
    "version": 3
   },
   "file_extension": ".py",
   "mimetype": "text/x-python",
   "name": "python",
   "nbconvert_exporter": "python",
   "pygments_lexer": "ipython3",
   "version": "3.8.8"
  }
 },
 "nbformat": 4,
 "nbformat_minor": 4
}
