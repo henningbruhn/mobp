{
 "cells": [
  {
   "cell_type": "markdown",
   "metadata": {},
   "source": [
    "# Electric Vehicle Routing Problem 1 -- Zielfunktion und Datenstruktur\n",
    "\n",
    "Website des Wettbewerbs: https://mavrovouniotis.github.io/EVRPcompetition2020/\n",
    "\n",
    "Problembeschreibung: https://mavrovouniotis.github.io/EVRPcompetition2020/TR-EVRP-Competition.pdf\n",
    "\n",
    "\n",
    "Wenn Sie den Code in colab ausführen, dann müssen Sie **nichts** weiter tun: Data und Helfercode werden automatisch herunter geladen. Wenn Sie auf Ihrem eigenen Laptop arbeiten, laden Sie Daten und Helfercode unter \n",
    "* Daten: https://mavrovouniotis.github.io/EVRPcompetition2020/evrp-benchmark-set.zip\n",
    "* Helfercode: https://raw.githubusercontent.com/henningbruhn/mobp/main/vrp_aufgabe/evrp.py\n",
    "\n",
    "herunter, entpacken Sie die Daten und speichern Sie die Daten in einem Verzeichnis namens <code>data</code>. Das Verzeichnis <code>data</code> sowie <code>evrp.py</code> müssen im gleichen Verzeichnis wie dieses Notebook liegen. Kommentieren Sie schließlich die markierten Zeilen in der nächsten Zelle aus."
   ]
  },
  {
   "cell_type": "code",
   "execution_count": null,
   "metadata": {},
   "outputs": [],
   "source": [
    "import random\n",
    "import math\n",
    "import matplotlib.pyplot as plt\n",
    "import numpy as np\n",
    "import time\n",
    "\n",
    "path=\"data\"\n",
    "\n",
    "#### Wenn Sie den Code auf dem eigenen Laptop ausführen, kommentieren Sie die folgenden Zeilen aus ####\n",
    "# download visualisation and helper code\n",
    "!wget -q https://raw.githubusercontent.com/henningbruhn/mobp/main/vrp_aufgabe/evrp.py\n",
    "\n",
    "# download and unpack instance data\n",
    "!wget -q https://mavrovouniotis.github.io/EVRPcompetition2020/evrp-benchmark-set.zip\n",
    "!unzip -qo evrp-benchmark-set.zip -d data\n",
    "#### Ende auskommentieren ####\n",
    "\n",
    "import evrp"
   ]
  },
  {
   "cell_type": "markdown",
   "metadata": {},
   "source": [
    "Wir lesen die Instanzen ein und lassen uns die Namen der Instanzen ausgeben."
   ]
  },
  {
   "cell_type": "code",
   "execution_count": null,
   "metadata": {},
   "outputs": [],
   "source": [
    "instances=evrp.read_in_all_instances(path)\n",
    "for key in instances.keys():\n",
    "    print(\"{:12} -> {:4} Kunden\".format(key,instances[key].num_customers))"
   ]
  },
  {
   "cell_type": "markdown",
   "metadata": {},
   "source": [
    "Wir picken uns eine der kleinen Instanzen heraus und lassen uns die Instanz anzeigen."
   ]
  },
  {
   "cell_type": "code",
   "execution_count": null,
   "metadata": {},
   "outputs": [],
   "source": [
    "inst=instances['E-n33-k4']\n",
    "evrp.show(inst)"
   ]
  },
  {
   "cell_type": "markdown",
   "metadata": {},
   "source": [
    "Das <code>inst</code>-Objekt speichert alle Daten der Instanz. Insbesondere verfügt es über Listen <code>customers</code> und <code>stations</code>. Die Kunden und Ladestationen sind einfach durchnummeriert. Das Depot trägt die Nummer 1 und gilt ebenfalls als Ladestation."
   ]
  },
  {
   "cell_type": "code",
   "execution_count": null,
   "metadata": {},
   "outputs": [],
   "source": [
    "print(\"ersten 10 Kunden: {}\".format(inst.customers[:10]))\n",
    "print(\"Ladestationen   : {}\".format(inst.stations))"
   ]
  },
  {
   "cell_type": "markdown",
   "metadata": {},
   "source": [
    "Wir können uns die 2d-Koordinaten jedes Kunden und jeder Station wie folgt ausgeben lassen (hier Station 37):"
   ]
  },
  {
   "cell_type": "code",
   "execution_count": null,
   "metadata": {},
   "outputs": [],
   "source": [
    "inst.nodes[37]"
   ]
  },
  {
   "cell_type": "markdown",
   "metadata": {},
   "source": [
    "Wir lassen uns alle Attribute des Instanzobjekts anzeigen:"
   ]
  },
  {
   "cell_type": "code",
   "execution_count": null,
   "metadata": {},
   "outputs": [],
   "source": [
    "print(inst)"
   ]
  },
  {
   "cell_type": "markdown",
   "metadata": {},
   "source": [
    "## Exploration der Daten\n",
    "\n",
    "Bei jeder datengetriebenen Fragestellung ist es unerlässlich, sich ein Überblick über die Daten zu verschaffen. Oben haben wir uns schon die Anzahl der Kunden pro Instanz auflisten lassen. Das ist sinnvoll, da wir so eine erste Idee der Schwere der Aufgabe erhalten. Welche weitere Kennzahlen sollten wir erheben? Hier sind zwei Vorschläge:\n",
    "* die durchschnittliche Anzahl an Kunden pro Tour (dh, pro Fahrzeug)\n",
    "* die Mindestzahl an benötigten Fahrzeuge und die tatsächlich vorhandene Anzahl\n",
    "\n",
    "Wie können wir die Mindestzahl abschätzen? Wir rechnen die Gesamtsumme des Bedarfs der Kunden zusammen und teilen durch die Kapazität des Fahrzeuge.\n",
    "\n",
    "Noch ein Tipp: Wenn Sie über die Instanzen iterieren wollen, können Sie dies so machen:\n",
    "\n",
    "```\n",
    "for instance in instances.values():\n",
    "  ...do something\n",
    "```\n",
    "\n",
    "Erheben Sie sinnvolle Kennzahlen!"
   ]
  },
  {
   "cell_type": "code",
   "execution_count": null,
   "metadata": {},
   "outputs": [],
   "source": [
    "### Fügen Sie Ihren Code hier ein ###"
   ]
  },
  {
   "cell_type": "markdown",
   "metadata": {},
   "source": [
    "## Touren\n",
    "\n",
    "Wie stellen wir eine Tour, also eine Lösung des Problems dar? Als Liste von Listen. Jedes Fahrzeug wird durch eine Liste repräsentiert, deren Einträge die angefahrenen Kunden bzw. Ladestationen widergeben. Gucken wir uns das mal an. Dazu erzeugen wir eine Zufallslösung mittels der Funktion <code>evrp.rnd_tour(instance, num_stations_insert=123)</code>. Dabei bestimmt der Parameter <code>num_stations_insert</code> wie viele Ladestation zufällig angefahren werden sollen."
   ]
  },
  {
   "cell_type": "code",
   "execution_count": null,
   "metadata": {},
   "outputs": [],
   "source": [
    "random_tour=evrp.rnd_tour(inst,num_stations_insert=3)\n",
    "random_tour"
   ]
  },
  {
   "cell_type": "markdown",
   "metadata": {},
   "source": [
    "Mit <code>evrp.tour_length(random_tour,inst)</code> können wir die Gesamtlänge der Tour bestimmen. Die Funktion <code>evrp.show</code> kann auch die Tour visualisieren."
   ]
  },
  {
   "cell_type": "code",
   "execution_count": null,
   "metadata": {},
   "outputs": [],
   "source": [
    "length=evrp.tour_length(random_tour,inst)\n",
    "print(\"Gesamtlänge der Touren: {:.1f}\".format(length))\n",
    "evrp.show(inst,tour=random_tour)"
   ]
  },
  {
   "cell_type": "markdown",
   "metadata": {},
   "source": [
    "Wir sehen: Die Zufallslösung ist nicht zulässig. Vielleicht war das einfach nur Pech? Erzeugen Sie 1000 Zufallstouren und bestimmen Sie wie viele davon zulässig sind (also die Laderaum- und Batteriekapazität nicht überschreiten). Nutzen Sie dazu die Funktion <code>evrp.validate(tour,instance)</code>, die <code>True</code> zurück liefert, wenn <code>tour</code> zulässig ist. \n",
    "\n",
    "Ist die Erzeugung von Zufallslösungen vielversprechend um eine gute Lösungen zu produzieren?"
   ]
  },
  {
   "cell_type": "code",
   "execution_count": null,
   "metadata": {},
   "outputs": [],
   "source": [
    "### Fügen Sie Ihren Code hier ein ###"
   ]
  },
  {
   "cell_type": "markdown",
   "metadata": {},
   "source": [
    "## Zielfunktion\n",
    "\n",
    "Unten sind drei Touren (Lösungen) bereit gestellt. Zwei davon sind nicht zulässig. Wenn wir die Qualität der Touren beurteilen wollen, also eine Zielfunktion aufstellen, so wird die zulässige Tour die höchste Qualität haben (kleinsten Zielfunktionswert). Wie aber unterscheiden wir die Qualität der beiden unzulässigen Touren? Stellen Sie eine Zielfunktion auf, die die drei Touren in eine sinnvolle Reihenfolge bringt. \n",
    "\n",
    "Nützlich dazu sind die folgenden Funktionen:\n",
    "* <code>evrp.tour_length(tour,inst)</code>: Die Gesamtlänge der Tour.\n",
    "* <code>evrp.compute_loads(tour,inst)</code>: Eine Liste mit einem Eintrag pro Fahrzeug; jeder Eintrag ist der Gesamtbedarf der Kunden, die dem Fahrzeug zugeordnet sind.\n",
    "* <code>evrp.compute_charge_lvls(tour,inst)</code>: Eine Liste von Listen, gibt den Batterieladungsstand jedes Fahrzeugs bei jedem Kunden an. Negative Ladungsstände zeigen an, dass die Reichweite überschritten ist."
   ]
  },
  {
   "cell_type": "code",
   "execution_count": null,
   "metadata": {},
   "outputs": [],
   "source": [
    "tour1=evrp.sample1()\n",
    "tour2=evrp.sample2()\n",
    "tour3=evrp.sample3()"
   ]
  },
  {
   "cell_type": "code",
   "execution_count": null,
   "metadata": {},
   "outputs": [],
   "source": [
    "### Fügen Sie Ihren Code hier ein ###"
   ]
  }
 ],
 "metadata": {
  "kernelspec": {
   "display_name": "Python 3 (ipykernel)",
   "language": "python",
   "name": "python3"
  },
  "language_info": {
   "codemirror_mode": {
    "name": "ipython",
    "version": 3
   },
   "file_extension": ".py",
   "mimetype": "text/x-python",
   "name": "python",
   "nbconvert_exporter": "python",
   "pygments_lexer": "ipython3",
   "version": "3.10.10"
  }
 },
 "nbformat": 4,
 "nbformat_minor": 4
}
